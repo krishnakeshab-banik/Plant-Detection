{
  "nbformat": 4,
  "nbformat_minor": 0,
  "metadata": {
    "colab": {
      "provenance": [],
      "gpuType": "T4"
    },
    "kernelspec": {
      "name": "python3",
      "display_name": "Python 3"
    },
    "language_info": {
      "name": "python"
    },
    "accelerator": "GPU"
  },
  "cells": [
    {
      "cell_type": "code",
      "source": [
        "import cv2\n",
        "import matplotlib.pyplot as plt\n",
        "import os\n"
      ],
      "metadata": {
        "id": "_LpruEtLW9l9"
      },
      "execution_count": 1,
      "outputs": []
    },
    {
      "cell_type": "code",
      "execution_count": 3,
      "metadata": {
        "colab": {
          "base_uri": "https://localhost:8080/"
        },
        "id": "O0BxnysUMWB2",
        "outputId": "a53d7dc2-062c-490b-b076-df3c7697eae2"
      },
      "outputs": [
        {
          "output_type": "stream",
          "name": "stdout",
          "text": [
            "Mounted at /content/drive\n"
          ]
        }
      ],
      "source": [
        "from google.colab import drive\n",
        "drive.mount('/content/drive')"
      ]
    },
    {
      "cell_type": "code",
      "source": [
        "!mkdir -p /content/plant_detection"
      ],
      "metadata": {
        "id": "FIc2TSEbMc_f"
      },
      "execution_count": 4,
      "outputs": []
    },
    {
      "cell_type": "code",
      "source": [
        "!ls /content/drive/MyDrive"
      ],
      "metadata": {
        "colab": {
          "base_uri": "https://localhost:8080/"
        },
        "id": "vsR6mctVMl6R",
        "outputId": "b29ad068-98f5-4a44-faa7-0c9a61d5271c"
      },
      "execution_count": 5,
      "outputs": [
        {
          "output_type": "stream",
          "name": "stdout",
          "text": [
            "'CHAKSHU FINALIZED-520.mp4'  'Plant Detection.v1i.yolov11 (1).zip'\n",
            "'Colab Notebooks'\n"
          ]
        }
      ]
    },
    {
      "cell_type": "code",
      "source": [
        "!unzip \"/content/drive/MyDrive/Plant Detection.v1i.yolov11 (1).zip\" -d /content/plant_detection\n"
      ],
      "metadata": {
        "colab": {
          "base_uri": "https://localhost:8080/"
        },
        "id": "oO_Qq1ojMnEO",
        "outputId": "7fbbfae0-5663-4612-f9ce-801074974c14"
      },
      "execution_count": 6,
      "outputs": [
        {
          "output_type": "stream",
          "name": "stdout",
          "text": [
            "Archive:  /content/drive/MyDrive/Plant Detection.v1i.yolov11 (1).zip\n",
            "  inflating: /content/plant_detection/README.dataset.txt  \n",
            "  inflating: /content/plant_detection/README.roboflow.txt  \n",
            "  inflating: /content/plant_detection/data.yaml  \n",
            "   creating: /content/plant_detection/test/\n",
            "   creating: /content/plant_detection/test/images/\n",
            " extracting: /content/plant_detection/test/images/181_jpg.rf.d0109e712764f895f45c19d025792917.jpg  \n",
            " extracting: /content/plant_detection/test/images/205_jpg.rf.0d1af251db4d0db8f30ec10013596edf.jpg  \n",
            " extracting: /content/plant_detection/test/images/209_jpg.rf.7245271bb881faedfcde59424e080b0a.jpg  \n",
            " extracting: /content/plant_detection/test/images/225_jpg.rf.d2b01c0398c4a0f83ddca47cfb401db5.jpg  \n",
            " extracting: /content/plant_detection/test/images/22_jpg.rf.f1620e184b638f5a9704cf530a7294bb.jpg  \n",
            " extracting: /content/plant_detection/test/images/240_jpg.rf.51590dde70dd5542c567571a89def131.jpg  \n",
            " extracting: /content/plant_detection/test/images/246_jpg.rf.508ae47def11b2f8d0bd7b454f7d5032.jpg  \n",
            " extracting: /content/plant_detection/test/images/42_jpg.rf.ca827dd7e1cc51ec65ccf52b05e659c3.jpg  \n",
            " extracting: /content/plant_detection/test/images/4_jpg.rf.3d2cf3dda57cbb2972aa4847a9c8b95a.jpg  \n",
            " extracting: /content/plant_detection/test/images/b36_jpg.rf.577a3e3407b7bf1a424b9d7f8bb9ed14.jpg  \n",
            " extracting: /content/plant_detection/test/images/b4_jpg.rf.9bd9af4631a30eafcd8d7f04ca2b8ea7.jpg  \n",
            " extracting: /content/plant_detection/test/images/b7_jpg.rf.fd4d33ef30449942ea59919c50cb06f6.jpg  \n",
            "   creating: /content/plant_detection/test/labels/\n",
            "  inflating: /content/plant_detection/test/labels/181_jpg.rf.d0109e712764f895f45c19d025792917.txt  \n",
            "  inflating: /content/plant_detection/test/labels/205_jpg.rf.0d1af251db4d0db8f30ec10013596edf.txt  \n",
            "  inflating: /content/plant_detection/test/labels/209_jpg.rf.7245271bb881faedfcde59424e080b0a.txt  \n",
            "  inflating: /content/plant_detection/test/labels/225_jpg.rf.d2b01c0398c4a0f83ddca47cfb401db5.txt  \n",
            "  inflating: /content/plant_detection/test/labels/22_jpg.rf.f1620e184b638f5a9704cf530a7294bb.txt  \n",
            "  inflating: /content/plant_detection/test/labels/240_jpg.rf.51590dde70dd5542c567571a89def131.txt  \n",
            "  inflating: /content/plant_detection/test/labels/246_jpg.rf.508ae47def11b2f8d0bd7b454f7d5032.txt  \n",
            "  inflating: /content/plant_detection/test/labels/42_jpg.rf.ca827dd7e1cc51ec65ccf52b05e659c3.txt  \n",
            "  inflating: /content/plant_detection/test/labels/4_jpg.rf.3d2cf3dda57cbb2972aa4847a9c8b95a.txt  \n",
            "  inflating: /content/plant_detection/test/labels/b36_jpg.rf.577a3e3407b7bf1a424b9d7f8bb9ed14.txt  \n",
            "  inflating: /content/plant_detection/test/labels/b4_jpg.rf.9bd9af4631a30eafcd8d7f04ca2b8ea7.txt  \n",
            "  inflating: /content/plant_detection/test/labels/b7_jpg.rf.fd4d33ef30449942ea59919c50cb06f6.txt  \n",
            "   creating: /content/plant_detection/train/\n",
            "   creating: /content/plant_detection/train/images/\n",
            " extracting: /content/plant_detection/train/images/12_jpg.rf.2a52c729948bb761baebae0a4c337e96.jpg  \n",
            " extracting: /content/plant_detection/train/images/12_jpg.rf.5bc723b25d4eddb3d4329a97e0e0d93b.jpg  \n",
            " extracting: /content/plant_detection/train/images/12_jpg.rf.a9e3809583414926bdc2f0caa6941373.jpg  \n",
            " extracting: /content/plant_detection/train/images/13_jpg.rf.314ece61801a30c108f456dc35c312c3.jpg  \n",
            " extracting: /content/plant_detection/train/images/13_jpg.rf.dd9de573669531635e96978c7b55dc04.jpg  \n",
            " extracting: /content/plant_detection/train/images/13_jpg.rf.f590e6f25e081262c71a2ecfd5f4553e.jpg  \n",
            " extracting: /content/plant_detection/train/images/14_jpg.rf.80ca715265ad11219df141af2a0adce2.jpg  \n",
            " extracting: /content/plant_detection/train/images/14_jpg.rf.e370004e71b531d2f44c4bb1efac7216.jpg  \n",
            " extracting: /content/plant_detection/train/images/14_jpg.rf.f954d0ddfb84368c276e8af9b96f8662.jpg  \n",
            " extracting: /content/plant_detection/train/images/15_jpg.rf.0f844613f90af6e42b42c0447e936cb9.jpg  \n",
            " extracting: /content/plant_detection/train/images/15_jpg.rf.4ba3d2fdcafa5943fb8103a24538447d.jpg  \n",
            " extracting: /content/plant_detection/train/images/15_jpg.rf.a87eda0783139120e1b3e1335b506035.jpg  \n",
            " extracting: /content/plant_detection/train/images/17_jpg.rf.501b8264ff806420c0eb8fd015c5ec94.jpg  \n",
            " extracting: /content/plant_detection/train/images/17_jpg.rf.b36d1108fdca8242a0e9c052259d91d7.jpg  \n",
            " extracting: /content/plant_detection/train/images/17_jpg.rf.cb6cc8fae342c8699a4200d86788cf9b.jpg  \n",
            " extracting: /content/plant_detection/train/images/182_jpg.rf.9a59e748c46cee05aa955cfe762e8aad.jpg  \n",
            " extracting: /content/plant_detection/train/images/182_jpg.rf.c5abe33491ba63112e268775b67d6003.jpg  \n",
            " extracting: /content/plant_detection/train/images/182_jpg.rf.e23b90f0c88cbecea97c830e4b84aa1a.jpg  \n",
            " extracting: /content/plant_detection/train/images/183_jpg.rf.05c058a964133f589a4ca3120cdcc197.jpg  \n",
            " extracting: /content/plant_detection/train/images/183_jpg.rf.8ad320d5667456b8d2c36cbfb15dba62.jpg  \n",
            " extracting: /content/plant_detection/train/images/183_jpg.rf.959370a115a9fa144bcad823e73848c7.jpg  \n",
            " extracting: /content/plant_detection/train/images/185_jpg.rf.4884090cd4c635a05ccd817c8337d569.jpg  \n",
            " extracting: /content/plant_detection/train/images/185_jpg.rf.938f483d459b8ca17baf73bf08224f01.jpg  \n",
            " extracting: /content/plant_detection/train/images/185_jpg.rf.bb2776072000e35d412f3d1f0c0bfcf4.jpg  \n",
            " extracting: /content/plant_detection/train/images/187_jpg.rf.8b429b9ee7b3bba23c59a9ad42871bbd.jpg  \n",
            " extracting: /content/plant_detection/train/images/187_jpg.rf.b1a2e096a73ada37e45fb79afc52854e.jpg  \n",
            " extracting: /content/plant_detection/train/images/187_jpg.rf.b7655adce15cca7663fe23cb8921f524.jpg  \n",
            " extracting: /content/plant_detection/train/images/189_jpg.rf.377ef7cf9e0aa58e41c25f6bd4f9fcff.jpg  \n",
            " extracting: /content/plant_detection/train/images/189_jpg.rf.412381bbe2ff3c6447b1ccb50aac05df.jpg  \n",
            " extracting: /content/plant_detection/train/images/189_jpg.rf.5ba6a5e68fd4b822542ca487052ad20c.jpg  \n",
            " extracting: /content/plant_detection/train/images/18_jpg.rf.58e5e85676a4faf87bf184afb8d5f989.jpg  \n",
            " extracting: /content/plant_detection/train/images/18_jpg.rf.67085d2d3b047838caebe5d01ff68369.jpg  \n",
            " extracting: /content/plant_detection/train/images/18_jpg.rf.e5afcda0fdd921d6c5ade9e33b4a4dba.jpg  \n",
            " extracting: /content/plant_detection/train/images/190_jpg.rf.9a06de62a9fa924f5966bf3185ce6e86.jpg  \n",
            " extracting: /content/plant_detection/train/images/190_jpg.rf.b2c5d4a845b47092c6f4054dd1bb6d13.jpg  \n",
            " extracting: /content/plant_detection/train/images/190_jpg.rf.bf139855462925008433cf24e82f218b.jpg  \n",
            " extracting: /content/plant_detection/train/images/192_jpg.rf.198a5ef837ed3b7b80859ad050ee3a05.jpg  \n",
            " extracting: /content/plant_detection/train/images/192_jpg.rf.5dba4b15288f953e69fc6dff24e5f32f.jpg  \n",
            " extracting: /content/plant_detection/train/images/192_jpg.rf.ec85727197439b1efcf29750a80cfd8d.jpg  \n",
            " extracting: /content/plant_detection/train/images/193_jpg.rf.0ed4bf215fd8e3ffe40dacb720b50dfa.jpg  \n",
            " extracting: /content/plant_detection/train/images/193_jpg.rf.53f5169a4ee2b33049ec9110ed087113.jpg  \n",
            " extracting: /content/plant_detection/train/images/193_jpg.rf.d3007def7b7a4bf927bbe71f5cce4dee.jpg  \n",
            " extracting: /content/plant_detection/train/images/194_jpg.rf.62afa1ea4895b1e80ce2390c8d6fd3b6.jpg  \n",
            " extracting: /content/plant_detection/train/images/194_jpg.rf.97e5b66ddf18506aa5fda989759a7e2c.jpg  \n",
            " extracting: /content/plant_detection/train/images/194_jpg.rf.ac42e9592c9034bb763c72e914678750.jpg  \n",
            " extracting: /content/plant_detection/train/images/196_jpg.rf.07542d6013febe72dd21279c8d65e148.jpg  \n",
            " extracting: /content/plant_detection/train/images/196_jpg.rf.b57d019e43957012232f0c3af7ab492a.jpg  \n",
            " extracting: /content/plant_detection/train/images/196_jpg.rf.ec9214c46d3e4e0d17e4be46399e859a.jpg  \n",
            " extracting: /content/plant_detection/train/images/197_jpg.rf.0e6e0255a1155e10bf383f2d2a2cf04f.jpg  \n",
            " extracting: /content/plant_detection/train/images/197_jpg.rf.b44e17770c8f68deda16476b2879ef7a.jpg  \n",
            " extracting: /content/plant_detection/train/images/197_jpg.rf.f456209a83a275790a887d0eab0db33f.jpg  \n",
            " extracting: /content/plant_detection/train/images/198_jpg.rf.190d2c71d19b21ba9d4e482488bb36e8.jpg  \n",
            " extracting: /content/plant_detection/train/images/198_jpg.rf.2e74c6d07f079f9ae7eb3eb8e0df9362.jpg  \n",
            " extracting: /content/plant_detection/train/images/198_jpg.rf.5df1904295166dfc6f3ef55863924ae7.jpg  \n",
            " extracting: /content/plant_detection/train/images/1_jpg.rf.2e8476c97a5fd8c8dc7bc83fe1abca71.jpg  \n",
            " extracting: /content/plant_detection/train/images/1_jpg.rf.409140fb4babc0da607b5efb9a588e74.jpg  \n",
            " extracting: /content/plant_detection/train/images/1_jpg.rf.621c55122b7979d78fdcebe982a1e7f1.jpg  \n",
            " extracting: /content/plant_detection/train/images/200_jpg.rf.045958e7143d55058ce1f56a04b1e892.jpg  \n",
            " extracting: /content/plant_detection/train/images/200_jpg.rf.5a6c7ce773840fd35841fa558699ca24.jpg  \n",
            " extracting: /content/plant_detection/train/images/200_jpg.rf.a7e7b5c4cee67021e5154dcfba1e3298.jpg  \n",
            " extracting: /content/plant_detection/train/images/202_jpg.rf.38f80dca691ea56e67dc6b2e680f1f92.jpg  \n",
            " extracting: /content/plant_detection/train/images/202_jpg.rf.39f8b6a38625c1b0cfd96f4ab91bbd02.jpg  \n",
            " extracting: /content/plant_detection/train/images/202_jpg.rf.d8b120beb259c6df2a9e8dee7c93951c.jpg  \n",
            " extracting: /content/plant_detection/train/images/203_jpg.rf.270df0e62af62ac83b0fa003aaac277c.jpg  \n",
            " extracting: /content/plant_detection/train/images/203_jpg.rf.bb6dc5a3cdbcf4a82a80258a4f24cb0b.jpg  \n",
            " extracting: /content/plant_detection/train/images/203_jpg.rf.ded11fa75411f1cf27af005e6ff08526.jpg  \n",
            " extracting: /content/plant_detection/train/images/207_jpg.rf.3bc85412222cf088d8197e8895aeecda.jpg  \n",
            " extracting: /content/plant_detection/train/images/207_jpg.rf.52305f71e3f97320ceebce7bf213c482.jpg  \n",
            " extracting: /content/plant_detection/train/images/207_jpg.rf.678eb1f303446193cb0c3943722ea67c.jpg  \n",
            " extracting: /content/plant_detection/train/images/208_jpg.rf.19c40602f6b575996692335e3c62bda2.jpg  \n",
            " extracting: /content/plant_detection/train/images/208_jpg.rf.73555c5a33629034db08a2c89d2c09ec.jpg  \n",
            " extracting: /content/plant_detection/train/images/208_jpg.rf.7df600d53fe245a55784e4bf92b6cfc3.jpg  \n",
            " extracting: /content/plant_detection/train/images/20_jpg.rf.2499553737a3315c5dde81e9c612a27a.jpg  \n",
            " extracting: /content/plant_detection/train/images/20_jpg.rf.58db79f7614b43955107d481187ad86c.jpg  \n",
            " extracting: /content/plant_detection/train/images/20_jpg.rf.d381d83029029a6cdfbfdda944d0b5e1.jpg  \n",
            " extracting: /content/plant_detection/train/images/212_jpg.rf.800c325e0b758bf5ba39e068674af52e.jpg  \n",
            " extracting: /content/plant_detection/train/images/212_jpg.rf.b781a349d84ce4de4bfd03743ce289c1.jpg  \n",
            " extracting: /content/plant_detection/train/images/212_jpg.rf.e32867567c7ab56c900e61d043d67063.jpg  \n",
            " extracting: /content/plant_detection/train/images/214_jpg.rf.0211c10d9c77b78d95f7e812c9c87eb1.jpg  \n",
            " extracting: /content/plant_detection/train/images/214_jpg.rf.4efc83239d200f564170e526b998e0fc.jpg  \n",
            " extracting: /content/plant_detection/train/images/214_jpg.rf.c919ce3d88c780d753051e3fbf5fcf32.jpg  \n",
            " extracting: /content/plant_detection/train/images/219_jpeg.rf.01ac6ffe5375058d9ba9e236edefb30b.jpg  \n",
            " extracting: /content/plant_detection/train/images/219_jpeg.rf.46756967b9711a2fe000b1e7efbcd13d.jpg  \n",
            " extracting: /content/plant_detection/train/images/219_jpeg.rf.df7ace2caf7b67805887b9d9f115e47e.jpg  \n",
            " extracting: /content/plant_detection/train/images/21_jpg.rf.8fca3bbe176eef17c7602b5a27339d6a.jpg  \n",
            " extracting: /content/plant_detection/train/images/21_jpg.rf.a2474d918a071258048d81fdfd096f01.jpg  \n",
            " extracting: /content/plant_detection/train/images/21_jpg.rf.ee8343cc41821e51dfd0a23a598af4ce.jpg  \n",
            " extracting: /content/plant_detection/train/images/220_jpg.rf.4987c3f958c05b6f5cf298123b1d78e0.jpg  \n",
            " extracting: /content/plant_detection/train/images/220_jpg.rf.4bf857e79c14d2531fb30bea0b0c42ef.jpg  \n",
            " extracting: /content/plant_detection/train/images/220_jpg.rf.f0b80acad46035c149d9997962960ea9.jpg  \n",
            " extracting: /content/plant_detection/train/images/222_jpg.rf.809bc7e72cecf23a670550929a48db86.jpg  \n",
            " extracting: /content/plant_detection/train/images/222_jpg.rf.a5f42f96013a9a8592ae5c19db658185.jpg  \n",
            " extracting: /content/plant_detection/train/images/222_jpg.rf.d96b8f680ecd1636397bc175c7480a4d.jpg  \n",
            " extracting: /content/plant_detection/train/images/223_jpg.rf.3a9c2be1b59d39ef323c75e933fcf13c.jpg  \n",
            " extracting: /content/plant_detection/train/images/223_jpg.rf.f3e0a4659ca63ac05f4f202e66a5a436.jpg  \n",
            " extracting: /content/plant_detection/train/images/223_jpg.rf.f91b225c1b693724ac772c02a5b104aa.jpg  \n",
            " extracting: /content/plant_detection/train/images/226_jpg.rf.4cc01ce286cec9023275144a5d2f0935.jpg  \n",
            " extracting: /content/plant_detection/train/images/226_jpg.rf.8948e59d130fec6715426e2eb44caad9.jpg  \n",
            " extracting: /content/plant_detection/train/images/226_jpg.rf.9f0a9dbeb57ad664a53ba98622edc4dc.jpg  \n",
            " extracting: /content/plant_detection/train/images/230_jpg.rf.296a1955d89f8e02ec5e614ff6ca5cde.jpg  \n",
            " extracting: /content/plant_detection/train/images/230_jpg.rf.57c3455aadca4bb51dbd8731ba9f7033.jpg  \n",
            " extracting: /content/plant_detection/train/images/230_jpg.rf.799bc03ab8bdc3417a95f5c31deb5657.jpg  \n",
            " extracting: /content/plant_detection/train/images/232_jpg.rf.5f11af8c5a1c2b58023c873be5f0f61e.jpg  \n",
            " extracting: /content/plant_detection/train/images/232_jpg.rf.763842187996869b99333272a2a8fd4e.jpg  \n",
            " extracting: /content/plant_detection/train/images/232_jpg.rf.7a5b3a5973de85ecf98985f3ea302bac.jpg  \n",
            " extracting: /content/plant_detection/train/images/233_jpg.rf.1ae4ba683fcb660fff86546ff6431b64.jpg  \n",
            " extracting: /content/plant_detection/train/images/233_jpg.rf.43da85001e904dcf9d5f0e82a7266c5a.jpg  \n",
            " extracting: /content/plant_detection/train/images/233_jpg.rf.5b1c9db792b96af4cefea7200cdd5264.jpg  \n",
            " extracting: /content/plant_detection/train/images/235_jpg.rf.0ad744abc02a2dacf5da5fb51741bf42.jpg  \n",
            " extracting: /content/plant_detection/train/images/235_jpg.rf.8d0a87e9b3f333466fd58f07bc9ba74d.jpg  \n",
            " extracting: /content/plant_detection/train/images/235_jpg.rf.c13460312cf555b69df46d0daf0d43de.jpg  \n",
            " extracting: /content/plant_detection/train/images/236_jpg.rf.b028bf8c5c6a28d3e40831f44b0dd50a.jpg  \n",
            " extracting: /content/plant_detection/train/images/236_jpg.rf.b8fe05e03356850679a41c3d5734141b.jpg  \n",
            " extracting: /content/plant_detection/train/images/236_jpg.rf.fb2226a5ba437d9875b9397fe9fd5b65.jpg  \n",
            " extracting: /content/plant_detection/train/images/237_jpg.rf.04ac71f9162b2aea9820dd1b43d61fe8.jpg  \n",
            " extracting: /content/plant_detection/train/images/237_jpg.rf.0f4f1c1368f02d8516d44e241661dcb6.jpg  \n",
            " extracting: /content/plant_detection/train/images/237_jpg.rf.af850f92a054b2287d5e413926a6f59c.jpg  \n",
            " extracting: /content/plant_detection/train/images/241_jpg.rf.cafb6a11ef6a2a4df87e3b8f0dbc54c9.jpg  \n",
            " extracting: /content/plant_detection/train/images/241_jpg.rf.d2e9d9a51ba22685c0a433fa404d7e5f.jpg  \n",
            " extracting: /content/plant_detection/train/images/241_jpg.rf.ee4a3454a55b763e9104fdfc79cc93ff.jpg  \n",
            " extracting: /content/plant_detection/train/images/242_jpg.rf.4d32039ebfdc09b2876556879ec26f88.jpg  \n",
            " extracting: /content/plant_detection/train/images/242_jpg.rf.7aff4e84f99d097ea6072772b0ddd732.jpg  \n",
            " extracting: /content/plant_detection/train/images/242_jpg.rf.a02bead0bfc6d84f054fcf7901a64da4.jpg  \n",
            " extracting: /content/plant_detection/train/images/243_jpg.rf.13f422e72bbddb97d60de8eeca709a60.jpg  \n",
            " extracting: /content/plant_detection/train/images/243_jpg.rf.320634bb1fa0fcf75a5ed26990c49ec8.jpg  \n",
            " extracting: /content/plant_detection/train/images/243_jpg.rf.cae76118730564c046737e8414f3016f.jpg  \n",
            " extracting: /content/plant_detection/train/images/247_jpg.rf.33cab970043e7625c8c3e87c4a1ab06e.jpg  \n",
            " extracting: /content/plant_detection/train/images/247_jpg.rf.7b95c7e335f54d6f19817ca7d105adfe.jpg  \n",
            " extracting: /content/plant_detection/train/images/247_jpg.rf.9c5b2cb43026c0c817cabc9e25482690.jpg  \n",
            " extracting: /content/plant_detection/train/images/248_jpg.rf.2c9c2ef2003a6ded7fa49c39140be693.jpg  \n",
            " extracting: /content/plant_detection/train/images/248_jpg.rf.fbcb273c1b99d5b078505d08da681c29.jpg  \n",
            " extracting: /content/plant_detection/train/images/248_jpg.rf.fef57412a6541d9061b8b1f2aeafcae8.jpg  \n",
            " extracting: /content/plant_detection/train/images/250_jpg.rf.5b14f060a11ba992fd2e48cda8f3d481.jpg  \n",
            " extracting: /content/plant_detection/train/images/250_jpg.rf.8af825d445b197d49822b1cd47bc38f3.jpg  \n",
            " extracting: /content/plant_detection/train/images/250_jpg.rf.c0b75eff9d1d1242ab22c1d4d43e6f27.jpg  \n",
            " extracting: /content/plant_detection/train/images/25_jpg.rf.750e477a8cf96a27648e951c58a29808.jpg  \n",
            " extracting: /content/plant_detection/train/images/25_jpg.rf.92f605fdcb7ba4aebd4dd66f456db1a9.jpg  \n",
            " extracting: /content/plant_detection/train/images/25_jpg.rf.fc9d7b36367a99a8697b0bada8ccd82d.jpg  \n",
            " extracting: /content/plant_detection/train/images/26_jpg.rf.1e0791aeabf08c9215fbb5df24ebd46d.jpg  \n",
            " extracting: /content/plant_detection/train/images/26_jpg.rf.99baa2d5c946b865e315d4da8aea3758.jpg  \n",
            " extracting: /content/plant_detection/train/images/26_jpg.rf.c7717b40d598e85980629ef62aa17e2a.jpg  \n",
            " extracting: /content/plant_detection/train/images/27_jpg.rf.acb340fbe2f613b25a83af13fc38b738.jpg  \n",
            " extracting: /content/plant_detection/train/images/27_jpg.rf.c66721f6f4b8c47eee238629091c7f78.jpg  \n",
            " extracting: /content/plant_detection/train/images/27_jpg.rf.cf789aeeffdbcc694627cb58625a64a5.jpg  \n",
            " extracting: /content/plant_detection/train/images/28_jpg.rf.5a5cb46f89b7002ac3945c7ff7b5424a.jpg  \n",
            " extracting: /content/plant_detection/train/images/28_jpg.rf.9cdd8a63e1f498c4b960df2b9f9faa3a.jpg  \n",
            " extracting: /content/plant_detection/train/images/28_jpg.rf.e4e58658be7141bbc33c2da59f38864a.jpg  \n",
            " extracting: /content/plant_detection/train/images/29_jpg.rf.0c40a3f15154de99b96b889e21aad6f9.jpg  \n",
            " extracting: /content/plant_detection/train/images/29_jpg.rf.4c224375ac7e454b733ab3c41e6a8332.jpg  \n",
            " extracting: /content/plant_detection/train/images/29_jpg.rf.80380b1655604dcaeed2994e49e9a239.jpg  \n",
            " extracting: /content/plant_detection/train/images/30_jpg.rf.0d1636bf98722d4da0fa776aaf6dc5d5.jpg  \n",
            " extracting: /content/plant_detection/train/images/30_jpg.rf.39bc3d2b2490dd912e07ab86954b884e.jpg  \n",
            " extracting: /content/plant_detection/train/images/30_jpg.rf.6f503756e3b9ac5b6b58d5b831f213e9.jpg  \n",
            " extracting: /content/plant_detection/train/images/31_jpg.rf.58a0fba6062e0ebf226b095b72f52339.jpg  \n",
            " extracting: /content/plant_detection/train/images/31_jpg.rf.c65ef049490200aef0897c95af96ef12.jpg  \n",
            " extracting: /content/plant_detection/train/images/31_jpg.rf.de4772a66119def818052a6b9d50f7c0.jpg  \n",
            " extracting: /content/plant_detection/train/images/35_jpg.rf.9f47b783a9e2e64e6eff40e81c858dd7.jpg  \n",
            " extracting: /content/plant_detection/train/images/35_jpg.rf.ac4efe333ed7603bfaa21fa2bf1719d5.jpg  \n",
            " extracting: /content/plant_detection/train/images/35_jpg.rf.c2110bfbe23c878ff73c22e9848ac769.jpg  \n",
            " extracting: /content/plant_detection/train/images/40_jpeg.rf.7f1b305a4691eccac666a51b704a0cad.jpg  \n",
            " extracting: /content/plant_detection/train/images/40_jpeg.rf.8b7b24a7052f04544b744934df566dd0.jpg  \n",
            " extracting: /content/plant_detection/train/images/40_jpeg.rf.9ac58cbbf47c7cfe235d26447cbfc761.jpg  \n",
            " extracting: /content/plant_detection/train/images/6_jpg.rf.09d57a49f763a9a19e5179ac110a8c43.jpg  \n",
            " extracting: /content/plant_detection/train/images/6_jpg.rf.3cc71d8499a11fc0f2f5ca1f822e21a4.jpg  \n",
            " extracting: /content/plant_detection/train/images/6_jpg.rf.fc77552274f2c2699ebe507594d652f7.jpg  \n",
            " extracting: /content/plant_detection/train/images/7_jpg.rf.34292f6ac8c7d2d0f925ac2856282956.jpg  \n",
            " extracting: /content/plant_detection/train/images/7_jpg.rf.8a259e9ae71c3134f7b639dbf647f136.jpg  \n",
            " extracting: /content/plant_detection/train/images/7_jpg.rf.93cf548ff2ce319118f8ac18513e3a64.jpg  \n",
            " extracting: /content/plant_detection/train/images/8_jpg.rf.20304bbb1da05c293b38248b9b4da4b3.jpg  \n",
            " extracting: /content/plant_detection/train/images/8_jpg.rf.2958cf5ea8fcdb060d91258ae2e5fa44.jpg  \n",
            " extracting: /content/plant_detection/train/images/8_jpg.rf.83ef9fde2ee0437c62e312e174ee80ee.jpg  \n",
            " extracting: /content/plant_detection/train/images/b11_jpg.rf.344310ae69d527e2ef6065bcef7863cb.jpg  \n",
            " extracting: /content/plant_detection/train/images/b11_jpg.rf.7cdc380b3067ff73075f2e26be92ca55.jpg  \n",
            " extracting: /content/plant_detection/train/images/b11_jpg.rf.a693ba68130e9f30da9eec632defe088.jpg  \n",
            " extracting: /content/plant_detection/train/images/b15_jpg.rf.032f2f33d3ab71c04e6af1aec31f1b9e.jpg  \n",
            " extracting: /content/plant_detection/train/images/b15_jpg.rf.06f4425cb0fa78b3b5d210b61e8f5674.jpg  \n",
            " extracting: /content/plant_detection/train/images/b15_jpg.rf.6fd645cc492c5addbbc741263291fb70.jpg  \n",
            " extracting: /content/plant_detection/train/images/b16_jpg.rf.01b03b90a94e32df1b3c72317f9abea8.jpg  \n",
            " extracting: /content/plant_detection/train/images/b16_jpg.rf.5361043cf3dd0aaa87ecadbb88ca6ad5.jpg  \n",
            " extracting: /content/plant_detection/train/images/b16_jpg.rf.772ad61177d844a202290c8cf25e17c2.jpg  \n",
            " extracting: /content/plant_detection/train/images/b17_jpeg.rf.99b5a9a94889ffd9a0d53dbdd1f38c5a.jpg  \n",
            " extracting: /content/plant_detection/train/images/b17_jpeg.rf.b0851abccb469999d3c6f38fd968f687.jpg  \n",
            " extracting: /content/plant_detection/train/images/b17_jpeg.rf.ec2af747b4ae7dfd65138ea3d98b6988.jpg  \n",
            " extracting: /content/plant_detection/train/images/b18_jpg.rf.1643ac006afea0876a1317712dddb1b4.jpg  \n",
            " extracting: /content/plant_detection/train/images/b18_jpg.rf.7081fa2c0a0ee4412af5fb4e6a10712b.jpg  \n",
            " extracting: /content/plant_detection/train/images/b18_jpg.rf.9cccb3ae62a6b1c837fed3e7b7cfbd59.jpg  \n",
            " extracting: /content/plant_detection/train/images/b19_jpg.rf.29f66e5ce381b5909a8c9a408c2ebe8f.jpg  \n",
            " extracting: /content/plant_detection/train/images/b19_jpg.rf.659d6c600d699369889d4fa6128f72ea.jpg  \n",
            " extracting: /content/plant_detection/train/images/b19_jpg.rf.7a9270809bff05430ecf8628777690d1.jpg  \n",
            " extracting: /content/plant_detection/train/images/b1_jpg.rf.6636957909e8b18be58918da8d393dc6.jpg  \n",
            " extracting: /content/plant_detection/train/images/b1_jpg.rf.84ead442a3deecb97874db22b0b9bab2.jpg  \n",
            " extracting: /content/plant_detection/train/images/b1_jpg.rf.ec859571ad4cf20089e39fe1fb39b9b7.jpg  \n",
            " extracting: /content/plant_detection/train/images/b21_jpg.rf.3ba7f963c524b047ecb4418f1f46b305.jpg  \n",
            " extracting: /content/plant_detection/train/images/b21_jpg.rf.dbed40a19265d08e596f686c3b113d2a.jpg  \n",
            " extracting: /content/plant_detection/train/images/b21_jpg.rf.f7b3fed78ba988c6cc1c2da7a7d6dd86.jpg  \n",
            " extracting: /content/plant_detection/train/images/b22_jpg.rf.4479028d262ddca49a6400faca3987d8.jpg  \n",
            " extracting: /content/plant_detection/train/images/b22_jpg.rf.cc38c40e27c50bb3f38e54191188888d.jpg  \n",
            " extracting: /content/plant_detection/train/images/b22_jpg.rf.e200c06affd2e8af4d2f00bb3f2a5278.jpg  \n",
            " extracting: /content/plant_detection/train/images/b23_jpg.rf.90df4f1f1a2fa444abc767ccd8d2db98.jpg  \n",
            " extracting: /content/plant_detection/train/images/b23_jpg.rf.b2baea6bb3b723cfacb664b84c735759.jpg  \n",
            " extracting: /content/plant_detection/train/images/b23_jpg.rf.f50489ca513db3c2afd50ea106ddaa91.jpg  \n",
            " extracting: /content/plant_detection/train/images/b24_jpg.rf.98548004556096daea93480ac7e047d1.jpg  \n",
            " extracting: /content/plant_detection/train/images/b24_jpg.rf.a0b3148976660529457a9e4a4145471a.jpg  \n",
            " extracting: /content/plant_detection/train/images/b24_jpg.rf.ca3ca95dfef549475a631971d23ee427.jpg  \n",
            " extracting: /content/plant_detection/train/images/b25_jpg.rf.3ae63ba33f3397c6d5bbf1f6e631aaa2.jpg  \n",
            " extracting: /content/plant_detection/train/images/b25_jpg.rf.408cd4236359e11d97e196c7a707ac37.jpg  \n",
            " extracting: /content/plant_detection/train/images/b25_jpg.rf.b92e7880c91b139c193342bb63be33a8.jpg  \n",
            " extracting: /content/plant_detection/train/images/b27_jpg.rf.65e6649133bf7b1d31d7fc9c60e7a0b0.jpg  \n",
            " extracting: /content/plant_detection/train/images/b27_jpg.rf.cb02a6580b4fc5d3fceb122724fa3568.jpg  \n",
            " extracting: /content/plant_detection/train/images/b27_jpg.rf.f49f6c439f061ff54565c1b833ec41b9.jpg  \n",
            " extracting: /content/plant_detection/train/images/b28_jpg.rf.042b859bfdabd09fc208ef7f21ea3182.jpg  \n",
            " extracting: /content/plant_detection/train/images/b28_jpg.rf.34b711fd58d8da7b7277c377ee0d5319.jpg  \n",
            " extracting: /content/plant_detection/train/images/b28_jpg.rf.e33b934d72e25970272803d3979bae11.jpg  \n",
            " extracting: /content/plant_detection/train/images/b2_jpg.rf.835c09958b50373c59d8599a4efb311d.jpg  \n",
            " extracting: /content/plant_detection/train/images/b2_jpg.rf.9ec5647ad9a54dba25360cbbfe69dab7.jpg  \n",
            " extracting: /content/plant_detection/train/images/b2_jpg.rf.bc8c470b4df526fc0283a4f75d82a7d8.jpg  \n",
            " extracting: /content/plant_detection/train/images/b33_jpg.rf.22e0adeff34ecdae242383377fb32d66.jpg  \n",
            " extracting: /content/plant_detection/train/images/b33_jpg.rf.43426529002b0a48c37e2b2ea3b58e5b.jpg  \n",
            " extracting: /content/plant_detection/train/images/b33_jpg.rf.ed57b05b8efe330e05324f0c9e45a969.jpg  \n",
            " extracting: /content/plant_detection/train/images/b34_jpg.rf.91535afe31625d9ff20a3f082cf3752d.jpg  \n",
            " extracting: /content/plant_detection/train/images/b34_jpg.rf.bb27eaf0f4e6f927207e0be234bd22a7.jpg  \n",
            " extracting: /content/plant_detection/train/images/b34_jpg.rf.cc30105b88caf6901ce774729bf27bd0.jpg  \n",
            " extracting: /content/plant_detection/train/images/b35_jpg.rf.154d9d7bde84da8d8448a07d1501620e.jpg  \n",
            " extracting: /content/plant_detection/train/images/b35_jpg.rf.a082dad9cdb10b9dad79ae77c305912c.jpg  \n",
            " extracting: /content/plant_detection/train/images/b35_jpg.rf.f2a4be3bc58052938e5d98caf62e1071.jpg  \n",
            " extracting: /content/plant_detection/train/images/b37_jpg.rf.49f543284c7517f0b6b453b24d7a7407.jpg  \n",
            " extracting: /content/plant_detection/train/images/b37_jpg.rf.4ab0085dd188eabb912cce69f4ec484b.jpg  \n",
            " extracting: /content/plant_detection/train/images/b37_jpg.rf.6531393f6c4b76d5cb7c45c5881cb932.jpg  \n",
            " extracting: /content/plant_detection/train/images/b8_jpeg.rf.6efb0330da0b0105723c22785cfcf5a4.jpg  \n",
            " extracting: /content/plant_detection/train/images/b8_jpeg.rf.f66bc979366854766b3ef851af9fcb06.jpg  \n",
            " extracting: /content/plant_detection/train/images/b8_jpeg.rf.fb7823ed63c5a248ccbc13d38fcd0ef3.jpg  \n",
            " extracting: /content/plant_detection/train/images/download-1-_jpg.rf.4df13f88b1cc42d6eaeb9bbcef7cd90c.jpg  \n",
            " extracting: /content/plant_detection/train/images/download-1-_jpg.rf.56f3e51734f5c3d099f483f513adc0f1.jpg  \n",
            " extracting: /content/plant_detection/train/images/download-1-_jpg.rf.f1d689a3d188f417cb53e41f4b7e1371.jpg  \n",
            " extracting: /content/plant_detection/train/images/download_jpg.rf.c188f3bee012315b43dc29a175f3b14b.jpg  \n",
            " extracting: /content/plant_detection/train/images/download_jpg.rf.e8f5f35362d0430606171a10ed7849bd.jpg  \n",
            " extracting: /content/plant_detection/train/images/download_jpg.rf.fb3bf28da558b351d2f6ceffbb5561f7.jpg  \n",
            " extracting: /content/plant_detection/train/images/green-money-plant-500x500_webp.rf.02b8350065948f7468ae8290389c5832.jpg  \n",
            " extracting: /content/plant_detection/train/images/green-money-plant-500x500_webp.rf.d26fdbc3d3cc401c1f5d99febc917b23.jpg  \n",
            " extracting: /content/plant_detection/train/images/green-money-plant-500x500_webp.rf.dd7b39bfe754417e0cfa1f143086948d.jpg  \n",
            " extracting: /content/plant_detection/train/images/images-13-_jpg.rf.48b33c013e5841593e89dcb4f3b7df2b.jpg  \n",
            " extracting: /content/plant_detection/train/images/images-13-_jpg.rf.4edbc0353af7631772422d95f08166cd.jpg  \n",
            " extracting: /content/plant_detection/train/images/images-13-_jpg.rf.b5c00906f92282e06a1561ccef39ccd3.jpg  \n",
            " extracting: /content/plant_detection/train/images/images-2-_jpg.rf.0868d0cdbaa52ac2f6df2d9c325ea80a.jpg  \n",
            " extracting: /content/plant_detection/train/images/images-2-_jpg.rf.10eac41672648b3b8ac874997308f7ec.jpg  \n",
            " extracting: /content/plant_detection/train/images/images-2-_jpg.rf.9f56f1560acac4a81abde5911c193177.jpg  \n",
            " extracting: /content/plant_detection/train/images/images-7-_jpg.rf.1c85bf08d0055d95db78ee7c8a452287.jpg  \n",
            " extracting: /content/plant_detection/train/images/images-7-_jpg.rf.8d3651cce29d0989f9682dbb401547b4.jpg  \n",
            " extracting: /content/plant_detection/train/images/images-7-_jpg.rf.b41bfef39a2a90cc1712e908bfcdfbf7.jpg  \n",
            " extracting: /content/plant_detection/train/images/images-8-_jpg.rf.249f750577f3d464ca1d09ee20097f21.jpg  \n",
            " extracting: /content/plant_detection/train/images/images-8-_jpg.rf.41abc8689293df571566e7ce5a51ec42.jpg  \n",
            " extracting: /content/plant_detection/train/images/images-8-_jpg.rf.a314ebc00d09ea5a5c2708fe676578d0.jpg  \n",
            "   creating: /content/plant_detection/train/labels/\n",
            "  inflating: /content/plant_detection/train/labels/12_jpg.rf.2a52c729948bb761baebae0a4c337e96.txt  \n",
            "  inflating: /content/plant_detection/train/labels/12_jpg.rf.5bc723b25d4eddb3d4329a97e0e0d93b.txt  \n",
            "  inflating: /content/plant_detection/train/labels/12_jpg.rf.a9e3809583414926bdc2f0caa6941373.txt  \n",
            "  inflating: /content/plant_detection/train/labels/13_jpg.rf.314ece61801a30c108f456dc35c312c3.txt  \n",
            " extracting: /content/plant_detection/train/labels/13_jpg.rf.dd9de573669531635e96978c7b55dc04.txt  \n",
            "  inflating: /content/plant_detection/train/labels/13_jpg.rf.f590e6f25e081262c71a2ecfd5f4553e.txt  \n",
            " extracting: /content/plant_detection/train/labels/14_jpg.rf.80ca715265ad11219df141af2a0adce2.txt  \n",
            "  inflating: /content/plant_detection/train/labels/14_jpg.rf.e370004e71b531d2f44c4bb1efac7216.txt  \n",
            "  inflating: /content/plant_detection/train/labels/14_jpg.rf.f954d0ddfb84368c276e8af9b96f8662.txt  \n",
            "  inflating: /content/plant_detection/train/labels/15_jpg.rf.0f844613f90af6e42b42c0447e936cb9.txt  \n",
            "  inflating: /content/plant_detection/train/labels/15_jpg.rf.4ba3d2fdcafa5943fb8103a24538447d.txt  \n",
            "  inflating: /content/plant_detection/train/labels/15_jpg.rf.a87eda0783139120e1b3e1335b506035.txt  \n",
            "  inflating: /content/plant_detection/train/labels/17_jpg.rf.501b8264ff806420c0eb8fd015c5ec94.txt  \n",
            "  inflating: /content/plant_detection/train/labels/17_jpg.rf.b36d1108fdca8242a0e9c052259d91d7.txt  \n",
            "  inflating: /content/plant_detection/train/labels/17_jpg.rf.cb6cc8fae342c8699a4200d86788cf9b.txt  \n",
            "  inflating: /content/plant_detection/train/labels/182_jpg.rf.9a59e748c46cee05aa955cfe762e8aad.txt  \n",
            "  inflating: /content/plant_detection/train/labels/182_jpg.rf.c5abe33491ba63112e268775b67d6003.txt  \n",
            "  inflating: /content/plant_detection/train/labels/182_jpg.rf.e23b90f0c88cbecea97c830e4b84aa1a.txt  \n",
            "  inflating: /content/plant_detection/train/labels/183_jpg.rf.05c058a964133f589a4ca3120cdcc197.txt  \n",
            "  inflating: /content/plant_detection/train/labels/183_jpg.rf.8ad320d5667456b8d2c36cbfb15dba62.txt  \n",
            "  inflating: /content/plant_detection/train/labels/183_jpg.rf.959370a115a9fa144bcad823e73848c7.txt  \n",
            "  inflating: /content/plant_detection/train/labels/185_jpg.rf.4884090cd4c635a05ccd817c8337d569.txt  \n",
            "  inflating: /content/plant_detection/train/labels/185_jpg.rf.938f483d459b8ca17baf73bf08224f01.txt  \n",
            "  inflating: /content/plant_detection/train/labels/185_jpg.rf.bb2776072000e35d412f3d1f0c0bfcf4.txt  \n",
            "  inflating: /content/plant_detection/train/labels/187_jpg.rf.8b429b9ee7b3bba23c59a9ad42871bbd.txt  \n",
            "  inflating: /content/plant_detection/train/labels/187_jpg.rf.b1a2e096a73ada37e45fb79afc52854e.txt  \n",
            "  inflating: /content/plant_detection/train/labels/187_jpg.rf.b7655adce15cca7663fe23cb8921f524.txt  \n",
            "  inflating: /content/plant_detection/train/labels/189_jpg.rf.377ef7cf9e0aa58e41c25f6bd4f9fcff.txt  \n",
            "  inflating: /content/plant_detection/train/labels/189_jpg.rf.412381bbe2ff3c6447b1ccb50aac05df.txt  \n",
            " extracting: /content/plant_detection/train/labels/189_jpg.rf.5ba6a5e68fd4b822542ca487052ad20c.txt  \n",
            "  inflating: /content/plant_detection/train/labels/18_jpg.rf.58e5e85676a4faf87bf184afb8d5f989.txt  \n",
            "  inflating: /content/plant_detection/train/labels/18_jpg.rf.67085d2d3b047838caebe5d01ff68369.txt  \n",
            "  inflating: /content/plant_detection/train/labels/18_jpg.rf.e5afcda0fdd921d6c5ade9e33b4a4dba.txt  \n",
            "  inflating: /content/plant_detection/train/labels/190_jpg.rf.9a06de62a9fa924f5966bf3185ce6e86.txt  \n",
            "  inflating: /content/plant_detection/train/labels/190_jpg.rf.b2c5d4a845b47092c6f4054dd1bb6d13.txt  \n",
            "  inflating: /content/plant_detection/train/labels/190_jpg.rf.bf139855462925008433cf24e82f218b.txt  \n",
            "  inflating: /content/plant_detection/train/labels/192_jpg.rf.198a5ef837ed3b7b80859ad050ee3a05.txt  \n",
            " extracting: /content/plant_detection/train/labels/192_jpg.rf.5dba4b15288f953e69fc6dff24e5f32f.txt  \n",
            "  inflating: /content/plant_detection/train/labels/192_jpg.rf.ec85727197439b1efcf29750a80cfd8d.txt  \n",
            "  inflating: /content/plant_detection/train/labels/193_jpg.rf.0ed4bf215fd8e3ffe40dacb720b50dfa.txt  \n",
            "  inflating: /content/plant_detection/train/labels/193_jpg.rf.53f5169a4ee2b33049ec9110ed087113.txt  \n",
            "  inflating: /content/plant_detection/train/labels/193_jpg.rf.d3007def7b7a4bf927bbe71f5cce4dee.txt  \n",
            "  inflating: /content/plant_detection/train/labels/194_jpg.rf.62afa1ea4895b1e80ce2390c8d6fd3b6.txt  \n",
            "  inflating: /content/plant_detection/train/labels/194_jpg.rf.97e5b66ddf18506aa5fda989759a7e2c.txt  \n",
            "  inflating: /content/plant_detection/train/labels/194_jpg.rf.ac42e9592c9034bb763c72e914678750.txt  \n",
            "  inflating: /content/plant_detection/train/labels/196_jpg.rf.07542d6013febe72dd21279c8d65e148.txt  \n",
            "  inflating: /content/plant_detection/train/labels/196_jpg.rf.b57d019e43957012232f0c3af7ab492a.txt  \n",
            "  inflating: /content/plant_detection/train/labels/196_jpg.rf.ec9214c46d3e4e0d17e4be46399e859a.txt  \n",
            "  inflating: /content/plant_detection/train/labels/197_jpg.rf.0e6e0255a1155e10bf383f2d2a2cf04f.txt  \n",
            "  inflating: /content/plant_detection/train/labels/197_jpg.rf.b44e17770c8f68deda16476b2879ef7a.txt  \n",
            "  inflating: /content/plant_detection/train/labels/197_jpg.rf.f456209a83a275790a887d0eab0db33f.txt  \n",
            "  inflating: /content/plant_detection/train/labels/198_jpg.rf.190d2c71d19b21ba9d4e482488bb36e8.txt  \n",
            "  inflating: /content/plant_detection/train/labels/198_jpg.rf.2e74c6d07f079f9ae7eb3eb8e0df9362.txt  \n",
            "  inflating: /content/plant_detection/train/labels/198_jpg.rf.5df1904295166dfc6f3ef55863924ae7.txt  \n",
            "  inflating: /content/plant_detection/train/labels/1_jpg.rf.2e8476c97a5fd8c8dc7bc83fe1abca71.txt  \n",
            "  inflating: /content/plant_detection/train/labels/1_jpg.rf.409140fb4babc0da607b5efb9a588e74.txt  \n",
            "  inflating: /content/plant_detection/train/labels/1_jpg.rf.621c55122b7979d78fdcebe982a1e7f1.txt  \n",
            "  inflating: /content/plant_detection/train/labels/200_jpg.rf.045958e7143d55058ce1f56a04b1e892.txt  \n",
            "  inflating: /content/plant_detection/train/labels/200_jpg.rf.5a6c7ce773840fd35841fa558699ca24.txt  \n",
            "  inflating: /content/plant_detection/train/labels/200_jpg.rf.a7e7b5c4cee67021e5154dcfba1e3298.txt  \n",
            "  inflating: /content/plant_detection/train/labels/202_jpg.rf.38f80dca691ea56e67dc6b2e680f1f92.txt  \n",
            "  inflating: /content/plant_detection/train/labels/202_jpg.rf.39f8b6a38625c1b0cfd96f4ab91bbd02.txt  \n",
            "  inflating: /content/plant_detection/train/labels/202_jpg.rf.d8b120beb259c6df2a9e8dee7c93951c.txt  \n",
            "  inflating: /content/plant_detection/train/labels/203_jpg.rf.270df0e62af62ac83b0fa003aaac277c.txt  \n",
            "  inflating: /content/plant_detection/train/labels/203_jpg.rf.bb6dc5a3cdbcf4a82a80258a4f24cb0b.txt  \n",
            "  inflating: /content/plant_detection/train/labels/203_jpg.rf.ded11fa75411f1cf27af005e6ff08526.txt  \n",
            "  inflating: /content/plant_detection/train/labels/207_jpg.rf.3bc85412222cf088d8197e8895aeecda.txt  \n",
            "  inflating: /content/plant_detection/train/labels/207_jpg.rf.52305f71e3f97320ceebce7bf213c482.txt  \n",
            "  inflating: /content/plant_detection/train/labels/207_jpg.rf.678eb1f303446193cb0c3943722ea67c.txt  \n",
            "  inflating: /content/plant_detection/train/labels/208_jpg.rf.19c40602f6b575996692335e3c62bda2.txt  \n",
            "  inflating: /content/plant_detection/train/labels/208_jpg.rf.73555c5a33629034db08a2c89d2c09ec.txt  \n",
            "  inflating: /content/plant_detection/train/labels/208_jpg.rf.7df600d53fe245a55784e4bf92b6cfc3.txt  \n",
            "  inflating: /content/plant_detection/train/labels/20_jpg.rf.2499553737a3315c5dde81e9c612a27a.txt  \n",
            "  inflating: /content/plant_detection/train/labels/20_jpg.rf.58db79f7614b43955107d481187ad86c.txt  \n",
            "  inflating: /content/plant_detection/train/labels/20_jpg.rf.d381d83029029a6cdfbfdda944d0b5e1.txt  \n",
            "  inflating: /content/plant_detection/train/labels/212_jpg.rf.800c325e0b758bf5ba39e068674af52e.txt  \n",
            " extracting: /content/plant_detection/train/labels/212_jpg.rf.b781a349d84ce4de4bfd03743ce289c1.txt  \n",
            " extracting: /content/plant_detection/train/labels/212_jpg.rf.e32867567c7ab56c900e61d043d67063.txt  \n",
            "  inflating: /content/plant_detection/train/labels/214_jpg.rf.0211c10d9c77b78d95f7e812c9c87eb1.txt  \n",
            "  inflating: /content/plant_detection/train/labels/214_jpg.rf.4efc83239d200f564170e526b998e0fc.txt  \n",
            "  inflating: /content/plant_detection/train/labels/214_jpg.rf.c919ce3d88c780d753051e3fbf5fcf32.txt  \n",
            "  inflating: /content/plant_detection/train/labels/219_jpeg.rf.01ac6ffe5375058d9ba9e236edefb30b.txt  \n",
            "  inflating: /content/plant_detection/train/labels/219_jpeg.rf.46756967b9711a2fe000b1e7efbcd13d.txt  \n",
            " extracting: /content/plant_detection/train/labels/219_jpeg.rf.df7ace2caf7b67805887b9d9f115e47e.txt  \n",
            "  inflating: /content/plant_detection/train/labels/21_jpg.rf.8fca3bbe176eef17c7602b5a27339d6a.txt  \n",
            "  inflating: /content/plant_detection/train/labels/21_jpg.rf.a2474d918a071258048d81fdfd096f01.txt  \n",
            " extracting: /content/plant_detection/train/labels/21_jpg.rf.ee8343cc41821e51dfd0a23a598af4ce.txt  \n",
            "  inflating: /content/plant_detection/train/labels/220_jpg.rf.4987c3f958c05b6f5cf298123b1d78e0.txt  \n",
            "  inflating: /content/plant_detection/train/labels/220_jpg.rf.4bf857e79c14d2531fb30bea0b0c42ef.txt  \n",
            "  inflating: /content/plant_detection/train/labels/220_jpg.rf.f0b80acad46035c149d9997962960ea9.txt  \n",
            "  inflating: /content/plant_detection/train/labels/222_jpg.rf.809bc7e72cecf23a670550929a48db86.txt  \n",
            "  inflating: /content/plant_detection/train/labels/222_jpg.rf.a5f42f96013a9a8592ae5c19db658185.txt  \n",
            "  inflating: /content/plant_detection/train/labels/222_jpg.rf.d96b8f680ecd1636397bc175c7480a4d.txt  \n",
            "  inflating: /content/plant_detection/train/labels/223_jpg.rf.3a9c2be1b59d39ef323c75e933fcf13c.txt  \n",
            "  inflating: /content/plant_detection/train/labels/223_jpg.rf.f3e0a4659ca63ac05f4f202e66a5a436.txt  \n",
            "  inflating: /content/plant_detection/train/labels/223_jpg.rf.f91b225c1b693724ac772c02a5b104aa.txt  \n",
            "  inflating: /content/plant_detection/train/labels/226_jpg.rf.4cc01ce286cec9023275144a5d2f0935.txt  \n",
            " extracting: /content/plant_detection/train/labels/226_jpg.rf.8948e59d130fec6715426e2eb44caad9.txt  \n",
            "  inflating: /content/plant_detection/train/labels/226_jpg.rf.9f0a9dbeb57ad664a53ba98622edc4dc.txt  \n",
            "  inflating: /content/plant_detection/train/labels/230_jpg.rf.296a1955d89f8e02ec5e614ff6ca5cde.txt  \n",
            "  inflating: /content/plant_detection/train/labels/230_jpg.rf.57c3455aadca4bb51dbd8731ba9f7033.txt  \n",
            "  inflating: /content/plant_detection/train/labels/230_jpg.rf.799bc03ab8bdc3417a95f5c31deb5657.txt  \n",
            "  inflating: /content/plant_detection/train/labels/232_jpg.rf.5f11af8c5a1c2b58023c873be5f0f61e.txt  \n",
            "  inflating: /content/plant_detection/train/labels/232_jpg.rf.763842187996869b99333272a2a8fd4e.txt  \n",
            "  inflating: /content/plant_detection/train/labels/232_jpg.rf.7a5b3a5973de85ecf98985f3ea302bac.txt  \n",
            "  inflating: /content/plant_detection/train/labels/233_jpg.rf.1ae4ba683fcb660fff86546ff6431b64.txt  \n",
            "  inflating: /content/plant_detection/train/labels/233_jpg.rf.43da85001e904dcf9d5f0e82a7266c5a.txt  \n",
            "  inflating: /content/plant_detection/train/labels/233_jpg.rf.5b1c9db792b96af4cefea7200cdd5264.txt  \n",
            "  inflating: /content/plant_detection/train/labels/235_jpg.rf.0ad744abc02a2dacf5da5fb51741bf42.txt  \n",
            "  inflating: /content/plant_detection/train/labels/235_jpg.rf.8d0a87e9b3f333466fd58f07bc9ba74d.txt  \n",
            "  inflating: /content/plant_detection/train/labels/235_jpg.rf.c13460312cf555b69df46d0daf0d43de.txt  \n",
            "  inflating: /content/plant_detection/train/labels/236_jpg.rf.b028bf8c5c6a28d3e40831f44b0dd50a.txt  \n",
            "  inflating: /content/plant_detection/train/labels/236_jpg.rf.b8fe05e03356850679a41c3d5734141b.txt  \n",
            "  inflating: /content/plant_detection/train/labels/236_jpg.rf.fb2226a5ba437d9875b9397fe9fd5b65.txt  \n",
            "  inflating: /content/plant_detection/train/labels/237_jpg.rf.04ac71f9162b2aea9820dd1b43d61fe8.txt  \n",
            " extracting: /content/plant_detection/train/labels/237_jpg.rf.0f4f1c1368f02d8516d44e241661dcb6.txt  \n",
            "  inflating: /content/plant_detection/train/labels/237_jpg.rf.af850f92a054b2287d5e413926a6f59c.txt  \n",
            "  inflating: /content/plant_detection/train/labels/241_jpg.rf.cafb6a11ef6a2a4df87e3b8f0dbc54c9.txt  \n",
            "  inflating: /content/plant_detection/train/labels/241_jpg.rf.d2e9d9a51ba22685c0a433fa404d7e5f.txt  \n",
            "  inflating: /content/plant_detection/train/labels/241_jpg.rf.ee4a3454a55b763e9104fdfc79cc93ff.txt  \n",
            "  inflating: /content/plant_detection/train/labels/242_jpg.rf.4d32039ebfdc09b2876556879ec26f88.txt  \n",
            " extracting: /content/plant_detection/train/labels/242_jpg.rf.7aff4e84f99d097ea6072772b0ddd732.txt  \n",
            "  inflating: /content/plant_detection/train/labels/242_jpg.rf.a02bead0bfc6d84f054fcf7901a64da4.txt  \n",
            "  inflating: /content/plant_detection/train/labels/243_jpg.rf.13f422e72bbddb97d60de8eeca709a60.txt  \n",
            "  inflating: /content/plant_detection/train/labels/243_jpg.rf.320634bb1fa0fcf75a5ed26990c49ec8.txt  \n",
            "  inflating: /content/plant_detection/train/labels/243_jpg.rf.cae76118730564c046737e8414f3016f.txt  \n",
            "  inflating: /content/plant_detection/train/labels/247_jpg.rf.33cab970043e7625c8c3e87c4a1ab06e.txt  \n",
            "  inflating: /content/plant_detection/train/labels/247_jpg.rf.7b95c7e335f54d6f19817ca7d105adfe.txt  \n",
            "  inflating: /content/plant_detection/train/labels/247_jpg.rf.9c5b2cb43026c0c817cabc9e25482690.txt  \n",
            "  inflating: /content/plant_detection/train/labels/248_jpg.rf.2c9c2ef2003a6ded7fa49c39140be693.txt  \n",
            " extracting: /content/plant_detection/train/labels/248_jpg.rf.fbcb273c1b99d5b078505d08da681c29.txt  \n",
            "  inflating: /content/plant_detection/train/labels/248_jpg.rf.fef57412a6541d9061b8b1f2aeafcae8.txt  \n",
            "  inflating: /content/plant_detection/train/labels/250_jpg.rf.5b14f060a11ba992fd2e48cda8f3d481.txt  \n",
            "  inflating: /content/plant_detection/train/labels/250_jpg.rf.8af825d445b197d49822b1cd47bc38f3.txt  \n",
            "  inflating: /content/plant_detection/train/labels/250_jpg.rf.c0b75eff9d1d1242ab22c1d4d43e6f27.txt  \n",
            "  inflating: /content/plant_detection/train/labels/25_jpg.rf.750e477a8cf96a27648e951c58a29808.txt  \n",
            "  inflating: /content/plant_detection/train/labels/25_jpg.rf.92f605fdcb7ba4aebd4dd66f456db1a9.txt  \n",
            "  inflating: /content/plant_detection/train/labels/25_jpg.rf.fc9d7b36367a99a8697b0bada8ccd82d.txt  \n",
            "  inflating: /content/plant_detection/train/labels/26_jpg.rf.1e0791aeabf08c9215fbb5df24ebd46d.txt  \n",
            "  inflating: /content/plant_detection/train/labels/26_jpg.rf.99baa2d5c946b865e315d4da8aea3758.txt  \n",
            "  inflating: /content/plant_detection/train/labels/26_jpg.rf.c7717b40d598e85980629ef62aa17e2a.txt  \n",
            "  inflating: /content/plant_detection/train/labels/27_jpg.rf.acb340fbe2f613b25a83af13fc38b738.txt  \n",
            "  inflating: /content/plant_detection/train/labels/27_jpg.rf.c66721f6f4b8c47eee238629091c7f78.txt  \n",
            "  inflating: /content/plant_detection/train/labels/27_jpg.rf.cf789aeeffdbcc694627cb58625a64a5.txt  \n",
            " extracting: /content/plant_detection/train/labels/28_jpg.rf.5a5cb46f89b7002ac3945c7ff7b5424a.txt  \n",
            "  inflating: /content/plant_detection/train/labels/28_jpg.rf.9cdd8a63e1f498c4b960df2b9f9faa3a.txt  \n",
            "  inflating: /content/plant_detection/train/labels/28_jpg.rf.e4e58658be7141bbc33c2da59f38864a.txt  \n",
            "  inflating: /content/plant_detection/train/labels/29_jpg.rf.0c40a3f15154de99b96b889e21aad6f9.txt  \n",
            "  inflating: /content/plant_detection/train/labels/29_jpg.rf.4c224375ac7e454b733ab3c41e6a8332.txt  \n",
            "  inflating: /content/plant_detection/train/labels/29_jpg.rf.80380b1655604dcaeed2994e49e9a239.txt  \n",
            "  inflating: /content/plant_detection/train/labels/30_jpg.rf.0d1636bf98722d4da0fa776aaf6dc5d5.txt  \n",
            "  inflating: /content/plant_detection/train/labels/30_jpg.rf.39bc3d2b2490dd912e07ab86954b884e.txt  \n",
            "  inflating: /content/plant_detection/train/labels/30_jpg.rf.6f503756e3b9ac5b6b58d5b831f213e9.txt  \n",
            "  inflating: /content/plant_detection/train/labels/31_jpg.rf.58a0fba6062e0ebf226b095b72f52339.txt  \n",
            "  inflating: /content/plant_detection/train/labels/31_jpg.rf.c65ef049490200aef0897c95af96ef12.txt  \n",
            "  inflating: /content/plant_detection/train/labels/31_jpg.rf.de4772a66119def818052a6b9d50f7c0.txt  \n",
            "  inflating: /content/plant_detection/train/labels/35_jpg.rf.9f47b783a9e2e64e6eff40e81c858dd7.txt  \n",
            "  inflating: /content/plant_detection/train/labels/35_jpg.rf.ac4efe333ed7603bfaa21fa2bf1719d5.txt  \n",
            "  inflating: /content/plant_detection/train/labels/35_jpg.rf.c2110bfbe23c878ff73c22e9848ac769.txt  \n",
            "  inflating: /content/plant_detection/train/labels/40_jpeg.rf.7f1b305a4691eccac666a51b704a0cad.txt  \n",
            "  inflating: /content/plant_detection/train/labels/40_jpeg.rf.8b7b24a7052f04544b744934df566dd0.txt  \n",
            "  inflating: /content/plant_detection/train/labels/40_jpeg.rf.9ac58cbbf47c7cfe235d26447cbfc761.txt  \n",
            "  inflating: /content/plant_detection/train/labels/6_jpg.rf.09d57a49f763a9a19e5179ac110a8c43.txt  \n",
            "  inflating: /content/plant_detection/train/labels/6_jpg.rf.3cc71d8499a11fc0f2f5ca1f822e21a4.txt  \n",
            "  inflating: /content/plant_detection/train/labels/6_jpg.rf.fc77552274f2c2699ebe507594d652f7.txt  \n",
            "  inflating: /content/plant_detection/train/labels/7_jpg.rf.34292f6ac8c7d2d0f925ac2856282956.txt  \n",
            "  inflating: /content/plant_detection/train/labels/7_jpg.rf.8a259e9ae71c3134f7b639dbf647f136.txt  \n",
            " extracting: /content/plant_detection/train/labels/7_jpg.rf.93cf548ff2ce319118f8ac18513e3a64.txt  \n",
            " extracting: /content/plant_detection/train/labels/8_jpg.rf.20304bbb1da05c293b38248b9b4da4b3.txt  \n",
            "  inflating: /content/plant_detection/train/labels/8_jpg.rf.2958cf5ea8fcdb060d91258ae2e5fa44.txt  \n",
            "  inflating: /content/plant_detection/train/labels/8_jpg.rf.83ef9fde2ee0437c62e312e174ee80ee.txt  \n",
            "  inflating: /content/plant_detection/train/labels/b11_jpg.rf.344310ae69d527e2ef6065bcef7863cb.txt  \n",
            "  inflating: /content/plant_detection/train/labels/b11_jpg.rf.7cdc380b3067ff73075f2e26be92ca55.txt  \n",
            "  inflating: /content/plant_detection/train/labels/b11_jpg.rf.a693ba68130e9f30da9eec632defe088.txt  \n",
            " extracting: /content/plant_detection/train/labels/b15_jpg.rf.032f2f33d3ab71c04e6af1aec31f1b9e.txt  \n",
            "  inflating: /content/plant_detection/train/labels/b15_jpg.rf.06f4425cb0fa78b3b5d210b61e8f5674.txt  \n",
            "  inflating: /content/plant_detection/train/labels/b15_jpg.rf.6fd645cc492c5addbbc741263291fb70.txt  \n",
            "  inflating: /content/plant_detection/train/labels/b16_jpg.rf.01b03b90a94e32df1b3c72317f9abea8.txt  \n",
            "  inflating: /content/plant_detection/train/labels/b16_jpg.rf.5361043cf3dd0aaa87ecadbb88ca6ad5.txt  \n",
            "  inflating: /content/plant_detection/train/labels/b16_jpg.rf.772ad61177d844a202290c8cf25e17c2.txt  \n",
            "  inflating: /content/plant_detection/train/labels/b17_jpeg.rf.99b5a9a94889ffd9a0d53dbdd1f38c5a.txt  \n",
            "  inflating: /content/plant_detection/train/labels/b17_jpeg.rf.b0851abccb469999d3c6f38fd968f687.txt  \n",
            "  inflating: /content/plant_detection/train/labels/b17_jpeg.rf.ec2af747b4ae7dfd65138ea3d98b6988.txt  \n",
            "  inflating: /content/plant_detection/train/labels/b18_jpg.rf.1643ac006afea0876a1317712dddb1b4.txt  \n",
            "  inflating: /content/plant_detection/train/labels/b18_jpg.rf.7081fa2c0a0ee4412af5fb4e6a10712b.txt  \n",
            "  inflating: /content/plant_detection/train/labels/b18_jpg.rf.9cccb3ae62a6b1c837fed3e7b7cfbd59.txt  \n",
            "  inflating: /content/plant_detection/train/labels/b19_jpg.rf.29f66e5ce381b5909a8c9a408c2ebe8f.txt  \n",
            "  inflating: /content/plant_detection/train/labels/b19_jpg.rf.659d6c600d699369889d4fa6128f72ea.txt  \n",
            " extracting: /content/plant_detection/train/labels/b19_jpg.rf.7a9270809bff05430ecf8628777690d1.txt  \n",
            "  inflating: /content/plant_detection/train/labels/b1_jpg.rf.6636957909e8b18be58918da8d393dc6.txt  \n",
            "  inflating: /content/plant_detection/train/labels/b1_jpg.rf.84ead442a3deecb97874db22b0b9bab2.txt  \n",
            "  inflating: /content/plant_detection/train/labels/b1_jpg.rf.ec859571ad4cf20089e39fe1fb39b9b7.txt  \n",
            "  inflating: /content/plant_detection/train/labels/b21_jpg.rf.3ba7f963c524b047ecb4418f1f46b305.txt  \n",
            "  inflating: /content/plant_detection/train/labels/b21_jpg.rf.dbed40a19265d08e596f686c3b113d2a.txt  \n",
            "  inflating: /content/plant_detection/train/labels/b21_jpg.rf.f7b3fed78ba988c6cc1c2da7a7d6dd86.txt  \n",
            "  inflating: /content/plant_detection/train/labels/b22_jpg.rf.4479028d262ddca49a6400faca3987d8.txt  \n",
            "  inflating: /content/plant_detection/train/labels/b22_jpg.rf.cc38c40e27c50bb3f38e54191188888d.txt  \n",
            "  inflating: /content/plant_detection/train/labels/b22_jpg.rf.e200c06affd2e8af4d2f00bb3f2a5278.txt  \n",
            "  inflating: /content/plant_detection/train/labels/b23_jpg.rf.90df4f1f1a2fa444abc767ccd8d2db98.txt  \n",
            "  inflating: /content/plant_detection/train/labels/b23_jpg.rf.b2baea6bb3b723cfacb664b84c735759.txt  \n",
            "  inflating: /content/plant_detection/train/labels/b23_jpg.rf.f50489ca513db3c2afd50ea106ddaa91.txt  \n",
            "  inflating: /content/plant_detection/train/labels/b24_jpg.rf.98548004556096daea93480ac7e047d1.txt  \n",
            "  inflating: /content/plant_detection/train/labels/b24_jpg.rf.a0b3148976660529457a9e4a4145471a.txt  \n",
            "  inflating: /content/plant_detection/train/labels/b24_jpg.rf.ca3ca95dfef549475a631971d23ee427.txt  \n",
            "  inflating: /content/plant_detection/train/labels/b25_jpg.rf.3ae63ba33f3397c6d5bbf1f6e631aaa2.txt  \n",
            "  inflating: /content/plant_detection/train/labels/b25_jpg.rf.408cd4236359e11d97e196c7a707ac37.txt  \n",
            "  inflating: /content/plant_detection/train/labels/b25_jpg.rf.b92e7880c91b139c193342bb63be33a8.txt  \n",
            "  inflating: /content/plant_detection/train/labels/b27_jpg.rf.65e6649133bf7b1d31d7fc9c60e7a0b0.txt  \n",
            "  inflating: /content/plant_detection/train/labels/b27_jpg.rf.cb02a6580b4fc5d3fceb122724fa3568.txt  \n",
            "  inflating: /content/plant_detection/train/labels/b27_jpg.rf.f49f6c439f061ff54565c1b833ec41b9.txt  \n",
            "  inflating: /content/plant_detection/train/labels/b28_jpg.rf.042b859bfdabd09fc208ef7f21ea3182.txt  \n",
            "  inflating: /content/plant_detection/train/labels/b28_jpg.rf.34b711fd58d8da7b7277c377ee0d5319.txt  \n",
            "  inflating: /content/plant_detection/train/labels/b28_jpg.rf.e33b934d72e25970272803d3979bae11.txt  \n",
            "  inflating: /content/plant_detection/train/labels/b2_jpg.rf.835c09958b50373c59d8599a4efb311d.txt  \n",
            "  inflating: /content/plant_detection/train/labels/b2_jpg.rf.9ec5647ad9a54dba25360cbbfe69dab7.txt  \n",
            "  inflating: /content/plant_detection/train/labels/b2_jpg.rf.bc8c470b4df526fc0283a4f75d82a7d8.txt  \n",
            "  inflating: /content/plant_detection/train/labels/b33_jpg.rf.22e0adeff34ecdae242383377fb32d66.txt  \n",
            "  inflating: /content/plant_detection/train/labels/b33_jpg.rf.43426529002b0a48c37e2b2ea3b58e5b.txt  \n",
            "  inflating: /content/plant_detection/train/labels/b33_jpg.rf.ed57b05b8efe330e05324f0c9e45a969.txt  \n",
            "  inflating: /content/plant_detection/train/labels/b34_jpg.rf.91535afe31625d9ff20a3f082cf3752d.txt  \n",
            "  inflating: /content/plant_detection/train/labels/b34_jpg.rf.bb27eaf0f4e6f927207e0be234bd22a7.txt  \n",
            "  inflating: /content/plant_detection/train/labels/b34_jpg.rf.cc30105b88caf6901ce774729bf27bd0.txt  \n",
            "  inflating: /content/plant_detection/train/labels/b35_jpg.rf.154d9d7bde84da8d8448a07d1501620e.txt  \n",
            "  inflating: /content/plant_detection/train/labels/b35_jpg.rf.a082dad9cdb10b9dad79ae77c305912c.txt  \n",
            "  inflating: /content/plant_detection/train/labels/b35_jpg.rf.f2a4be3bc58052938e5d98caf62e1071.txt  \n",
            " extracting: /content/plant_detection/train/labels/b37_jpg.rf.49f543284c7517f0b6b453b24d7a7407.txt  \n",
            "  inflating: /content/plant_detection/train/labels/b37_jpg.rf.4ab0085dd188eabb912cce69f4ec484b.txt  \n",
            "  inflating: /content/plant_detection/train/labels/b37_jpg.rf.6531393f6c4b76d5cb7c45c5881cb932.txt  \n",
            "  inflating: /content/plant_detection/train/labels/b8_jpeg.rf.6efb0330da0b0105723c22785cfcf5a4.txt  \n",
            "  inflating: /content/plant_detection/train/labels/b8_jpeg.rf.f66bc979366854766b3ef851af9fcb06.txt  \n",
            "  inflating: /content/plant_detection/train/labels/b8_jpeg.rf.fb7823ed63c5a248ccbc13d38fcd0ef3.txt  \n",
            "  inflating: /content/plant_detection/train/labels/download-1-_jpg.rf.4df13f88b1cc42d6eaeb9bbcef7cd90c.txt  \n",
            "  inflating: /content/plant_detection/train/labels/download-1-_jpg.rf.56f3e51734f5c3d099f483f513adc0f1.txt  \n",
            "  inflating: /content/plant_detection/train/labels/download-1-_jpg.rf.f1d689a3d188f417cb53e41f4b7e1371.txt  \n",
            "  inflating: /content/plant_detection/train/labels/download_jpg.rf.c188f3bee012315b43dc29a175f3b14b.txt  \n",
            "  inflating: /content/plant_detection/train/labels/download_jpg.rf.e8f5f35362d0430606171a10ed7849bd.txt  \n",
            "  inflating: /content/plant_detection/train/labels/download_jpg.rf.fb3bf28da558b351d2f6ceffbb5561f7.txt  \n",
            "  inflating: /content/plant_detection/train/labels/green-money-plant-500x500_webp.rf.02b8350065948f7468ae8290389c5832.txt  \n",
            "  inflating: /content/plant_detection/train/labels/green-money-plant-500x500_webp.rf.d26fdbc3d3cc401c1f5d99febc917b23.txt  \n",
            "  inflating: /content/plant_detection/train/labels/green-money-plant-500x500_webp.rf.dd7b39bfe754417e0cfa1f143086948d.txt  \n",
            "  inflating: /content/plant_detection/train/labels/images-13-_jpg.rf.48b33c013e5841593e89dcb4f3b7df2b.txt  \n",
            "  inflating: /content/plant_detection/train/labels/images-13-_jpg.rf.4edbc0353af7631772422d95f08166cd.txt  \n",
            "  inflating: /content/plant_detection/train/labels/images-13-_jpg.rf.b5c00906f92282e06a1561ccef39ccd3.txt  \n",
            "  inflating: /content/plant_detection/train/labels/images-2-_jpg.rf.0868d0cdbaa52ac2f6df2d9c325ea80a.txt  \n",
            "  inflating: /content/plant_detection/train/labels/images-2-_jpg.rf.10eac41672648b3b8ac874997308f7ec.txt  \n",
            " extracting: /content/plant_detection/train/labels/images-2-_jpg.rf.9f56f1560acac4a81abde5911c193177.txt  \n",
            "  inflating: /content/plant_detection/train/labels/images-7-_jpg.rf.1c85bf08d0055d95db78ee7c8a452287.txt  \n",
            "  inflating: /content/plant_detection/train/labels/images-7-_jpg.rf.8d3651cce29d0989f9682dbb401547b4.txt  \n",
            "  inflating: /content/plant_detection/train/labels/images-7-_jpg.rf.b41bfef39a2a90cc1712e908bfcdfbf7.txt  \n",
            "  inflating: /content/plant_detection/train/labels/images-8-_jpg.rf.249f750577f3d464ca1d09ee20097f21.txt  \n",
            "  inflating: /content/plant_detection/train/labels/images-8-_jpg.rf.41abc8689293df571566e7ce5a51ec42.txt  \n",
            "  inflating: /content/plant_detection/train/labels/images-8-_jpg.rf.a314ebc00d09ea5a5c2708fe676578d0.txt  \n",
            "   creating: /content/plant_detection/valid/\n",
            "   creating: /content/plant_detection/valid/images/\n",
            " extracting: /content/plant_detection/valid/images/10_jpg.rf.e52e3508576471938fcf6387b459dd22.jpg  \n",
            " extracting: /content/plant_detection/valid/images/16_jpg.rf.4c26aabca6aa4221162a1b7fb236c702.jpg  \n",
            " extracting: /content/plant_detection/valid/images/188_jpg.rf.8044560c51416eb464cf2f20cac6603d.jpg  \n",
            " extracting: /content/plant_detection/valid/images/191_jpg.rf.7c5f1dfd9bced60a7e6d461b0648a165.jpg  \n",
            " extracting: /content/plant_detection/valid/images/201_jpg.rf.4e655fe6dfcca56215b2861c9b2d4b7a.jpg  \n",
            " extracting: /content/plant_detection/valid/images/204_jpg.rf.d50edf50bd474fcf7269426b1e77b3c7.jpg  \n",
            " extracting: /content/plant_detection/valid/images/210_jpg.rf.92aaa94efeeb5ddbf5317cc361174203.jpg  \n",
            " extracting: /content/plant_detection/valid/images/213_jpg.rf.a2172189c3099af2933b832b9023129b.jpg  \n",
            " extracting: /content/plant_detection/valid/images/224_jpg.rf.ee174f08a88d98ef43b90dc20fcd47f7.jpg  \n",
            " extracting: /content/plant_detection/valid/images/228_jpg.rf.b5afba0b1acaa518fbdca73d8cf590eb.jpg  \n",
            " extracting: /content/plant_detection/valid/images/238_jpg.rf.74beaa231b1d0e4f57a194fd3eaf1622.jpg  \n",
            " extracting: /content/plant_detection/valid/images/244_jpg.rf.f1cc2a28b7cc1d989958a2c87e490399.jpg  \n",
            " extracting: /content/plant_detection/valid/images/245_jpg.rf.53c38176310910f0e517985063a63d7a.jpg  \n",
            " extracting: /content/plant_detection/valid/images/34_jpg.rf.1bec66086081a988fd499ab227a4f856.jpg  \n",
            " extracting: /content/plant_detection/valid/images/36_jpg.rf.1f90d0802caf02aa747b6907dab8da8c.jpg  \n",
            " extracting: /content/plant_detection/valid/images/3_png.rf.c10f85412bc6f33104f0a63c74fbf956.jpg  \n",
            " extracting: /content/plant_detection/valid/images/9_jpg.rf.5e1ce4bfc726c6f13b72585099e93143.jpg  \n",
            " extracting: /content/plant_detection/valid/images/b10_jpg.rf.a2d8956053ade963e06496000ea29527.jpg  \n",
            " extracting: /content/plant_detection/valid/images/b13_jpg.rf.2f37f5f5085383764f88cb6c9e3ccc02.jpg  \n",
            " extracting: /content/plant_detection/valid/images/b20_jpg.rf.d74cfa3362f0bfb5f31dda0a1e7522ce.jpg  \n",
            " extracting: /content/plant_detection/valid/images/b29_jpg.rf.729f708341267cabc3640c020d4db010.jpg  \n",
            " extracting: /content/plant_detection/valid/images/b30_jpg.rf.30a998f7ba1d17c042fa3a7c2fd127d7.jpg  \n",
            " extracting: /content/plant_detection/valid/images/b3_jpg.rf.8765dd332bbd4637a9afe00bf49c43a8.jpg  \n",
            " extracting: /content/plant_detection/valid/images/images-5-_jpg.rf.469301019f83f19f87fc6ae75d48c8bd.jpg  \n",
            "   creating: /content/plant_detection/valid/labels/\n",
            "  inflating: /content/plant_detection/valid/labels/10_jpg.rf.e52e3508576471938fcf6387b459dd22.txt  \n",
            "  inflating: /content/plant_detection/valid/labels/16_jpg.rf.4c26aabca6aa4221162a1b7fb236c702.txt  \n",
            "  inflating: /content/plant_detection/valid/labels/188_jpg.rf.8044560c51416eb464cf2f20cac6603d.txt  \n",
            "  inflating: /content/plant_detection/valid/labels/191_jpg.rf.7c5f1dfd9bced60a7e6d461b0648a165.txt  \n",
            "  inflating: /content/plant_detection/valid/labels/201_jpg.rf.4e655fe6dfcca56215b2861c9b2d4b7a.txt  \n",
            "  inflating: /content/plant_detection/valid/labels/204_jpg.rf.d50edf50bd474fcf7269426b1e77b3c7.txt  \n",
            "  inflating: /content/plant_detection/valid/labels/210_jpg.rf.92aaa94efeeb5ddbf5317cc361174203.txt  \n",
            "  inflating: /content/plant_detection/valid/labels/213_jpg.rf.a2172189c3099af2933b832b9023129b.txt  \n",
            "  inflating: /content/plant_detection/valid/labels/224_jpg.rf.ee174f08a88d98ef43b90dc20fcd47f7.txt  \n",
            "  inflating: /content/plant_detection/valid/labels/228_jpg.rf.b5afba0b1acaa518fbdca73d8cf590eb.txt  \n",
            "  inflating: /content/plant_detection/valid/labels/238_jpg.rf.74beaa231b1d0e4f57a194fd3eaf1622.txt  \n",
            "  inflating: /content/plant_detection/valid/labels/244_jpg.rf.f1cc2a28b7cc1d989958a2c87e490399.txt  \n",
            "  inflating: /content/plant_detection/valid/labels/245_jpg.rf.53c38176310910f0e517985063a63d7a.txt  \n",
            "  inflating: /content/plant_detection/valid/labels/34_jpg.rf.1bec66086081a988fd499ab227a4f856.txt  \n",
            "  inflating: /content/plant_detection/valid/labels/36_jpg.rf.1f90d0802caf02aa747b6907dab8da8c.txt  \n",
            "  inflating: /content/plant_detection/valid/labels/3_png.rf.c10f85412bc6f33104f0a63c74fbf956.txt  \n",
            "  inflating: /content/plant_detection/valid/labels/9_jpg.rf.5e1ce4bfc726c6f13b72585099e93143.txt  \n",
            "  inflating: /content/plant_detection/valid/labels/b10_jpg.rf.a2d8956053ade963e06496000ea29527.txt  \n",
            "  inflating: /content/plant_detection/valid/labels/b13_jpg.rf.2f37f5f5085383764f88cb6c9e3ccc02.txt  \n",
            "  inflating: /content/plant_detection/valid/labels/b20_jpg.rf.d74cfa3362f0bfb5f31dda0a1e7522ce.txt  \n",
            "  inflating: /content/plant_detection/valid/labels/b29_jpg.rf.729f708341267cabc3640c020d4db010.txt  \n",
            "  inflating: /content/plant_detection/valid/labels/b30_jpg.rf.30a998f7ba1d17c042fa3a7c2fd127d7.txt  \n",
            "  inflating: /content/plant_detection/valid/labels/b3_jpg.rf.8765dd332bbd4637a9afe00bf49c43a8.txt  \n",
            "  inflating: /content/plant_detection/valid/labels/images-5-_jpg.rf.469301019f83f19f87fc6ae75d48c8bd.txt  \n"
          ]
        }
      ]
    },
    {
      "cell_type": "code",
      "source": [
        "!ls /content/plant_detection"
      ],
      "metadata": {
        "colab": {
          "base_uri": "https://localhost:8080/"
        },
        "id": "vDHuOqmlMrKl",
        "outputId": "ca9d6006-31ae-493e-a2c1-c52440181e45"
      },
      "execution_count": 7,
      "outputs": [
        {
          "output_type": "stream",
          "name": "stdout",
          "text": [
            "data.yaml  README.dataset.txt  README.roboflow.txt  test  train  valid\n"
          ]
        }
      ]
    },
    {
      "cell_type": "code",
      "source": [
        "!pip install ultralytics\n"
      ],
      "metadata": {
        "colab": {
          "base_uri": "https://localhost:8080/"
        },
        "id": "3gYdop25MvdX",
        "outputId": "6b1c3aad-3ccc-4c8b-c0a5-fe41fc3275fd"
      },
      "execution_count": 8,
      "outputs": [
        {
          "output_type": "stream",
          "name": "stdout",
          "text": [
            "Collecting ultralytics\n",
            "  Downloading ultralytics-8.3.155-py3-none-any.whl.metadata (37 kB)\n",
            "Requirement already satisfied: numpy>=1.23.0 in /usr/local/lib/python3.11/dist-packages (from ultralytics) (2.0.2)\n",
            "Requirement already satisfied: matplotlib>=3.3.0 in /usr/local/lib/python3.11/dist-packages (from ultralytics) (3.10.0)\n",
            "Requirement already satisfied: opencv-python>=4.6.0 in /usr/local/lib/python3.11/dist-packages (from ultralytics) (4.11.0.86)\n",
            "Requirement already satisfied: pillow>=7.1.2 in /usr/local/lib/python3.11/dist-packages (from ultralytics) (11.2.1)\n",
            "Requirement already satisfied: pyyaml>=5.3.1 in /usr/local/lib/python3.11/dist-packages (from ultralytics) (6.0.2)\n",
            "Requirement already satisfied: requests>=2.23.0 in /usr/local/lib/python3.11/dist-packages (from ultralytics) (2.32.3)\n",
            "Requirement already satisfied: scipy>=1.4.1 in /usr/local/lib/python3.11/dist-packages (from ultralytics) (1.15.3)\n",
            "Requirement already satisfied: torch>=1.8.0 in /usr/local/lib/python3.11/dist-packages (from ultralytics) (2.6.0+cu124)\n",
            "Requirement already satisfied: torchvision>=0.9.0 in /usr/local/lib/python3.11/dist-packages (from ultralytics) (0.21.0+cu124)\n",
            "Requirement already satisfied: tqdm>=4.64.0 in /usr/local/lib/python3.11/dist-packages (from ultralytics) (4.67.1)\n",
            "Requirement already satisfied: psutil in /usr/local/lib/python3.11/dist-packages (from ultralytics) (5.9.5)\n",
            "Requirement already satisfied: py-cpuinfo in /usr/local/lib/python3.11/dist-packages (from ultralytics) (9.0.0)\n",
            "Requirement already satisfied: pandas>=1.1.4 in /usr/local/lib/python3.11/dist-packages (from ultralytics) (2.2.2)\n",
            "Collecting ultralytics-thop>=2.0.0 (from ultralytics)\n",
            "  Downloading ultralytics_thop-2.0.14-py3-none-any.whl.metadata (9.4 kB)\n",
            "Requirement already satisfied: contourpy>=1.0.1 in /usr/local/lib/python3.11/dist-packages (from matplotlib>=3.3.0->ultralytics) (1.3.2)\n",
            "Requirement already satisfied: cycler>=0.10 in /usr/local/lib/python3.11/dist-packages (from matplotlib>=3.3.0->ultralytics) (0.12.1)\n",
            "Requirement already satisfied: fonttools>=4.22.0 in /usr/local/lib/python3.11/dist-packages (from matplotlib>=3.3.0->ultralytics) (4.58.1)\n",
            "Requirement already satisfied: kiwisolver>=1.3.1 in /usr/local/lib/python3.11/dist-packages (from matplotlib>=3.3.0->ultralytics) (1.4.8)\n",
            "Requirement already satisfied: packaging>=20.0 in /usr/local/lib/python3.11/dist-packages (from matplotlib>=3.3.0->ultralytics) (24.2)\n",
            "Requirement already satisfied: pyparsing>=2.3.1 in /usr/local/lib/python3.11/dist-packages (from matplotlib>=3.3.0->ultralytics) (3.2.3)\n",
            "Requirement already satisfied: python-dateutil>=2.7 in /usr/local/lib/python3.11/dist-packages (from matplotlib>=3.3.0->ultralytics) (2.9.0.post0)\n",
            "Requirement already satisfied: pytz>=2020.1 in /usr/local/lib/python3.11/dist-packages (from pandas>=1.1.4->ultralytics) (2025.2)\n",
            "Requirement already satisfied: tzdata>=2022.7 in /usr/local/lib/python3.11/dist-packages (from pandas>=1.1.4->ultralytics) (2025.2)\n",
            "Requirement already satisfied: charset-normalizer<4,>=2 in /usr/local/lib/python3.11/dist-packages (from requests>=2.23.0->ultralytics) (3.4.2)\n",
            "Requirement already satisfied: idna<4,>=2.5 in /usr/local/lib/python3.11/dist-packages (from requests>=2.23.0->ultralytics) (3.10)\n",
            "Requirement already satisfied: urllib3<3,>=1.21.1 in /usr/local/lib/python3.11/dist-packages (from requests>=2.23.0->ultralytics) (2.4.0)\n",
            "Requirement already satisfied: certifi>=2017.4.17 in /usr/local/lib/python3.11/dist-packages (from requests>=2.23.0->ultralytics) (2025.4.26)\n",
            "Requirement already satisfied: filelock in /usr/local/lib/python3.11/dist-packages (from torch>=1.8.0->ultralytics) (3.18.0)\n",
            "Requirement already satisfied: typing-extensions>=4.10.0 in /usr/local/lib/python3.11/dist-packages (from torch>=1.8.0->ultralytics) (4.14.0)\n",
            "Requirement already satisfied: networkx in /usr/local/lib/python3.11/dist-packages (from torch>=1.8.0->ultralytics) (3.5)\n",
            "Requirement already satisfied: jinja2 in /usr/local/lib/python3.11/dist-packages (from torch>=1.8.0->ultralytics) (3.1.6)\n",
            "Requirement already satisfied: fsspec in /usr/local/lib/python3.11/dist-packages (from torch>=1.8.0->ultralytics) (2025.3.2)\n",
            "Collecting nvidia-cuda-nvrtc-cu12==12.4.127 (from torch>=1.8.0->ultralytics)\n",
            "  Downloading nvidia_cuda_nvrtc_cu12-12.4.127-py3-none-manylinux2014_x86_64.whl.metadata (1.5 kB)\n",
            "Collecting nvidia-cuda-runtime-cu12==12.4.127 (from torch>=1.8.0->ultralytics)\n",
            "  Downloading nvidia_cuda_runtime_cu12-12.4.127-py3-none-manylinux2014_x86_64.whl.metadata (1.5 kB)\n",
            "Collecting nvidia-cuda-cupti-cu12==12.4.127 (from torch>=1.8.0->ultralytics)\n",
            "  Downloading nvidia_cuda_cupti_cu12-12.4.127-py3-none-manylinux2014_x86_64.whl.metadata (1.6 kB)\n",
            "Collecting nvidia-cudnn-cu12==9.1.0.70 (from torch>=1.8.0->ultralytics)\n",
            "  Downloading nvidia_cudnn_cu12-9.1.0.70-py3-none-manylinux2014_x86_64.whl.metadata (1.6 kB)\n",
            "Collecting nvidia-cublas-cu12==12.4.5.8 (from torch>=1.8.0->ultralytics)\n",
            "  Downloading nvidia_cublas_cu12-12.4.5.8-py3-none-manylinux2014_x86_64.whl.metadata (1.5 kB)\n",
            "Collecting nvidia-cufft-cu12==11.2.1.3 (from torch>=1.8.0->ultralytics)\n",
            "  Downloading nvidia_cufft_cu12-11.2.1.3-py3-none-manylinux2014_x86_64.whl.metadata (1.5 kB)\n",
            "Collecting nvidia-curand-cu12==10.3.5.147 (from torch>=1.8.0->ultralytics)\n",
            "  Downloading nvidia_curand_cu12-10.3.5.147-py3-none-manylinux2014_x86_64.whl.metadata (1.5 kB)\n",
            "Collecting nvidia-cusolver-cu12==11.6.1.9 (from torch>=1.8.0->ultralytics)\n",
            "  Downloading nvidia_cusolver_cu12-11.6.1.9-py3-none-manylinux2014_x86_64.whl.metadata (1.6 kB)\n",
            "Collecting nvidia-cusparse-cu12==12.3.1.170 (from torch>=1.8.0->ultralytics)\n",
            "  Downloading nvidia_cusparse_cu12-12.3.1.170-py3-none-manylinux2014_x86_64.whl.metadata (1.6 kB)\n",
            "Requirement already satisfied: nvidia-cusparselt-cu12==0.6.2 in /usr/local/lib/python3.11/dist-packages (from torch>=1.8.0->ultralytics) (0.6.2)\n",
            "Requirement already satisfied: nvidia-nccl-cu12==2.21.5 in /usr/local/lib/python3.11/dist-packages (from torch>=1.8.0->ultralytics) (2.21.5)\n",
            "Requirement already satisfied: nvidia-nvtx-cu12==12.4.127 in /usr/local/lib/python3.11/dist-packages (from torch>=1.8.0->ultralytics) (12.4.127)\n",
            "Collecting nvidia-nvjitlink-cu12==12.4.127 (from torch>=1.8.0->ultralytics)\n",
            "  Downloading nvidia_nvjitlink_cu12-12.4.127-py3-none-manylinux2014_x86_64.whl.metadata (1.5 kB)\n",
            "Requirement already satisfied: triton==3.2.0 in /usr/local/lib/python3.11/dist-packages (from torch>=1.8.0->ultralytics) (3.2.0)\n",
            "Requirement already satisfied: sympy==1.13.1 in /usr/local/lib/python3.11/dist-packages (from torch>=1.8.0->ultralytics) (1.13.1)\n",
            "Requirement already satisfied: mpmath<1.4,>=1.1.0 in /usr/local/lib/python3.11/dist-packages (from sympy==1.13.1->torch>=1.8.0->ultralytics) (1.3.0)\n",
            "Requirement already satisfied: six>=1.5 in /usr/local/lib/python3.11/dist-packages (from python-dateutil>=2.7->matplotlib>=3.3.0->ultralytics) (1.17.0)\n",
            "Requirement already satisfied: MarkupSafe>=2.0 in /usr/local/lib/python3.11/dist-packages (from jinja2->torch>=1.8.0->ultralytics) (3.0.2)\n",
            "Downloading ultralytics-8.3.155-py3-none-any.whl (1.0 MB)\n",
            "\u001b[2K   \u001b[90m━━━━━━━━━━━━━━━━━━━━━━━━━━━━━━━━━━━━━━━━\u001b[0m \u001b[32m1.0/1.0 MB\u001b[0m \u001b[31m24.4 MB/s\u001b[0m eta \u001b[36m0:00:00\u001b[0m\n",
            "\u001b[?25hDownloading nvidia_cublas_cu12-12.4.5.8-py3-none-manylinux2014_x86_64.whl (363.4 MB)\n",
            "\u001b[2K   \u001b[90m━━━━━━━━━━━━━━━━━━━━━━━━━━━━━━━━━━━━━━━━\u001b[0m \u001b[32m363.4/363.4 MB\u001b[0m \u001b[31m2.2 MB/s\u001b[0m eta \u001b[36m0:00:00\u001b[0m\n",
            "\u001b[?25hDownloading nvidia_cuda_cupti_cu12-12.4.127-py3-none-manylinux2014_x86_64.whl (13.8 MB)\n",
            "\u001b[2K   \u001b[90m━━━━━━━━━━━━━━━━━━━━━━━━━━━━━━━━━━━━━━━━\u001b[0m \u001b[32m13.8/13.8 MB\u001b[0m \u001b[31m129.7 MB/s\u001b[0m eta \u001b[36m0:00:00\u001b[0m\n",
            "\u001b[?25hDownloading nvidia_cuda_nvrtc_cu12-12.4.127-py3-none-manylinux2014_x86_64.whl (24.6 MB)\n",
            "\u001b[2K   \u001b[90m━━━━━━━━━━━━━━━━━━━━━━━━━━━━━━━━━━━━━━━━\u001b[0m \u001b[32m24.6/24.6 MB\u001b[0m \u001b[31m96.6 MB/s\u001b[0m eta \u001b[36m0:00:00\u001b[0m\n",
            "\u001b[?25hDownloading nvidia_cuda_runtime_cu12-12.4.127-py3-none-manylinux2014_x86_64.whl (883 kB)\n",
            "\u001b[2K   \u001b[90m━━━━━━━━━━━━━━━━━━━━━━━━━━━━━━━━━━━━━━━━\u001b[0m \u001b[32m883.7/883.7 kB\u001b[0m \u001b[31m62.0 MB/s\u001b[0m eta \u001b[36m0:00:00\u001b[0m\n",
            "\u001b[?25hDownloading nvidia_cudnn_cu12-9.1.0.70-py3-none-manylinux2014_x86_64.whl (664.8 MB)\n",
            "\u001b[2K   \u001b[90m━━━━━━━━━━━━━━━━━━━━━━━━━━━━━━━━━━━━━━━━\u001b[0m \u001b[32m664.8/664.8 MB\u001b[0m \u001b[31m1.3 MB/s\u001b[0m eta \u001b[36m0:00:00\u001b[0m\n",
            "\u001b[?25hDownloading nvidia_cufft_cu12-11.2.1.3-py3-none-manylinux2014_x86_64.whl (211.5 MB)\n",
            "\u001b[2K   \u001b[90m━━━━━━━━━━━━━━━━━━━━━━━━━━━━━━━━━━━━━━━━\u001b[0m \u001b[32m211.5/211.5 MB\u001b[0m \u001b[31m5.4 MB/s\u001b[0m eta \u001b[36m0:00:00\u001b[0m\n",
            "\u001b[?25hDownloading nvidia_curand_cu12-10.3.5.147-py3-none-manylinux2014_x86_64.whl (56.3 MB)\n",
            "\u001b[2K   \u001b[90m━━━━━━━━━━━━━━━━━━━━━━━━━━━━━━━━━━━━━━━━\u001b[0m \u001b[32m56.3/56.3 MB\u001b[0m \u001b[31m12.6 MB/s\u001b[0m eta \u001b[36m0:00:00\u001b[0m\n",
            "\u001b[?25hDownloading nvidia_cusolver_cu12-11.6.1.9-py3-none-manylinux2014_x86_64.whl (127.9 MB)\n",
            "\u001b[2K   \u001b[90m━━━━━━━━━━━━━━━━━━━━━━━━━━━━━━━━━━━━━━━━\u001b[0m \u001b[32m127.9/127.9 MB\u001b[0m \u001b[31m7.3 MB/s\u001b[0m eta \u001b[36m0:00:00\u001b[0m\n",
            "\u001b[?25hDownloading nvidia_cusparse_cu12-12.3.1.170-py3-none-manylinux2014_x86_64.whl (207.5 MB)\n",
            "\u001b[2K   \u001b[90m━━━━━━━━━━━━━━━━━━━━━━━━━━━━━━━━━━━━━━━━\u001b[0m \u001b[32m207.5/207.5 MB\u001b[0m \u001b[31m5.8 MB/s\u001b[0m eta \u001b[36m0:00:00\u001b[0m\n",
            "\u001b[?25hDownloading nvidia_nvjitlink_cu12-12.4.127-py3-none-manylinux2014_x86_64.whl (21.1 MB)\n",
            "\u001b[2K   \u001b[90m━━━━━━━━━━━━━━━━━━━━━━━━━━━━━━━━━━━━━━━━\u001b[0m \u001b[32m21.1/21.1 MB\u001b[0m \u001b[31m101.2 MB/s\u001b[0m eta \u001b[36m0:00:00\u001b[0m\n",
            "\u001b[?25hDownloading ultralytics_thop-2.0.14-py3-none-any.whl (26 kB)\n",
            "Installing collected packages: nvidia-nvjitlink-cu12, nvidia-curand-cu12, nvidia-cufft-cu12, nvidia-cuda-runtime-cu12, nvidia-cuda-nvrtc-cu12, nvidia-cuda-cupti-cu12, nvidia-cublas-cu12, nvidia-cusparse-cu12, nvidia-cudnn-cu12, nvidia-cusolver-cu12, ultralytics-thop, ultralytics\n",
            "  Attempting uninstall: nvidia-nvjitlink-cu12\n",
            "    Found existing installation: nvidia-nvjitlink-cu12 12.5.82\n",
            "    Uninstalling nvidia-nvjitlink-cu12-12.5.82:\n",
            "      Successfully uninstalled nvidia-nvjitlink-cu12-12.5.82\n",
            "  Attempting uninstall: nvidia-curand-cu12\n",
            "    Found existing installation: nvidia-curand-cu12 10.3.6.82\n",
            "    Uninstalling nvidia-curand-cu12-10.3.6.82:\n",
            "      Successfully uninstalled nvidia-curand-cu12-10.3.6.82\n",
            "  Attempting uninstall: nvidia-cufft-cu12\n",
            "    Found existing installation: nvidia-cufft-cu12 11.2.3.61\n",
            "    Uninstalling nvidia-cufft-cu12-11.2.3.61:\n",
            "      Successfully uninstalled nvidia-cufft-cu12-11.2.3.61\n",
            "  Attempting uninstall: nvidia-cuda-runtime-cu12\n",
            "    Found existing installation: nvidia-cuda-runtime-cu12 12.5.82\n",
            "    Uninstalling nvidia-cuda-runtime-cu12-12.5.82:\n",
            "      Successfully uninstalled nvidia-cuda-runtime-cu12-12.5.82\n",
            "  Attempting uninstall: nvidia-cuda-nvrtc-cu12\n",
            "    Found existing installation: nvidia-cuda-nvrtc-cu12 12.5.82\n",
            "    Uninstalling nvidia-cuda-nvrtc-cu12-12.5.82:\n",
            "      Successfully uninstalled nvidia-cuda-nvrtc-cu12-12.5.82\n",
            "  Attempting uninstall: nvidia-cuda-cupti-cu12\n",
            "    Found existing installation: nvidia-cuda-cupti-cu12 12.5.82\n",
            "    Uninstalling nvidia-cuda-cupti-cu12-12.5.82:\n",
            "      Successfully uninstalled nvidia-cuda-cupti-cu12-12.5.82\n",
            "  Attempting uninstall: nvidia-cublas-cu12\n",
            "    Found existing installation: nvidia-cublas-cu12 12.5.3.2\n",
            "    Uninstalling nvidia-cublas-cu12-12.5.3.2:\n",
            "      Successfully uninstalled nvidia-cublas-cu12-12.5.3.2\n",
            "  Attempting uninstall: nvidia-cusparse-cu12\n",
            "    Found existing installation: nvidia-cusparse-cu12 12.5.1.3\n",
            "    Uninstalling nvidia-cusparse-cu12-12.5.1.3:\n",
            "      Successfully uninstalled nvidia-cusparse-cu12-12.5.1.3\n",
            "  Attempting uninstall: nvidia-cudnn-cu12\n",
            "    Found existing installation: nvidia-cudnn-cu12 9.3.0.75\n",
            "    Uninstalling nvidia-cudnn-cu12-9.3.0.75:\n",
            "      Successfully uninstalled nvidia-cudnn-cu12-9.3.0.75\n",
            "  Attempting uninstall: nvidia-cusolver-cu12\n",
            "    Found existing installation: nvidia-cusolver-cu12 11.6.3.83\n",
            "    Uninstalling nvidia-cusolver-cu12-11.6.3.83:\n",
            "      Successfully uninstalled nvidia-cusolver-cu12-11.6.3.83\n",
            "Successfully installed nvidia-cublas-cu12-12.4.5.8 nvidia-cuda-cupti-cu12-12.4.127 nvidia-cuda-nvrtc-cu12-12.4.127 nvidia-cuda-runtime-cu12-12.4.127 nvidia-cudnn-cu12-9.1.0.70 nvidia-cufft-cu12-11.2.1.3 nvidia-curand-cu12-10.3.5.147 nvidia-cusolver-cu12-11.6.1.9 nvidia-cusparse-cu12-12.3.1.170 nvidia-nvjitlink-cu12-12.4.127 ultralytics-8.3.155 ultralytics-thop-2.0.14\n"
          ]
        }
      ]
    },
    {
      "cell_type": "code",
      "source": [
        "from ultralytics import YOLO"
      ],
      "metadata": {
        "colab": {
          "base_uri": "https://localhost:8080/"
        },
        "id": "g7FGPEQbMzrb",
        "outputId": "2ede04dd-0105-4156-c443-b62266f93759"
      },
      "execution_count": 9,
      "outputs": [
        {
          "output_type": "stream",
          "name": "stdout",
          "text": [
            "Creating new Ultralytics Settings v0.0.6 file ✅ \n",
            "View Ultralytics Settings with 'yolo settings' or at '/root/.config/Ultralytics/settings.json'\n",
            "Update Settings with 'yolo settings key=value', i.e. 'yolo settings runs_dir=path/to/dir'. For help see https://docs.ultralytics.com/quickstart/#ultralytics-settings.\n"
          ]
        }
      ]
    },
    {
      "cell_type": "code",
      "source": [
        "# Load a pretrained YOLO11n model\n",
        "model = YOLO(\"yolo11n.pt\")\n",
        "\n",
        "\n",
        "model.train(\n",
        "    data='/content/plant_detection/data.yaml',\n",
        "    epochs= 15,\n",
        "    #patience=10,\n",
        "    imgsz=640,\n",
        "    device=0,\n",
        "    #batch=16,\n",
        "    )\n",
        "\n"
      ],
      "metadata": {
        "colab": {
          "base_uri": "https://localhost:8080/"
        },
        "id": "krnkdev3M7Lb",
        "outputId": "31cfe4a5-886f-4e57-95b3-3574ed133406"
      },
      "execution_count": 10,
      "outputs": [
        {
          "output_type": "stream",
          "name": "stdout",
          "text": [
            "Downloading https://github.com/ultralytics/assets/releases/download/v8.3.0/yolo11n.pt to 'yolo11n.pt'...\n"
          ]
        },
        {
          "output_type": "stream",
          "name": "stderr",
          "text": [
            "100%|██████████| 5.35M/5.35M [00:00<00:00, 91.2MB/s]\n"
          ]
        },
        {
          "output_type": "stream",
          "name": "stdout",
          "text": [
            "Ultralytics 8.3.155 🚀 Python-3.11.13 torch-2.6.0+cu124 CUDA:0 (Tesla T4, 15095MiB)\n",
            "\u001b[34m\u001b[1mengine/trainer: \u001b[0magnostic_nms=False, amp=True, augment=False, auto_augment=randaugment, batch=16, bgr=0.0, box=7.5, cache=False, cfg=None, classes=None, close_mosaic=10, cls=0.5, conf=None, copy_paste=0.0, copy_paste_mode=flip, cos_lr=False, cutmix=0.0, data=/content/plant_detection/data.yaml, degrees=0.0, deterministic=True, device=0, dfl=1.5, dnn=False, dropout=0.0, dynamic=False, embed=None, epochs=15, erasing=0.4, exist_ok=False, fliplr=0.5, flipud=0.0, format=torchscript, fraction=1.0, freeze=None, half=False, hsv_h=0.015, hsv_s=0.7, hsv_v=0.4, imgsz=640, int8=False, iou=0.7, keras=False, kobj=1.0, line_width=None, lr0=0.01, lrf=0.01, mask_ratio=4, max_det=300, mixup=0.0, mode=train, model=yolo11n.pt, momentum=0.937, mosaic=1.0, multi_scale=False, name=train, nbs=64, nms=False, opset=None, optimize=False, optimizer=auto, overlap_mask=True, patience=100, perspective=0.0, plots=True, pose=12.0, pretrained=True, profile=False, project=None, rect=False, resume=False, retina_masks=False, save=True, save_conf=False, save_crop=False, save_dir=runs/detect/train, save_frames=False, save_json=False, save_period=-1, save_txt=False, scale=0.5, seed=0, shear=0.0, show=False, show_boxes=True, show_conf=True, show_labels=True, simplify=True, single_cls=False, source=None, split=val, stream_buffer=False, task=detect, time=None, tracker=botsort.yaml, translate=0.1, val=True, verbose=True, vid_stride=1, visualize=False, warmup_bias_lr=0.1, warmup_epochs=3.0, warmup_momentum=0.8, weight_decay=0.0005, workers=8, workspace=None\n",
            "Downloading https://ultralytics.com/assets/Arial.ttf to '/root/.config/Ultralytics/Arial.ttf'...\n"
          ]
        },
        {
          "output_type": "stream",
          "name": "stderr",
          "text": [
            "100%|██████████| 755k/755k [00:00<00:00, 24.1MB/s]"
          ]
        },
        {
          "output_type": "stream",
          "name": "stdout",
          "text": [
            "Overriding model.yaml nc=80 with nc=4\n",
            "\n",
            "                   from  n    params  module                                       arguments                     \n",
            "  0                  -1  1       464  ultralytics.nn.modules.conv.Conv             [3, 16, 3, 2]                 \n",
            "  1                  -1  1      4672  ultralytics.nn.modules.conv.Conv             [16, 32, 3, 2]                \n",
            "  2                  -1  1      6640  ultralytics.nn.modules.block.C3k2            [32, 64, 1, False, 0.25]      \n",
            "  3                  -1  1     36992  ultralytics.nn.modules.conv.Conv             [64, 64, 3, 2]                \n",
            "  4                  -1  1     26080  ultralytics.nn.modules.block.C3k2            [64, 128, 1, False, 0.25]     \n",
            "  5                  -1  1    147712  ultralytics.nn.modules.conv.Conv             [128, 128, 3, 2]              \n",
            "  6                  -1  1     87040  ultralytics.nn.modules.block.C3k2            [128, 128, 1, True]           \n",
            "  7                  -1  1    295424  ultralytics.nn.modules.conv.Conv             [128, 256, 3, 2]              \n",
            "  8                  -1  1    346112  ultralytics.nn.modules.block.C3k2            [256, 256, 1, True]           \n",
            "  9                  -1  1    164608  ultralytics.nn.modules.block.SPPF            [256, 256, 5]                 \n"
          ]
        },
        {
          "output_type": "stream",
          "name": "stderr",
          "text": [
            "\n"
          ]
        },
        {
          "output_type": "stream",
          "name": "stdout",
          "text": [
            " 10                  -1  1    249728  ultralytics.nn.modules.block.C2PSA           [256, 256, 1]                 \n",
            " 11                  -1  1         0  torch.nn.modules.upsampling.Upsample         [None, 2, 'nearest']          \n",
            " 12             [-1, 6]  1         0  ultralytics.nn.modules.conv.Concat           [1]                           \n",
            " 13                  -1  1    111296  ultralytics.nn.modules.block.C3k2            [384, 128, 1, False]          \n",
            " 14                  -1  1         0  torch.nn.modules.upsampling.Upsample         [None, 2, 'nearest']          \n",
            " 15             [-1, 4]  1         0  ultralytics.nn.modules.conv.Concat           [1]                           \n",
            " 16                  -1  1     32096  ultralytics.nn.modules.block.C3k2            [256, 64, 1, False]           \n",
            " 17                  -1  1     36992  ultralytics.nn.modules.conv.Conv             [64, 64, 3, 2]                \n",
            " 18            [-1, 13]  1         0  ultralytics.nn.modules.conv.Concat           [1]                           \n",
            " 19                  -1  1     86720  ultralytics.nn.modules.block.C3k2            [192, 128, 1, False]          \n",
            " 20                  -1  1    147712  ultralytics.nn.modules.conv.Conv             [128, 128, 3, 2]              \n",
            " 21            [-1, 10]  1         0  ultralytics.nn.modules.conv.Concat           [1]                           \n",
            " 22                  -1  1    378880  ultralytics.nn.modules.block.C3k2            [384, 256, 1, True]           \n",
            " 23        [16, 19, 22]  1    431452  ultralytics.nn.modules.head.Detect           [4, [64, 128, 256]]           \n",
            "YOLO11n summary: 181 layers, 2,590,620 parameters, 2,590,604 gradients, 6.4 GFLOPs\n",
            "\n",
            "Transferred 448/499 items from pretrained weights\n",
            "Freezing layer 'model.23.dfl.conv.weight'\n",
            "\u001b[34m\u001b[1mAMP: \u001b[0mrunning Automatic Mixed Precision (AMP) checks...\n",
            "\u001b[34m\u001b[1mAMP: \u001b[0mchecks passed ✅\n",
            "\u001b[34m\u001b[1mtrain: \u001b[0mFast image access ✅ (ping: 0.0±0.0 ms, read: 169.2±200.4 MB/s, size: 49.9 KB)\n"
          ]
        },
        {
          "output_type": "stream",
          "name": "stderr",
          "text": [
            "\u001b[34m\u001b[1mtrain: \u001b[0mScanning /content/plant_detection/train/labels... 252 images, 0 backgrounds, 0 corrupt: 100%|██████████| 252/252 [00:00<00:00, 716.83it/s]"
          ]
        },
        {
          "output_type": "stream",
          "name": "stdout",
          "text": [
            "\u001b[34m\u001b[1mtrain: \u001b[0mNew cache created: /content/plant_detection/train/labels.cache\n"
          ]
        },
        {
          "output_type": "stream",
          "name": "stderr",
          "text": [
            "\n"
          ]
        },
        {
          "output_type": "stream",
          "name": "stdout",
          "text": [
            "\u001b[34m\u001b[1malbumentations: \u001b[0mBlur(p=0.01, blur_limit=(3, 7)), MedianBlur(p=0.01, blur_limit=(3, 7)), ToGray(p=0.01, method='weighted_average', num_output_channels=3), CLAHE(p=0.01, clip_limit=(1.0, 4.0), tile_grid_size=(8, 8))\n",
            "\u001b[34m\u001b[1mval: \u001b[0mFast image access ✅ (ping: 0.0±0.0 ms, read: 15.9±4.9 MB/s, size: 47.0 KB)\n"
          ]
        },
        {
          "output_type": "stream",
          "name": "stderr",
          "text": [
            "\u001b[34m\u001b[1mval: \u001b[0mScanning /content/plant_detection/valid/labels... 24 images, 0 backgrounds, 0 corrupt: 100%|██████████| 24/24 [00:00<00:00, 688.41it/s]"
          ]
        },
        {
          "output_type": "stream",
          "name": "stdout",
          "text": [
            "\u001b[34m\u001b[1mval: \u001b[0mNew cache created: /content/plant_detection/valid/labels.cache\n"
          ]
        },
        {
          "output_type": "stream",
          "name": "stderr",
          "text": [
            "\n"
          ]
        },
        {
          "output_type": "stream",
          "name": "stdout",
          "text": [
            "Plotting labels to runs/detect/train/labels.jpg... \n",
            "\u001b[34m\u001b[1moptimizer:\u001b[0m 'optimizer=auto' found, ignoring 'lr0=0.01' and 'momentum=0.937' and determining best 'optimizer', 'lr0' and 'momentum' automatically... \n",
            "\u001b[34m\u001b[1moptimizer:\u001b[0m AdamW(lr=0.00125, momentum=0.9) with parameter groups 81 weight(decay=0.0), 88 weight(decay=0.0005), 87 bias(decay=0.0)\n",
            "Image sizes 640 train, 640 val\n",
            "Using 2 dataloader workers\n",
            "Logging results to \u001b[1mruns/detect/train\u001b[0m\n",
            "Starting training for 15 epochs...\n",
            "\n",
            "      Epoch    GPU_mem   box_loss   cls_loss   dfl_loss  Instances       Size\n"
          ]
        },
        {
          "output_type": "stream",
          "name": "stderr",
          "text": [
            "       1/15      2.28G      1.704      3.668      2.041         28        640: 100%|██████████| 16/16 [00:06<00:00,  2.61it/s]\n",
            "                 Class     Images  Instances      Box(P          R      mAP50  mAP50-95): 100%|██████████| 1/1 [00:01<00:00,  1.16s/it]"
          ]
        },
        {
          "output_type": "stream",
          "name": "stdout",
          "text": [
            "                   all         24         25    0.00631      0.964       0.12     0.0487\n"
          ]
        },
        {
          "output_type": "stream",
          "name": "stderr",
          "text": [
            "\n"
          ]
        },
        {
          "output_type": "stream",
          "name": "stdout",
          "text": [
            "\n",
            "      Epoch    GPU_mem   box_loss   cls_loss   dfl_loss  Instances       Size\n"
          ]
        },
        {
          "output_type": "stream",
          "name": "stderr",
          "text": [
            "       2/15      2.42G      1.425      3.225      1.799         19        640: 100%|██████████| 16/16 [00:05<00:00,  2.90it/s]\n",
            "                 Class     Images  Instances      Box(P          R      mAP50  mAP50-95): 100%|██████████| 1/1 [00:00<00:00,  2.98it/s]"
          ]
        },
        {
          "output_type": "stream",
          "name": "stdout",
          "text": [
            "                   all         24         25    0.00724      0.964      0.423      0.202\n"
          ]
        },
        {
          "output_type": "stream",
          "name": "stderr",
          "text": [
            "\n"
          ]
        },
        {
          "output_type": "stream",
          "name": "stdout",
          "text": [
            "\n",
            "      Epoch    GPU_mem   box_loss   cls_loss   dfl_loss  Instances       Size\n"
          ]
        },
        {
          "output_type": "stream",
          "name": "stderr",
          "text": [
            "       3/15      2.44G      1.475      2.729      1.799         36        640: 100%|██████████| 16/16 [00:04<00:00,  3.93it/s]\n",
            "                 Class     Images  Instances      Box(P          R      mAP50  mAP50-95): 100%|██████████| 1/1 [00:00<00:00,  4.28it/s]"
          ]
        },
        {
          "output_type": "stream",
          "name": "stdout",
          "text": [
            "                   all         24         25    0.00488      0.887      0.493      0.266\n"
          ]
        },
        {
          "output_type": "stream",
          "name": "stderr",
          "text": [
            "\n"
          ]
        },
        {
          "output_type": "stream",
          "name": "stdout",
          "text": [
            "\n",
            "      Epoch    GPU_mem   box_loss   cls_loss   dfl_loss  Instances       Size\n"
          ]
        },
        {
          "output_type": "stream",
          "name": "stderr",
          "text": [
            "       4/15      2.45G       1.48      2.384      1.775         27        640: 100%|██████████| 16/16 [00:04<00:00,  3.89it/s]\n",
            "                 Class     Images  Instances      Box(P          R      mAP50  mAP50-95): 100%|██████████| 1/1 [00:00<00:00,  2.32it/s]"
          ]
        },
        {
          "output_type": "stream",
          "name": "stdout",
          "text": [
            "                   all         24         25     0.0044      0.923      0.338      0.114\n"
          ]
        },
        {
          "output_type": "stream",
          "name": "stderr",
          "text": [
            "\n"
          ]
        },
        {
          "output_type": "stream",
          "name": "stdout",
          "text": [
            "\n",
            "      Epoch    GPU_mem   box_loss   cls_loss   dfl_loss  Instances       Size\n"
          ]
        },
        {
          "output_type": "stream",
          "name": "stderr",
          "text": [
            "       5/15      2.47G      1.407      2.065      1.711         32        640: 100%|██████████| 16/16 [00:04<00:00,  3.44it/s]\n",
            "                 Class     Images  Instances      Box(P          R      mAP50  mAP50-95): 100%|██████████| 1/1 [00:00<00:00,  3.95it/s]"
          ]
        },
        {
          "output_type": "stream",
          "name": "stdout",
          "text": [
            "                   all         24         25      0.818      0.314      0.662      0.247\n"
          ]
        },
        {
          "output_type": "stream",
          "name": "stderr",
          "text": [
            "\n"
          ]
        },
        {
          "output_type": "stream",
          "name": "stdout",
          "text": [
            "Closing dataloader mosaic\n",
            "\u001b[34m\u001b[1malbumentations: \u001b[0mBlur(p=0.01, blur_limit=(3, 7)), MedianBlur(p=0.01, blur_limit=(3, 7)), ToGray(p=0.01, method='weighted_average', num_output_channels=3), CLAHE(p=0.01, clip_limit=(1.0, 4.0), tile_grid_size=(8, 8))\n",
            "\n",
            "      Epoch    GPU_mem   box_loss   cls_loss   dfl_loss  Instances       Size\n"
          ]
        },
        {
          "output_type": "stream",
          "name": "stderr",
          "text": [
            "       6/15      2.48G      1.324      2.665       1.99         12        640: 100%|██████████| 16/16 [00:05<00:00,  3.15it/s]\n",
            "                 Class     Images  Instances      Box(P          R      mAP50  mAP50-95): 100%|██████████| 1/1 [00:00<00:00,  4.63it/s]"
          ]
        },
        {
          "output_type": "stream",
          "name": "stdout",
          "text": [
            "                   all         24         25      0.713      0.351      0.491      0.198\n"
          ]
        },
        {
          "output_type": "stream",
          "name": "stderr",
          "text": [
            "\n"
          ]
        },
        {
          "output_type": "stream",
          "name": "stdout",
          "text": [
            "\n",
            "      Epoch    GPU_mem   box_loss   cls_loss   dfl_loss  Instances       Size\n"
          ]
        },
        {
          "output_type": "stream",
          "name": "stderr",
          "text": [
            "       7/15       2.5G      1.222      2.418      1.826         12        640: 100%|██████████| 16/16 [00:04<00:00,  3.21it/s]\n",
            "                 Class     Images  Instances      Box(P          R      mAP50  mAP50-95): 100%|██████████| 1/1 [00:00<00:00,  2.35it/s]"
          ]
        },
        {
          "output_type": "stream",
          "name": "stdout",
          "text": [
            "                   all         24         25      0.608      0.244      0.402      0.181\n"
          ]
        },
        {
          "output_type": "stream",
          "name": "stderr",
          "text": [
            "\n"
          ]
        },
        {
          "output_type": "stream",
          "name": "stdout",
          "text": [
            "\n",
            "      Epoch    GPU_mem   box_loss   cls_loss   dfl_loss  Instances       Size\n"
          ]
        },
        {
          "output_type": "stream",
          "name": "stderr",
          "text": [
            "       8/15      2.51G      1.204      2.251      1.836         12        640: 100%|██████████| 16/16 [00:03<00:00,  4.28it/s]\n",
            "                 Class     Images  Instances      Box(P          R      mAP50  mAP50-95): 100%|██████████| 1/1 [00:00<00:00,  4.46it/s]"
          ]
        },
        {
          "output_type": "stream",
          "name": "stdout",
          "text": [
            "                   all         24         25      0.671      0.542      0.688      0.291\n"
          ]
        },
        {
          "output_type": "stream",
          "name": "stderr",
          "text": [
            "\n"
          ]
        },
        {
          "output_type": "stream",
          "name": "stdout",
          "text": [
            "\n",
            "      Epoch    GPU_mem   box_loss   cls_loss   dfl_loss  Instances       Size\n"
          ]
        },
        {
          "output_type": "stream",
          "name": "stderr",
          "text": [
            "       9/15      2.53G      1.201      2.093       1.83         12        640: 100%|██████████| 16/16 [00:03<00:00,  4.18it/s]\n",
            "                 Class     Images  Instances      Box(P          R      mAP50  mAP50-95): 100%|██████████| 1/1 [00:00<00:00,  4.77it/s]"
          ]
        },
        {
          "output_type": "stream",
          "name": "stdout",
          "text": [
            "                   all         24         25      0.648      0.686      0.784      0.318\n"
          ]
        },
        {
          "output_type": "stream",
          "name": "stderr",
          "text": [
            "\n"
          ]
        },
        {
          "output_type": "stream",
          "name": "stdout",
          "text": [
            "\n",
            "      Epoch    GPU_mem   box_loss   cls_loss   dfl_loss  Instances       Size\n"
          ]
        },
        {
          "output_type": "stream",
          "name": "stderr",
          "text": [
            "      10/15      2.54G      1.074      1.985      1.673         12        640: 100%|██████████| 16/16 [00:06<00:00,  2.66it/s]\n",
            "                 Class     Images  Instances      Box(P          R      mAP50  mAP50-95): 100%|██████████| 1/1 [00:00<00:00,  3.29it/s]"
          ]
        },
        {
          "output_type": "stream",
          "name": "stdout",
          "text": [
            "                   all         24         25      0.717       0.67      0.709      0.307\n"
          ]
        },
        {
          "output_type": "stream",
          "name": "stderr",
          "text": [
            "\n"
          ]
        },
        {
          "output_type": "stream",
          "name": "stdout",
          "text": [
            "\n",
            "      Epoch    GPU_mem   box_loss   cls_loss   dfl_loss  Instances       Size\n"
          ]
        },
        {
          "output_type": "stream",
          "name": "stderr",
          "text": [
            "      11/15      2.56G     0.9702       1.78      1.576         12        640: 100%|██████████| 16/16 [00:03<00:00,  4.42it/s]\n",
            "                 Class     Images  Instances      Box(P          R      mAP50  mAP50-95): 100%|██████████| 1/1 [00:00<00:00,  3.40it/s]"
          ]
        },
        {
          "output_type": "stream",
          "name": "stdout",
          "text": [
            "                   all         24         25      0.845      0.687      0.799      0.334\n"
          ]
        },
        {
          "output_type": "stream",
          "name": "stderr",
          "text": [
            "\n"
          ]
        },
        {
          "output_type": "stream",
          "name": "stdout",
          "text": [
            "\n",
            "      Epoch    GPU_mem   box_loss   cls_loss   dfl_loss  Instances       Size\n"
          ]
        },
        {
          "output_type": "stream",
          "name": "stderr",
          "text": [
            "      12/15      2.57G     0.9195       1.65      1.539         12        640: 100%|██████████| 16/16 [00:03<00:00,  4.42it/s]\n",
            "                 Class     Images  Instances      Box(P          R      mAP50  mAP50-95): 100%|██████████| 1/1 [00:00<00:00,  3.63it/s]"
          ]
        },
        {
          "output_type": "stream",
          "name": "stdout",
          "text": [
            "                   all         24         25      0.872      0.844      0.881      0.359\n"
          ]
        },
        {
          "output_type": "stream",
          "name": "stderr",
          "text": [
            "\n"
          ]
        },
        {
          "output_type": "stream",
          "name": "stdout",
          "text": [
            "\n",
            "      Epoch    GPU_mem   box_loss   cls_loss   dfl_loss  Instances       Size\n"
          ]
        },
        {
          "output_type": "stream",
          "name": "stderr",
          "text": [
            "      13/15      2.58G     0.8521      1.569       1.45         12        640: 100%|██████████| 16/16 [00:05<00:00,  3.15it/s]\n",
            "                 Class     Images  Instances      Box(P          R      mAP50  mAP50-95): 100%|██████████| 1/1 [00:00<00:00,  5.13it/s]\n"
          ]
        },
        {
          "output_type": "stream",
          "name": "stdout",
          "text": [
            "                   all         24         25      0.777      0.881      0.856      0.383\n",
            "\n",
            "      Epoch    GPU_mem   box_loss   cls_loss   dfl_loss  Instances       Size\n"
          ]
        },
        {
          "output_type": "stream",
          "name": "stderr",
          "text": [
            "      14/15       2.6G     0.8041      1.489        1.4         12        640: 100%|██████████| 16/16 [00:03<00:00,  4.39it/s]\n",
            "                 Class     Images  Instances      Box(P          R      mAP50  mAP50-95): 100%|██████████| 1/1 [00:00<00:00,  4.86it/s]"
          ]
        },
        {
          "output_type": "stream",
          "name": "stdout",
          "text": [
            "                   all         24         25        0.9      0.837      0.905      0.444\n"
          ]
        },
        {
          "output_type": "stream",
          "name": "stderr",
          "text": [
            "\n"
          ]
        },
        {
          "output_type": "stream",
          "name": "stdout",
          "text": [
            "\n",
            "      Epoch    GPU_mem   box_loss   cls_loss   dfl_loss  Instances       Size\n"
          ]
        },
        {
          "output_type": "stream",
          "name": "stderr",
          "text": [
            "      15/15      2.62G     0.7324      1.472      1.333         12        640: 100%|██████████| 16/16 [00:03<00:00,  4.35it/s]\n",
            "                 Class     Images  Instances      Box(P          R      mAP50  mAP50-95): 100%|██████████| 1/1 [00:00<00:00,  4.24it/s]"
          ]
        },
        {
          "output_type": "stream",
          "name": "stdout",
          "text": [
            "                   all         24         25      0.942      0.855      0.896      0.453\n"
          ]
        },
        {
          "output_type": "stream",
          "name": "stderr",
          "text": [
            "\n"
          ]
        },
        {
          "output_type": "stream",
          "name": "stdout",
          "text": [
            "\n",
            "15 epochs completed in 0.022 hours.\n",
            "Optimizer stripped from runs/detect/train/weights/last.pt, 5.5MB\n",
            "Optimizer stripped from runs/detect/train/weights/best.pt, 5.5MB\n",
            "\n",
            "Validating runs/detect/train/weights/best.pt...\n",
            "Ultralytics 8.3.155 🚀 Python-3.11.13 torch-2.6.0+cu124 CUDA:0 (Tesla T4, 15095MiB)\n",
            "YOLO11n summary (fused): 100 layers, 2,582,932 parameters, 0 gradients, 6.3 GFLOPs\n"
          ]
        },
        {
          "output_type": "stream",
          "name": "stderr",
          "text": [
            "                 Class     Images  Instances      Box(P          R      mAP50  mAP50-95): 100%|██████████| 1/1 [00:00<00:00,  3.34it/s]\n"
          ]
        },
        {
          "output_type": "stream",
          "name": "stdout",
          "text": [
            "                   all         24         25      0.942      0.856      0.896      0.453\n",
            "             Aloe Vera          6          6      0.826      0.798      0.839      0.418\n",
            "               Begonia          6          6          1      0.945      0.995      0.589\n",
            "           Money Plant          6          6      0.942      0.833      0.895      0.305\n",
            "     Rattlesnake Plant          6          7          1      0.847      0.855        0.5\n",
            "Speed: 0.5ms preprocess, 2.3ms inference, 0.0ms loss, 3.2ms postprocess per image\n",
            "Results saved to \u001b[1mruns/detect/train\u001b[0m\n"
          ]
        },
        {
          "output_type": "execute_result",
          "data": {
            "text/plain": [
              "ultralytics.utils.metrics.DetMetrics object with attributes:\n",
              "\n",
              "ap_class_index: array([0, 1, 2, 3])\n",
              "box: ultralytics.utils.metrics.Metric object\n",
              "confusion_matrix: <ultralytics.utils.metrics.ConfusionMatrix object at 0x799aab719fd0>\n",
              "curves: ['Precision-Recall(B)', 'F1-Confidence(B)', 'Precision-Confidence(B)', 'Recall-Confidence(B)']\n",
              "curves_results: [[array([          0,    0.001001,    0.002002,    0.003003,    0.004004,    0.005005,    0.006006,    0.007007,    0.008008,    0.009009,     0.01001,    0.011011,    0.012012,    0.013013,    0.014014,    0.015015,    0.016016,    0.017017,    0.018018,    0.019019,     0.02002,    0.021021,    0.022022,    0.023023,\n",
              "          0.024024,    0.025025,    0.026026,    0.027027,    0.028028,    0.029029,     0.03003,    0.031031,    0.032032,    0.033033,    0.034034,    0.035035,    0.036036,    0.037037,    0.038038,    0.039039,     0.04004,    0.041041,    0.042042,    0.043043,    0.044044,    0.045045,    0.046046,    0.047047,\n",
              "          0.048048,    0.049049,     0.05005,    0.051051,    0.052052,    0.053053,    0.054054,    0.055055,    0.056056,    0.057057,    0.058058,    0.059059,     0.06006,    0.061061,    0.062062,    0.063063,    0.064064,    0.065065,    0.066066,    0.067067,    0.068068,    0.069069,     0.07007,    0.071071,\n",
              "          0.072072,    0.073073,    0.074074,    0.075075,    0.076076,    0.077077,    0.078078,    0.079079,     0.08008,    0.081081,    0.082082,    0.083083,    0.084084,    0.085085,    0.086086,    0.087087,    0.088088,    0.089089,     0.09009,    0.091091,    0.092092,    0.093093,    0.094094,    0.095095,\n",
              "          0.096096,    0.097097,    0.098098,    0.099099,      0.1001,      0.1011,      0.1021,      0.1031,      0.1041,     0.10511,     0.10611,     0.10711,     0.10811,     0.10911,     0.11011,     0.11111,     0.11211,     0.11311,     0.11411,     0.11512,     0.11612,     0.11712,     0.11812,     0.11912,\n",
              "           0.12012,     0.12112,     0.12212,     0.12312,     0.12412,     0.12513,     0.12613,     0.12713,     0.12813,     0.12913,     0.13013,     0.13113,     0.13213,     0.13313,     0.13413,     0.13514,     0.13614,     0.13714,     0.13814,     0.13914,     0.14014,     0.14114,     0.14214,     0.14314,\n",
              "           0.14414,     0.14515,     0.14615,     0.14715,     0.14815,     0.14915,     0.15015,     0.15115,     0.15215,     0.15315,     0.15415,     0.15516,     0.15616,     0.15716,     0.15816,     0.15916,     0.16016,     0.16116,     0.16216,     0.16316,     0.16416,     0.16517,     0.16617,     0.16717,\n",
              "           0.16817,     0.16917,     0.17017,     0.17117,     0.17217,     0.17317,     0.17417,     0.17518,     0.17618,     0.17718,     0.17818,     0.17918,     0.18018,     0.18118,     0.18218,     0.18318,     0.18418,     0.18519,     0.18619,     0.18719,     0.18819,     0.18919,     0.19019,     0.19119,\n",
              "           0.19219,     0.19319,     0.19419,      0.1952,      0.1962,      0.1972,      0.1982,      0.1992,      0.2002,      0.2012,      0.2022,      0.2032,      0.2042,     0.20521,     0.20621,     0.20721,     0.20821,     0.20921,     0.21021,     0.21121,     0.21221,     0.21321,     0.21421,     0.21522,\n",
              "           0.21622,     0.21722,     0.21822,     0.21922,     0.22022,     0.22122,     0.22222,     0.22322,     0.22422,     0.22523,     0.22623,     0.22723,     0.22823,     0.22923,     0.23023,     0.23123,     0.23223,     0.23323,     0.23423,     0.23524,     0.23624,     0.23724,     0.23824,     0.23924,\n",
              "           0.24024,     0.24124,     0.24224,     0.24324,     0.24424,     0.24525,     0.24625,     0.24725,     0.24825,     0.24925,     0.25025,     0.25125,     0.25225,     0.25325,     0.25425,     0.25526,     0.25626,     0.25726,     0.25826,     0.25926,     0.26026,     0.26126,     0.26226,     0.26326,\n",
              "           0.26426,     0.26527,     0.26627,     0.26727,     0.26827,     0.26927,     0.27027,     0.27127,     0.27227,     0.27327,     0.27427,     0.27528,     0.27628,     0.27728,     0.27828,     0.27928,     0.28028,     0.28128,     0.28228,     0.28328,     0.28428,     0.28529,     0.28629,     0.28729,\n",
              "           0.28829,     0.28929,     0.29029,     0.29129,     0.29229,     0.29329,     0.29429,      0.2953,      0.2963,      0.2973,      0.2983,      0.2993,      0.3003,      0.3013,      0.3023,      0.3033,      0.3043,     0.30531,     0.30631,     0.30731,     0.30831,     0.30931,     0.31031,     0.31131,\n",
              "           0.31231,     0.31331,     0.31431,     0.31532,     0.31632,     0.31732,     0.31832,     0.31932,     0.32032,     0.32132,     0.32232,     0.32332,     0.32432,     0.32533,     0.32633,     0.32733,     0.32833,     0.32933,     0.33033,     0.33133,     0.33233,     0.33333,     0.33433,     0.33534,\n",
              "           0.33634,     0.33734,     0.33834,     0.33934,     0.34034,     0.34134,     0.34234,     0.34334,     0.34434,     0.34535,     0.34635,     0.34735,     0.34835,     0.34935,     0.35035,     0.35135,     0.35235,     0.35335,     0.35435,     0.35536,     0.35636,     0.35736,     0.35836,     0.35936,\n",
              "           0.36036,     0.36136,     0.36236,     0.36336,     0.36436,     0.36537,     0.36637,     0.36737,     0.36837,     0.36937,     0.37037,     0.37137,     0.37237,     0.37337,     0.37437,     0.37538,     0.37638,     0.37738,     0.37838,     0.37938,     0.38038,     0.38138,     0.38238,     0.38338,\n",
              "           0.38438,     0.38539,     0.38639,     0.38739,     0.38839,     0.38939,     0.39039,     0.39139,     0.39239,     0.39339,     0.39439,      0.3954,      0.3964,      0.3974,      0.3984,      0.3994,      0.4004,      0.4014,      0.4024,      0.4034,      0.4044,     0.40541,     0.40641,     0.40741,\n",
              "           0.40841,     0.40941,     0.41041,     0.41141,     0.41241,     0.41341,     0.41441,     0.41542,     0.41642,     0.41742,     0.41842,     0.41942,     0.42042,     0.42142,     0.42242,     0.42342,     0.42442,     0.42543,     0.42643,     0.42743,     0.42843,     0.42943,     0.43043,     0.43143,\n",
              "           0.43243,     0.43343,     0.43443,     0.43544,     0.43644,     0.43744,     0.43844,     0.43944,     0.44044,     0.44144,     0.44244,     0.44344,     0.44444,     0.44545,     0.44645,     0.44745,     0.44845,     0.44945,     0.45045,     0.45145,     0.45245,     0.45345,     0.45445,     0.45546,\n",
              "           0.45646,     0.45746,     0.45846,     0.45946,     0.46046,     0.46146,     0.46246,     0.46346,     0.46446,     0.46547,     0.46647,     0.46747,     0.46847,     0.46947,     0.47047,     0.47147,     0.47247,     0.47347,     0.47447,     0.47548,     0.47648,     0.47748,     0.47848,     0.47948,\n",
              "           0.48048,     0.48148,     0.48248,     0.48348,     0.48448,     0.48549,     0.48649,     0.48749,     0.48849,     0.48949,     0.49049,     0.49149,     0.49249,     0.49349,     0.49449,      0.4955,      0.4965,      0.4975,      0.4985,      0.4995,      0.5005,      0.5015,      0.5025,      0.5035,\n",
              "            0.5045,     0.50551,     0.50651,     0.50751,     0.50851,     0.50951,     0.51051,     0.51151,     0.51251,     0.51351,     0.51451,     0.51552,     0.51652,     0.51752,     0.51852,     0.51952,     0.52052,     0.52152,     0.52252,     0.52352,     0.52452,     0.52553,     0.52653,     0.52753,\n",
              "           0.52853,     0.52953,     0.53053,     0.53153,     0.53253,     0.53353,     0.53453,     0.53554,     0.53654,     0.53754,     0.53854,     0.53954,     0.54054,     0.54154,     0.54254,     0.54354,     0.54454,     0.54555,     0.54655,     0.54755,     0.54855,     0.54955,     0.55055,     0.55155,\n",
              "           0.55255,     0.55355,     0.55455,     0.55556,     0.55656,     0.55756,     0.55856,     0.55956,     0.56056,     0.56156,     0.56256,     0.56356,     0.56456,     0.56557,     0.56657,     0.56757,     0.56857,     0.56957,     0.57057,     0.57157,     0.57257,     0.57357,     0.57457,     0.57558,\n",
              "           0.57658,     0.57758,     0.57858,     0.57958,     0.58058,     0.58158,     0.58258,     0.58358,     0.58458,     0.58559,     0.58659,     0.58759,     0.58859,     0.58959,     0.59059,     0.59159,     0.59259,     0.59359,     0.59459,      0.5956,      0.5966,      0.5976,      0.5986,      0.5996,\n",
              "            0.6006,      0.6016,      0.6026,      0.6036,      0.6046,     0.60561,     0.60661,     0.60761,     0.60861,     0.60961,     0.61061,     0.61161,     0.61261,     0.61361,     0.61461,     0.61562,     0.61662,     0.61762,     0.61862,     0.61962,     0.62062,     0.62162,     0.62262,     0.62362,\n",
              "           0.62462,     0.62563,     0.62663,     0.62763,     0.62863,     0.62963,     0.63063,     0.63163,     0.63263,     0.63363,     0.63463,     0.63564,     0.63664,     0.63764,     0.63864,     0.63964,     0.64064,     0.64164,     0.64264,     0.64364,     0.64464,     0.64565,     0.64665,     0.64765,\n",
              "           0.64865,     0.64965,     0.65065,     0.65165,     0.65265,     0.65365,     0.65465,     0.65566,     0.65666,     0.65766,     0.65866,     0.65966,     0.66066,     0.66166,     0.66266,     0.66366,     0.66466,     0.66567,     0.66667,     0.66767,     0.66867,     0.66967,     0.67067,     0.67167,\n",
              "           0.67267,     0.67367,     0.67467,     0.67568,     0.67668,     0.67768,     0.67868,     0.67968,     0.68068,     0.68168,     0.68268,     0.68368,     0.68468,     0.68569,     0.68669,     0.68769,     0.68869,     0.68969,     0.69069,     0.69169,     0.69269,     0.69369,     0.69469,      0.6957,\n",
              "            0.6967,      0.6977,      0.6987,      0.6997,      0.7007,      0.7017,      0.7027,      0.7037,      0.7047,     0.70571,     0.70671,     0.70771,     0.70871,     0.70971,     0.71071,     0.71171,     0.71271,     0.71371,     0.71471,     0.71572,     0.71672,     0.71772,     0.71872,     0.71972,\n",
              "           0.72072,     0.72172,     0.72272,     0.72372,     0.72472,     0.72573,     0.72673,     0.72773,     0.72873,     0.72973,     0.73073,     0.73173,     0.73273,     0.73373,     0.73473,     0.73574,     0.73674,     0.73774,     0.73874,     0.73974,     0.74074,     0.74174,     0.74274,     0.74374,\n",
              "           0.74474,     0.74575,     0.74675,     0.74775,     0.74875,     0.74975,     0.75075,     0.75175,     0.75275,     0.75375,     0.75475,     0.75576,     0.75676,     0.75776,     0.75876,     0.75976,     0.76076,     0.76176,     0.76276,     0.76376,     0.76476,     0.76577,     0.76677,     0.76777,\n",
              "           0.76877,     0.76977,     0.77077,     0.77177,     0.77277,     0.77377,     0.77477,     0.77578,     0.77678,     0.77778,     0.77878,     0.77978,     0.78078,     0.78178,     0.78278,     0.78378,     0.78478,     0.78579,     0.78679,     0.78779,     0.78879,     0.78979,     0.79079,     0.79179,\n",
              "           0.79279,     0.79379,     0.79479,      0.7958,      0.7968,      0.7978,      0.7988,      0.7998,      0.8008,      0.8018,      0.8028,      0.8038,      0.8048,     0.80581,     0.80681,     0.80781,     0.80881,     0.80981,     0.81081,     0.81181,     0.81281,     0.81381,     0.81481,     0.81582,\n",
              "           0.81682,     0.81782,     0.81882,     0.81982,     0.82082,     0.82182,     0.82282,     0.82382,     0.82482,     0.82583,     0.82683,     0.82783,     0.82883,     0.82983,     0.83083,     0.83183,     0.83283,     0.83383,     0.83483,     0.83584,     0.83684,     0.83784,     0.83884,     0.83984,\n",
              "           0.84084,     0.84184,     0.84284,     0.84384,     0.84484,     0.84585,     0.84685,     0.84785,     0.84885,     0.84985,     0.85085,     0.85185,     0.85285,     0.85385,     0.85485,     0.85586,     0.85686,     0.85786,     0.85886,     0.85986,     0.86086,     0.86186,     0.86286,     0.86386,\n",
              "           0.86486,     0.86587,     0.86687,     0.86787,     0.86887,     0.86987,     0.87087,     0.87187,     0.87287,     0.87387,     0.87487,     0.87588,     0.87688,     0.87788,     0.87888,     0.87988,     0.88088,     0.88188,     0.88288,     0.88388,     0.88488,     0.88589,     0.88689,     0.88789,\n",
              "           0.88889,     0.88989,     0.89089,     0.89189,     0.89289,     0.89389,     0.89489,      0.8959,      0.8969,      0.8979,      0.8989,      0.8999,      0.9009,      0.9019,      0.9029,      0.9039,      0.9049,     0.90591,     0.90691,     0.90791,     0.90891,     0.90991,     0.91091,     0.91191,\n",
              "           0.91291,     0.91391,     0.91491,     0.91592,     0.91692,     0.91792,     0.91892,     0.91992,     0.92092,     0.92192,     0.92292,     0.92392,     0.92492,     0.92593,     0.92693,     0.92793,     0.92893,     0.92993,     0.93093,     0.93193,     0.93293,     0.93393,     0.93493,     0.93594,\n",
              "           0.93694,     0.93794,     0.93894,     0.93994,     0.94094,     0.94194,     0.94294,     0.94394,     0.94494,     0.94595,     0.94695,     0.94795,     0.94895,     0.94995,     0.95095,     0.95195,     0.95295,     0.95395,     0.95495,     0.95596,     0.95696,     0.95796,     0.95896,     0.95996,\n",
              "           0.96096,     0.96196,     0.96296,     0.96396,     0.96496,     0.96597,     0.96697,     0.96797,     0.96897,     0.96997,     0.97097,     0.97197,     0.97297,     0.97397,     0.97497,     0.97598,     0.97698,     0.97798,     0.97898,     0.97998,     0.98098,     0.98198,     0.98298,     0.98398,\n",
              "           0.98498,     0.98599,     0.98699,     0.98799,     0.98899,     0.98999,     0.99099,     0.99199,     0.99299,     0.99399,     0.99499,       0.996,       0.997,       0.998,       0.999,           1]), array([[          1,           1,           1, ...,     0.54545,     0.54545,           0],\n",
              "       [          1,           1,           1, ...,           1,           1,           0],\n",
              "       [          1,           1,           1, ...,       0.375,       0.375,           0],\n",
              "       [          1,           1,           1, ...,  5.4707e-05,  2.7353e-05,           0]]), 'Recall', 'Precision'], [array([          0,    0.001001,    0.002002,    0.003003,    0.004004,    0.005005,    0.006006,    0.007007,    0.008008,    0.009009,     0.01001,    0.011011,    0.012012,    0.013013,    0.014014,    0.015015,    0.016016,    0.017017,    0.018018,    0.019019,     0.02002,    0.021021,    0.022022,    0.023023,\n",
              "          0.024024,    0.025025,    0.026026,    0.027027,    0.028028,    0.029029,     0.03003,    0.031031,    0.032032,    0.033033,    0.034034,    0.035035,    0.036036,    0.037037,    0.038038,    0.039039,     0.04004,    0.041041,    0.042042,    0.043043,    0.044044,    0.045045,    0.046046,    0.047047,\n",
              "          0.048048,    0.049049,     0.05005,    0.051051,    0.052052,    0.053053,    0.054054,    0.055055,    0.056056,    0.057057,    0.058058,    0.059059,     0.06006,    0.061061,    0.062062,    0.063063,    0.064064,    0.065065,    0.066066,    0.067067,    0.068068,    0.069069,     0.07007,    0.071071,\n",
              "          0.072072,    0.073073,    0.074074,    0.075075,    0.076076,    0.077077,    0.078078,    0.079079,     0.08008,    0.081081,    0.082082,    0.083083,    0.084084,    0.085085,    0.086086,    0.087087,    0.088088,    0.089089,     0.09009,    0.091091,    0.092092,    0.093093,    0.094094,    0.095095,\n",
              "          0.096096,    0.097097,    0.098098,    0.099099,      0.1001,      0.1011,      0.1021,      0.1031,      0.1041,     0.10511,     0.10611,     0.10711,     0.10811,     0.10911,     0.11011,     0.11111,     0.11211,     0.11311,     0.11411,     0.11512,     0.11612,     0.11712,     0.11812,     0.11912,\n",
              "           0.12012,     0.12112,     0.12212,     0.12312,     0.12412,     0.12513,     0.12613,     0.12713,     0.12813,     0.12913,     0.13013,     0.13113,     0.13213,     0.13313,     0.13413,     0.13514,     0.13614,     0.13714,     0.13814,     0.13914,     0.14014,     0.14114,     0.14214,     0.14314,\n",
              "           0.14414,     0.14515,     0.14615,     0.14715,     0.14815,     0.14915,     0.15015,     0.15115,     0.15215,     0.15315,     0.15415,     0.15516,     0.15616,     0.15716,     0.15816,     0.15916,     0.16016,     0.16116,     0.16216,     0.16316,     0.16416,     0.16517,     0.16617,     0.16717,\n",
              "           0.16817,     0.16917,     0.17017,     0.17117,     0.17217,     0.17317,     0.17417,     0.17518,     0.17618,     0.17718,     0.17818,     0.17918,     0.18018,     0.18118,     0.18218,     0.18318,     0.18418,     0.18519,     0.18619,     0.18719,     0.18819,     0.18919,     0.19019,     0.19119,\n",
              "           0.19219,     0.19319,     0.19419,      0.1952,      0.1962,      0.1972,      0.1982,      0.1992,      0.2002,      0.2012,      0.2022,      0.2032,      0.2042,     0.20521,     0.20621,     0.20721,     0.20821,     0.20921,     0.21021,     0.21121,     0.21221,     0.21321,     0.21421,     0.21522,\n",
              "           0.21622,     0.21722,     0.21822,     0.21922,     0.22022,     0.22122,     0.22222,     0.22322,     0.22422,     0.22523,     0.22623,     0.22723,     0.22823,     0.22923,     0.23023,     0.23123,     0.23223,     0.23323,     0.23423,     0.23524,     0.23624,     0.23724,     0.23824,     0.23924,\n",
              "           0.24024,     0.24124,     0.24224,     0.24324,     0.24424,     0.24525,     0.24625,     0.24725,     0.24825,     0.24925,     0.25025,     0.25125,     0.25225,     0.25325,     0.25425,     0.25526,     0.25626,     0.25726,     0.25826,     0.25926,     0.26026,     0.26126,     0.26226,     0.26326,\n",
              "           0.26426,     0.26527,     0.26627,     0.26727,     0.26827,     0.26927,     0.27027,     0.27127,     0.27227,     0.27327,     0.27427,     0.27528,     0.27628,     0.27728,     0.27828,     0.27928,     0.28028,     0.28128,     0.28228,     0.28328,     0.28428,     0.28529,     0.28629,     0.28729,\n",
              "           0.28829,     0.28929,     0.29029,     0.29129,     0.29229,     0.29329,     0.29429,      0.2953,      0.2963,      0.2973,      0.2983,      0.2993,      0.3003,      0.3013,      0.3023,      0.3033,      0.3043,     0.30531,     0.30631,     0.30731,     0.30831,     0.30931,     0.31031,     0.31131,\n",
              "           0.31231,     0.31331,     0.31431,     0.31532,     0.31632,     0.31732,     0.31832,     0.31932,     0.32032,     0.32132,     0.32232,     0.32332,     0.32432,     0.32533,     0.32633,     0.32733,     0.32833,     0.32933,     0.33033,     0.33133,     0.33233,     0.33333,     0.33433,     0.33534,\n",
              "           0.33634,     0.33734,     0.33834,     0.33934,     0.34034,     0.34134,     0.34234,     0.34334,     0.34434,     0.34535,     0.34635,     0.34735,     0.34835,     0.34935,     0.35035,     0.35135,     0.35235,     0.35335,     0.35435,     0.35536,     0.35636,     0.35736,     0.35836,     0.35936,\n",
              "           0.36036,     0.36136,     0.36236,     0.36336,     0.36436,     0.36537,     0.36637,     0.36737,     0.36837,     0.36937,     0.37037,     0.37137,     0.37237,     0.37337,     0.37437,     0.37538,     0.37638,     0.37738,     0.37838,     0.37938,     0.38038,     0.38138,     0.38238,     0.38338,\n",
              "           0.38438,     0.38539,     0.38639,     0.38739,     0.38839,     0.38939,     0.39039,     0.39139,     0.39239,     0.39339,     0.39439,      0.3954,      0.3964,      0.3974,      0.3984,      0.3994,      0.4004,      0.4014,      0.4024,      0.4034,      0.4044,     0.40541,     0.40641,     0.40741,\n",
              "           0.40841,     0.40941,     0.41041,     0.41141,     0.41241,     0.41341,     0.41441,     0.41542,     0.41642,     0.41742,     0.41842,     0.41942,     0.42042,     0.42142,     0.42242,     0.42342,     0.42442,     0.42543,     0.42643,     0.42743,     0.42843,     0.42943,     0.43043,     0.43143,\n",
              "           0.43243,     0.43343,     0.43443,     0.43544,     0.43644,     0.43744,     0.43844,     0.43944,     0.44044,     0.44144,     0.44244,     0.44344,     0.44444,     0.44545,     0.44645,     0.44745,     0.44845,     0.44945,     0.45045,     0.45145,     0.45245,     0.45345,     0.45445,     0.45546,\n",
              "           0.45646,     0.45746,     0.45846,     0.45946,     0.46046,     0.46146,     0.46246,     0.46346,     0.46446,     0.46547,     0.46647,     0.46747,     0.46847,     0.46947,     0.47047,     0.47147,     0.47247,     0.47347,     0.47447,     0.47548,     0.47648,     0.47748,     0.47848,     0.47948,\n",
              "           0.48048,     0.48148,     0.48248,     0.48348,     0.48448,     0.48549,     0.48649,     0.48749,     0.48849,     0.48949,     0.49049,     0.49149,     0.49249,     0.49349,     0.49449,      0.4955,      0.4965,      0.4975,      0.4985,      0.4995,      0.5005,      0.5015,      0.5025,      0.5035,\n",
              "            0.5045,     0.50551,     0.50651,     0.50751,     0.50851,     0.50951,     0.51051,     0.51151,     0.51251,     0.51351,     0.51451,     0.51552,     0.51652,     0.51752,     0.51852,     0.51952,     0.52052,     0.52152,     0.52252,     0.52352,     0.52452,     0.52553,     0.52653,     0.52753,\n",
              "           0.52853,     0.52953,     0.53053,     0.53153,     0.53253,     0.53353,     0.53453,     0.53554,     0.53654,     0.53754,     0.53854,     0.53954,     0.54054,     0.54154,     0.54254,     0.54354,     0.54454,     0.54555,     0.54655,     0.54755,     0.54855,     0.54955,     0.55055,     0.55155,\n",
              "           0.55255,     0.55355,     0.55455,     0.55556,     0.55656,     0.55756,     0.55856,     0.55956,     0.56056,     0.56156,     0.56256,     0.56356,     0.56456,     0.56557,     0.56657,     0.56757,     0.56857,     0.56957,     0.57057,     0.57157,     0.57257,     0.57357,     0.57457,     0.57558,\n",
              "           0.57658,     0.57758,     0.57858,     0.57958,     0.58058,     0.58158,     0.58258,     0.58358,     0.58458,     0.58559,     0.58659,     0.58759,     0.58859,     0.58959,     0.59059,     0.59159,     0.59259,     0.59359,     0.59459,      0.5956,      0.5966,      0.5976,      0.5986,      0.5996,\n",
              "            0.6006,      0.6016,      0.6026,      0.6036,      0.6046,     0.60561,     0.60661,     0.60761,     0.60861,     0.60961,     0.61061,     0.61161,     0.61261,     0.61361,     0.61461,     0.61562,     0.61662,     0.61762,     0.61862,     0.61962,     0.62062,     0.62162,     0.62262,     0.62362,\n",
              "           0.62462,     0.62563,     0.62663,     0.62763,     0.62863,     0.62963,     0.63063,     0.63163,     0.63263,     0.63363,     0.63463,     0.63564,     0.63664,     0.63764,     0.63864,     0.63964,     0.64064,     0.64164,     0.64264,     0.64364,     0.64464,     0.64565,     0.64665,     0.64765,\n",
              "           0.64865,     0.64965,     0.65065,     0.65165,     0.65265,     0.65365,     0.65465,     0.65566,     0.65666,     0.65766,     0.65866,     0.65966,     0.66066,     0.66166,     0.66266,     0.66366,     0.66466,     0.66567,     0.66667,     0.66767,     0.66867,     0.66967,     0.67067,     0.67167,\n",
              "           0.67267,     0.67367,     0.67467,     0.67568,     0.67668,     0.67768,     0.67868,     0.67968,     0.68068,     0.68168,     0.68268,     0.68368,     0.68468,     0.68569,     0.68669,     0.68769,     0.68869,     0.68969,     0.69069,     0.69169,     0.69269,     0.69369,     0.69469,      0.6957,\n",
              "            0.6967,      0.6977,      0.6987,      0.6997,      0.7007,      0.7017,      0.7027,      0.7037,      0.7047,     0.70571,     0.70671,     0.70771,     0.70871,     0.70971,     0.71071,     0.71171,     0.71271,     0.71371,     0.71471,     0.71572,     0.71672,     0.71772,     0.71872,     0.71972,\n",
              "           0.72072,     0.72172,     0.72272,     0.72372,     0.72472,     0.72573,     0.72673,     0.72773,     0.72873,     0.72973,     0.73073,     0.73173,     0.73273,     0.73373,     0.73473,     0.73574,     0.73674,     0.73774,     0.73874,     0.73974,     0.74074,     0.74174,     0.74274,     0.74374,\n",
              "           0.74474,     0.74575,     0.74675,     0.74775,     0.74875,     0.74975,     0.75075,     0.75175,     0.75275,     0.75375,     0.75475,     0.75576,     0.75676,     0.75776,     0.75876,     0.75976,     0.76076,     0.76176,     0.76276,     0.76376,     0.76476,     0.76577,     0.76677,     0.76777,\n",
              "           0.76877,     0.76977,     0.77077,     0.77177,     0.77277,     0.77377,     0.77477,     0.77578,     0.77678,     0.77778,     0.77878,     0.77978,     0.78078,     0.78178,     0.78278,     0.78378,     0.78478,     0.78579,     0.78679,     0.78779,     0.78879,     0.78979,     0.79079,     0.79179,\n",
              "           0.79279,     0.79379,     0.79479,      0.7958,      0.7968,      0.7978,      0.7988,      0.7998,      0.8008,      0.8018,      0.8028,      0.8038,      0.8048,     0.80581,     0.80681,     0.80781,     0.80881,     0.80981,     0.81081,     0.81181,     0.81281,     0.81381,     0.81481,     0.81582,\n",
              "           0.81682,     0.81782,     0.81882,     0.81982,     0.82082,     0.82182,     0.82282,     0.82382,     0.82482,     0.82583,     0.82683,     0.82783,     0.82883,     0.82983,     0.83083,     0.83183,     0.83283,     0.83383,     0.83483,     0.83584,     0.83684,     0.83784,     0.83884,     0.83984,\n",
              "           0.84084,     0.84184,     0.84284,     0.84384,     0.84484,     0.84585,     0.84685,     0.84785,     0.84885,     0.84985,     0.85085,     0.85185,     0.85285,     0.85385,     0.85485,     0.85586,     0.85686,     0.85786,     0.85886,     0.85986,     0.86086,     0.86186,     0.86286,     0.86386,\n",
              "           0.86486,     0.86587,     0.86687,     0.86787,     0.86887,     0.86987,     0.87087,     0.87187,     0.87287,     0.87387,     0.87487,     0.87588,     0.87688,     0.87788,     0.87888,     0.87988,     0.88088,     0.88188,     0.88288,     0.88388,     0.88488,     0.88589,     0.88689,     0.88789,\n",
              "           0.88889,     0.88989,     0.89089,     0.89189,     0.89289,     0.89389,     0.89489,      0.8959,      0.8969,      0.8979,      0.8989,      0.8999,      0.9009,      0.9019,      0.9029,      0.9039,      0.9049,     0.90591,     0.90691,     0.90791,     0.90891,     0.90991,     0.91091,     0.91191,\n",
              "           0.91291,     0.91391,     0.91491,     0.91592,     0.91692,     0.91792,     0.91892,     0.91992,     0.92092,     0.92192,     0.92292,     0.92392,     0.92492,     0.92593,     0.92693,     0.92793,     0.92893,     0.92993,     0.93093,     0.93193,     0.93293,     0.93393,     0.93493,     0.93594,\n",
              "           0.93694,     0.93794,     0.93894,     0.93994,     0.94094,     0.94194,     0.94294,     0.94394,     0.94494,     0.94595,     0.94695,     0.94795,     0.94895,     0.94995,     0.95095,     0.95195,     0.95295,     0.95395,     0.95495,     0.95596,     0.95696,     0.95796,     0.95896,     0.95996,\n",
              "           0.96096,     0.96196,     0.96296,     0.96396,     0.96496,     0.96597,     0.96697,     0.96797,     0.96897,     0.96997,     0.97097,     0.97197,     0.97297,     0.97397,     0.97497,     0.97598,     0.97698,     0.97798,     0.97898,     0.97998,     0.98098,     0.98198,     0.98298,     0.98398,\n",
              "           0.98498,     0.98599,     0.98699,     0.98799,     0.98899,     0.98999,     0.99099,     0.99199,     0.99299,     0.99399,     0.99499,       0.996,       0.997,       0.998,       0.999,           1]), array([[  0.0058939,   0.0058939,   0.0058939, ...,           0,           0,           0],\n",
              "       [  0.0067189,   0.0067189,   0.0067189, ...,           0,           0,           0],\n",
              "       [  0.0064551,   0.0064551,   0.0064551, ...,           0,           0,           0],\n",
              "       [   0.007772,    0.007772,    0.007772, ...,           0,           0,           0]]), 'Confidence', 'F1'], [array([          0,    0.001001,    0.002002,    0.003003,    0.004004,    0.005005,    0.006006,    0.007007,    0.008008,    0.009009,     0.01001,    0.011011,    0.012012,    0.013013,    0.014014,    0.015015,    0.016016,    0.017017,    0.018018,    0.019019,     0.02002,    0.021021,    0.022022,    0.023023,\n",
              "          0.024024,    0.025025,    0.026026,    0.027027,    0.028028,    0.029029,     0.03003,    0.031031,    0.032032,    0.033033,    0.034034,    0.035035,    0.036036,    0.037037,    0.038038,    0.039039,     0.04004,    0.041041,    0.042042,    0.043043,    0.044044,    0.045045,    0.046046,    0.047047,\n",
              "          0.048048,    0.049049,     0.05005,    0.051051,    0.052052,    0.053053,    0.054054,    0.055055,    0.056056,    0.057057,    0.058058,    0.059059,     0.06006,    0.061061,    0.062062,    0.063063,    0.064064,    0.065065,    0.066066,    0.067067,    0.068068,    0.069069,     0.07007,    0.071071,\n",
              "          0.072072,    0.073073,    0.074074,    0.075075,    0.076076,    0.077077,    0.078078,    0.079079,     0.08008,    0.081081,    0.082082,    0.083083,    0.084084,    0.085085,    0.086086,    0.087087,    0.088088,    0.089089,     0.09009,    0.091091,    0.092092,    0.093093,    0.094094,    0.095095,\n",
              "          0.096096,    0.097097,    0.098098,    0.099099,      0.1001,      0.1011,      0.1021,      0.1031,      0.1041,     0.10511,     0.10611,     0.10711,     0.10811,     0.10911,     0.11011,     0.11111,     0.11211,     0.11311,     0.11411,     0.11512,     0.11612,     0.11712,     0.11812,     0.11912,\n",
              "           0.12012,     0.12112,     0.12212,     0.12312,     0.12412,     0.12513,     0.12613,     0.12713,     0.12813,     0.12913,     0.13013,     0.13113,     0.13213,     0.13313,     0.13413,     0.13514,     0.13614,     0.13714,     0.13814,     0.13914,     0.14014,     0.14114,     0.14214,     0.14314,\n",
              "           0.14414,     0.14515,     0.14615,     0.14715,     0.14815,     0.14915,     0.15015,     0.15115,     0.15215,     0.15315,     0.15415,     0.15516,     0.15616,     0.15716,     0.15816,     0.15916,     0.16016,     0.16116,     0.16216,     0.16316,     0.16416,     0.16517,     0.16617,     0.16717,\n",
              "           0.16817,     0.16917,     0.17017,     0.17117,     0.17217,     0.17317,     0.17417,     0.17518,     0.17618,     0.17718,     0.17818,     0.17918,     0.18018,     0.18118,     0.18218,     0.18318,     0.18418,     0.18519,     0.18619,     0.18719,     0.18819,     0.18919,     0.19019,     0.19119,\n",
              "           0.19219,     0.19319,     0.19419,      0.1952,      0.1962,      0.1972,      0.1982,      0.1992,      0.2002,      0.2012,      0.2022,      0.2032,      0.2042,     0.20521,     0.20621,     0.20721,     0.20821,     0.20921,     0.21021,     0.21121,     0.21221,     0.21321,     0.21421,     0.21522,\n",
              "           0.21622,     0.21722,     0.21822,     0.21922,     0.22022,     0.22122,     0.22222,     0.22322,     0.22422,     0.22523,     0.22623,     0.22723,     0.22823,     0.22923,     0.23023,     0.23123,     0.23223,     0.23323,     0.23423,     0.23524,     0.23624,     0.23724,     0.23824,     0.23924,\n",
              "           0.24024,     0.24124,     0.24224,     0.24324,     0.24424,     0.24525,     0.24625,     0.24725,     0.24825,     0.24925,     0.25025,     0.25125,     0.25225,     0.25325,     0.25425,     0.25526,     0.25626,     0.25726,     0.25826,     0.25926,     0.26026,     0.26126,     0.26226,     0.26326,\n",
              "           0.26426,     0.26527,     0.26627,     0.26727,     0.26827,     0.26927,     0.27027,     0.27127,     0.27227,     0.27327,     0.27427,     0.27528,     0.27628,     0.27728,     0.27828,     0.27928,     0.28028,     0.28128,     0.28228,     0.28328,     0.28428,     0.28529,     0.28629,     0.28729,\n",
              "           0.28829,     0.28929,     0.29029,     0.29129,     0.29229,     0.29329,     0.29429,      0.2953,      0.2963,      0.2973,      0.2983,      0.2993,      0.3003,      0.3013,      0.3023,      0.3033,      0.3043,     0.30531,     0.30631,     0.30731,     0.30831,     0.30931,     0.31031,     0.31131,\n",
              "           0.31231,     0.31331,     0.31431,     0.31532,     0.31632,     0.31732,     0.31832,     0.31932,     0.32032,     0.32132,     0.32232,     0.32332,     0.32432,     0.32533,     0.32633,     0.32733,     0.32833,     0.32933,     0.33033,     0.33133,     0.33233,     0.33333,     0.33433,     0.33534,\n",
              "           0.33634,     0.33734,     0.33834,     0.33934,     0.34034,     0.34134,     0.34234,     0.34334,     0.34434,     0.34535,     0.34635,     0.34735,     0.34835,     0.34935,     0.35035,     0.35135,     0.35235,     0.35335,     0.35435,     0.35536,     0.35636,     0.35736,     0.35836,     0.35936,\n",
              "           0.36036,     0.36136,     0.36236,     0.36336,     0.36436,     0.36537,     0.36637,     0.36737,     0.36837,     0.36937,     0.37037,     0.37137,     0.37237,     0.37337,     0.37437,     0.37538,     0.37638,     0.37738,     0.37838,     0.37938,     0.38038,     0.38138,     0.38238,     0.38338,\n",
              "           0.38438,     0.38539,     0.38639,     0.38739,     0.38839,     0.38939,     0.39039,     0.39139,     0.39239,     0.39339,     0.39439,      0.3954,      0.3964,      0.3974,      0.3984,      0.3994,      0.4004,      0.4014,      0.4024,      0.4034,      0.4044,     0.40541,     0.40641,     0.40741,\n",
              "           0.40841,     0.40941,     0.41041,     0.41141,     0.41241,     0.41341,     0.41441,     0.41542,     0.41642,     0.41742,     0.41842,     0.41942,     0.42042,     0.42142,     0.42242,     0.42342,     0.42442,     0.42543,     0.42643,     0.42743,     0.42843,     0.42943,     0.43043,     0.43143,\n",
              "           0.43243,     0.43343,     0.43443,     0.43544,     0.43644,     0.43744,     0.43844,     0.43944,     0.44044,     0.44144,     0.44244,     0.44344,     0.44444,     0.44545,     0.44645,     0.44745,     0.44845,     0.44945,     0.45045,     0.45145,     0.45245,     0.45345,     0.45445,     0.45546,\n",
              "           0.45646,     0.45746,     0.45846,     0.45946,     0.46046,     0.46146,     0.46246,     0.46346,     0.46446,     0.46547,     0.46647,     0.46747,     0.46847,     0.46947,     0.47047,     0.47147,     0.47247,     0.47347,     0.47447,     0.47548,     0.47648,     0.47748,     0.47848,     0.47948,\n",
              "           0.48048,     0.48148,     0.48248,     0.48348,     0.48448,     0.48549,     0.48649,     0.48749,     0.48849,     0.48949,     0.49049,     0.49149,     0.49249,     0.49349,     0.49449,      0.4955,      0.4965,      0.4975,      0.4985,      0.4995,      0.5005,      0.5015,      0.5025,      0.5035,\n",
              "            0.5045,     0.50551,     0.50651,     0.50751,     0.50851,     0.50951,     0.51051,     0.51151,     0.51251,     0.51351,     0.51451,     0.51552,     0.51652,     0.51752,     0.51852,     0.51952,     0.52052,     0.52152,     0.52252,     0.52352,     0.52452,     0.52553,     0.52653,     0.52753,\n",
              "           0.52853,     0.52953,     0.53053,     0.53153,     0.53253,     0.53353,     0.53453,     0.53554,     0.53654,     0.53754,     0.53854,     0.53954,     0.54054,     0.54154,     0.54254,     0.54354,     0.54454,     0.54555,     0.54655,     0.54755,     0.54855,     0.54955,     0.55055,     0.55155,\n",
              "           0.55255,     0.55355,     0.55455,     0.55556,     0.55656,     0.55756,     0.55856,     0.55956,     0.56056,     0.56156,     0.56256,     0.56356,     0.56456,     0.56557,     0.56657,     0.56757,     0.56857,     0.56957,     0.57057,     0.57157,     0.57257,     0.57357,     0.57457,     0.57558,\n",
              "           0.57658,     0.57758,     0.57858,     0.57958,     0.58058,     0.58158,     0.58258,     0.58358,     0.58458,     0.58559,     0.58659,     0.58759,     0.58859,     0.58959,     0.59059,     0.59159,     0.59259,     0.59359,     0.59459,      0.5956,      0.5966,      0.5976,      0.5986,      0.5996,\n",
              "            0.6006,      0.6016,      0.6026,      0.6036,      0.6046,     0.60561,     0.60661,     0.60761,     0.60861,     0.60961,     0.61061,     0.61161,     0.61261,     0.61361,     0.61461,     0.61562,     0.61662,     0.61762,     0.61862,     0.61962,     0.62062,     0.62162,     0.62262,     0.62362,\n",
              "           0.62462,     0.62563,     0.62663,     0.62763,     0.62863,     0.62963,     0.63063,     0.63163,     0.63263,     0.63363,     0.63463,     0.63564,     0.63664,     0.63764,     0.63864,     0.63964,     0.64064,     0.64164,     0.64264,     0.64364,     0.64464,     0.64565,     0.64665,     0.64765,\n",
              "           0.64865,     0.64965,     0.65065,     0.65165,     0.65265,     0.65365,     0.65465,     0.65566,     0.65666,     0.65766,     0.65866,     0.65966,     0.66066,     0.66166,     0.66266,     0.66366,     0.66466,     0.66567,     0.66667,     0.66767,     0.66867,     0.66967,     0.67067,     0.67167,\n",
              "           0.67267,     0.67367,     0.67467,     0.67568,     0.67668,     0.67768,     0.67868,     0.67968,     0.68068,     0.68168,     0.68268,     0.68368,     0.68468,     0.68569,     0.68669,     0.68769,     0.68869,     0.68969,     0.69069,     0.69169,     0.69269,     0.69369,     0.69469,      0.6957,\n",
              "            0.6967,      0.6977,      0.6987,      0.6997,      0.7007,      0.7017,      0.7027,      0.7037,      0.7047,     0.70571,     0.70671,     0.70771,     0.70871,     0.70971,     0.71071,     0.71171,     0.71271,     0.71371,     0.71471,     0.71572,     0.71672,     0.71772,     0.71872,     0.71972,\n",
              "           0.72072,     0.72172,     0.72272,     0.72372,     0.72472,     0.72573,     0.72673,     0.72773,     0.72873,     0.72973,     0.73073,     0.73173,     0.73273,     0.73373,     0.73473,     0.73574,     0.73674,     0.73774,     0.73874,     0.73974,     0.74074,     0.74174,     0.74274,     0.74374,\n",
              "           0.74474,     0.74575,     0.74675,     0.74775,     0.74875,     0.74975,     0.75075,     0.75175,     0.75275,     0.75375,     0.75475,     0.75576,     0.75676,     0.75776,     0.75876,     0.75976,     0.76076,     0.76176,     0.76276,     0.76376,     0.76476,     0.76577,     0.76677,     0.76777,\n",
              "           0.76877,     0.76977,     0.77077,     0.77177,     0.77277,     0.77377,     0.77477,     0.77578,     0.77678,     0.77778,     0.77878,     0.77978,     0.78078,     0.78178,     0.78278,     0.78378,     0.78478,     0.78579,     0.78679,     0.78779,     0.78879,     0.78979,     0.79079,     0.79179,\n",
              "           0.79279,     0.79379,     0.79479,      0.7958,      0.7968,      0.7978,      0.7988,      0.7998,      0.8008,      0.8018,      0.8028,      0.8038,      0.8048,     0.80581,     0.80681,     0.80781,     0.80881,     0.80981,     0.81081,     0.81181,     0.81281,     0.81381,     0.81481,     0.81582,\n",
              "           0.81682,     0.81782,     0.81882,     0.81982,     0.82082,     0.82182,     0.82282,     0.82382,     0.82482,     0.82583,     0.82683,     0.82783,     0.82883,     0.82983,     0.83083,     0.83183,     0.83283,     0.83383,     0.83483,     0.83584,     0.83684,     0.83784,     0.83884,     0.83984,\n",
              "           0.84084,     0.84184,     0.84284,     0.84384,     0.84484,     0.84585,     0.84685,     0.84785,     0.84885,     0.84985,     0.85085,     0.85185,     0.85285,     0.85385,     0.85485,     0.85586,     0.85686,     0.85786,     0.85886,     0.85986,     0.86086,     0.86186,     0.86286,     0.86386,\n",
              "           0.86486,     0.86587,     0.86687,     0.86787,     0.86887,     0.86987,     0.87087,     0.87187,     0.87287,     0.87387,     0.87487,     0.87588,     0.87688,     0.87788,     0.87888,     0.87988,     0.88088,     0.88188,     0.88288,     0.88388,     0.88488,     0.88589,     0.88689,     0.88789,\n",
              "           0.88889,     0.88989,     0.89089,     0.89189,     0.89289,     0.89389,     0.89489,      0.8959,      0.8969,      0.8979,      0.8989,      0.8999,      0.9009,      0.9019,      0.9029,      0.9039,      0.9049,     0.90591,     0.90691,     0.90791,     0.90891,     0.90991,     0.91091,     0.91191,\n",
              "           0.91291,     0.91391,     0.91491,     0.91592,     0.91692,     0.91792,     0.91892,     0.91992,     0.92092,     0.92192,     0.92292,     0.92392,     0.92492,     0.92593,     0.92693,     0.92793,     0.92893,     0.92993,     0.93093,     0.93193,     0.93293,     0.93393,     0.93493,     0.93594,\n",
              "           0.93694,     0.93794,     0.93894,     0.93994,     0.94094,     0.94194,     0.94294,     0.94394,     0.94494,     0.94595,     0.94695,     0.94795,     0.94895,     0.94995,     0.95095,     0.95195,     0.95295,     0.95395,     0.95495,     0.95596,     0.95696,     0.95796,     0.95896,     0.95996,\n",
              "           0.96096,     0.96196,     0.96296,     0.96396,     0.96496,     0.96597,     0.96697,     0.96797,     0.96897,     0.96997,     0.97097,     0.97197,     0.97297,     0.97397,     0.97497,     0.97598,     0.97698,     0.97798,     0.97898,     0.97998,     0.98098,     0.98198,     0.98298,     0.98398,\n",
              "           0.98498,     0.98599,     0.98699,     0.98799,     0.98899,     0.98999,     0.99099,     0.99199,     0.99299,     0.99399,     0.99499,       0.996,       0.997,       0.998,       0.999,           1]), array([[  0.0029557,   0.0029557,   0.0029557, ...,           1,           1,           1],\n",
              "       [  0.0033708,   0.0033708,   0.0033708, ...,           1,           1,           1],\n",
              "       [   0.003238,    0.003238,    0.003238, ...,           1,           1,           1],\n",
              "       [  0.0039037,   0.0039037,   0.0039037, ...,           1,           1,           1]]), 'Confidence', 'Precision'], [array([          0,    0.001001,    0.002002,    0.003003,    0.004004,    0.005005,    0.006006,    0.007007,    0.008008,    0.009009,     0.01001,    0.011011,    0.012012,    0.013013,    0.014014,    0.015015,    0.016016,    0.017017,    0.018018,    0.019019,     0.02002,    0.021021,    0.022022,    0.023023,\n",
              "          0.024024,    0.025025,    0.026026,    0.027027,    0.028028,    0.029029,     0.03003,    0.031031,    0.032032,    0.033033,    0.034034,    0.035035,    0.036036,    0.037037,    0.038038,    0.039039,     0.04004,    0.041041,    0.042042,    0.043043,    0.044044,    0.045045,    0.046046,    0.047047,\n",
              "          0.048048,    0.049049,     0.05005,    0.051051,    0.052052,    0.053053,    0.054054,    0.055055,    0.056056,    0.057057,    0.058058,    0.059059,     0.06006,    0.061061,    0.062062,    0.063063,    0.064064,    0.065065,    0.066066,    0.067067,    0.068068,    0.069069,     0.07007,    0.071071,\n",
              "          0.072072,    0.073073,    0.074074,    0.075075,    0.076076,    0.077077,    0.078078,    0.079079,     0.08008,    0.081081,    0.082082,    0.083083,    0.084084,    0.085085,    0.086086,    0.087087,    0.088088,    0.089089,     0.09009,    0.091091,    0.092092,    0.093093,    0.094094,    0.095095,\n",
              "          0.096096,    0.097097,    0.098098,    0.099099,      0.1001,      0.1011,      0.1021,      0.1031,      0.1041,     0.10511,     0.10611,     0.10711,     0.10811,     0.10911,     0.11011,     0.11111,     0.11211,     0.11311,     0.11411,     0.11512,     0.11612,     0.11712,     0.11812,     0.11912,\n",
              "           0.12012,     0.12112,     0.12212,     0.12312,     0.12412,     0.12513,     0.12613,     0.12713,     0.12813,     0.12913,     0.13013,     0.13113,     0.13213,     0.13313,     0.13413,     0.13514,     0.13614,     0.13714,     0.13814,     0.13914,     0.14014,     0.14114,     0.14214,     0.14314,\n",
              "           0.14414,     0.14515,     0.14615,     0.14715,     0.14815,     0.14915,     0.15015,     0.15115,     0.15215,     0.15315,     0.15415,     0.15516,     0.15616,     0.15716,     0.15816,     0.15916,     0.16016,     0.16116,     0.16216,     0.16316,     0.16416,     0.16517,     0.16617,     0.16717,\n",
              "           0.16817,     0.16917,     0.17017,     0.17117,     0.17217,     0.17317,     0.17417,     0.17518,     0.17618,     0.17718,     0.17818,     0.17918,     0.18018,     0.18118,     0.18218,     0.18318,     0.18418,     0.18519,     0.18619,     0.18719,     0.18819,     0.18919,     0.19019,     0.19119,\n",
              "           0.19219,     0.19319,     0.19419,      0.1952,      0.1962,      0.1972,      0.1982,      0.1992,      0.2002,      0.2012,      0.2022,      0.2032,      0.2042,     0.20521,     0.20621,     0.20721,     0.20821,     0.20921,     0.21021,     0.21121,     0.21221,     0.21321,     0.21421,     0.21522,\n",
              "           0.21622,     0.21722,     0.21822,     0.21922,     0.22022,     0.22122,     0.22222,     0.22322,     0.22422,     0.22523,     0.22623,     0.22723,     0.22823,     0.22923,     0.23023,     0.23123,     0.23223,     0.23323,     0.23423,     0.23524,     0.23624,     0.23724,     0.23824,     0.23924,\n",
              "           0.24024,     0.24124,     0.24224,     0.24324,     0.24424,     0.24525,     0.24625,     0.24725,     0.24825,     0.24925,     0.25025,     0.25125,     0.25225,     0.25325,     0.25425,     0.25526,     0.25626,     0.25726,     0.25826,     0.25926,     0.26026,     0.26126,     0.26226,     0.26326,\n",
              "           0.26426,     0.26527,     0.26627,     0.26727,     0.26827,     0.26927,     0.27027,     0.27127,     0.27227,     0.27327,     0.27427,     0.27528,     0.27628,     0.27728,     0.27828,     0.27928,     0.28028,     0.28128,     0.28228,     0.28328,     0.28428,     0.28529,     0.28629,     0.28729,\n",
              "           0.28829,     0.28929,     0.29029,     0.29129,     0.29229,     0.29329,     0.29429,      0.2953,      0.2963,      0.2973,      0.2983,      0.2993,      0.3003,      0.3013,      0.3023,      0.3033,      0.3043,     0.30531,     0.30631,     0.30731,     0.30831,     0.30931,     0.31031,     0.31131,\n",
              "           0.31231,     0.31331,     0.31431,     0.31532,     0.31632,     0.31732,     0.31832,     0.31932,     0.32032,     0.32132,     0.32232,     0.32332,     0.32432,     0.32533,     0.32633,     0.32733,     0.32833,     0.32933,     0.33033,     0.33133,     0.33233,     0.33333,     0.33433,     0.33534,\n",
              "           0.33634,     0.33734,     0.33834,     0.33934,     0.34034,     0.34134,     0.34234,     0.34334,     0.34434,     0.34535,     0.34635,     0.34735,     0.34835,     0.34935,     0.35035,     0.35135,     0.35235,     0.35335,     0.35435,     0.35536,     0.35636,     0.35736,     0.35836,     0.35936,\n",
              "           0.36036,     0.36136,     0.36236,     0.36336,     0.36436,     0.36537,     0.36637,     0.36737,     0.36837,     0.36937,     0.37037,     0.37137,     0.37237,     0.37337,     0.37437,     0.37538,     0.37638,     0.37738,     0.37838,     0.37938,     0.38038,     0.38138,     0.38238,     0.38338,\n",
              "           0.38438,     0.38539,     0.38639,     0.38739,     0.38839,     0.38939,     0.39039,     0.39139,     0.39239,     0.39339,     0.39439,      0.3954,      0.3964,      0.3974,      0.3984,      0.3994,      0.4004,      0.4014,      0.4024,      0.4034,      0.4044,     0.40541,     0.40641,     0.40741,\n",
              "           0.40841,     0.40941,     0.41041,     0.41141,     0.41241,     0.41341,     0.41441,     0.41542,     0.41642,     0.41742,     0.41842,     0.41942,     0.42042,     0.42142,     0.42242,     0.42342,     0.42442,     0.42543,     0.42643,     0.42743,     0.42843,     0.42943,     0.43043,     0.43143,\n",
              "           0.43243,     0.43343,     0.43443,     0.43544,     0.43644,     0.43744,     0.43844,     0.43944,     0.44044,     0.44144,     0.44244,     0.44344,     0.44444,     0.44545,     0.44645,     0.44745,     0.44845,     0.44945,     0.45045,     0.45145,     0.45245,     0.45345,     0.45445,     0.45546,\n",
              "           0.45646,     0.45746,     0.45846,     0.45946,     0.46046,     0.46146,     0.46246,     0.46346,     0.46446,     0.46547,     0.46647,     0.46747,     0.46847,     0.46947,     0.47047,     0.47147,     0.47247,     0.47347,     0.47447,     0.47548,     0.47648,     0.47748,     0.47848,     0.47948,\n",
              "           0.48048,     0.48148,     0.48248,     0.48348,     0.48448,     0.48549,     0.48649,     0.48749,     0.48849,     0.48949,     0.49049,     0.49149,     0.49249,     0.49349,     0.49449,      0.4955,      0.4965,      0.4975,      0.4985,      0.4995,      0.5005,      0.5015,      0.5025,      0.5035,\n",
              "            0.5045,     0.50551,     0.50651,     0.50751,     0.50851,     0.50951,     0.51051,     0.51151,     0.51251,     0.51351,     0.51451,     0.51552,     0.51652,     0.51752,     0.51852,     0.51952,     0.52052,     0.52152,     0.52252,     0.52352,     0.52452,     0.52553,     0.52653,     0.52753,\n",
              "           0.52853,     0.52953,     0.53053,     0.53153,     0.53253,     0.53353,     0.53453,     0.53554,     0.53654,     0.53754,     0.53854,     0.53954,     0.54054,     0.54154,     0.54254,     0.54354,     0.54454,     0.54555,     0.54655,     0.54755,     0.54855,     0.54955,     0.55055,     0.55155,\n",
              "           0.55255,     0.55355,     0.55455,     0.55556,     0.55656,     0.55756,     0.55856,     0.55956,     0.56056,     0.56156,     0.56256,     0.56356,     0.56456,     0.56557,     0.56657,     0.56757,     0.56857,     0.56957,     0.57057,     0.57157,     0.57257,     0.57357,     0.57457,     0.57558,\n",
              "           0.57658,     0.57758,     0.57858,     0.57958,     0.58058,     0.58158,     0.58258,     0.58358,     0.58458,     0.58559,     0.58659,     0.58759,     0.58859,     0.58959,     0.59059,     0.59159,     0.59259,     0.59359,     0.59459,      0.5956,      0.5966,      0.5976,      0.5986,      0.5996,\n",
              "            0.6006,      0.6016,      0.6026,      0.6036,      0.6046,     0.60561,     0.60661,     0.60761,     0.60861,     0.60961,     0.61061,     0.61161,     0.61261,     0.61361,     0.61461,     0.61562,     0.61662,     0.61762,     0.61862,     0.61962,     0.62062,     0.62162,     0.62262,     0.62362,\n",
              "           0.62462,     0.62563,     0.62663,     0.62763,     0.62863,     0.62963,     0.63063,     0.63163,     0.63263,     0.63363,     0.63463,     0.63564,     0.63664,     0.63764,     0.63864,     0.63964,     0.64064,     0.64164,     0.64264,     0.64364,     0.64464,     0.64565,     0.64665,     0.64765,\n",
              "           0.64865,     0.64965,     0.65065,     0.65165,     0.65265,     0.65365,     0.65465,     0.65566,     0.65666,     0.65766,     0.65866,     0.65966,     0.66066,     0.66166,     0.66266,     0.66366,     0.66466,     0.66567,     0.66667,     0.66767,     0.66867,     0.66967,     0.67067,     0.67167,\n",
              "           0.67267,     0.67367,     0.67467,     0.67568,     0.67668,     0.67768,     0.67868,     0.67968,     0.68068,     0.68168,     0.68268,     0.68368,     0.68468,     0.68569,     0.68669,     0.68769,     0.68869,     0.68969,     0.69069,     0.69169,     0.69269,     0.69369,     0.69469,      0.6957,\n",
              "            0.6967,      0.6977,      0.6987,      0.6997,      0.7007,      0.7017,      0.7027,      0.7037,      0.7047,     0.70571,     0.70671,     0.70771,     0.70871,     0.70971,     0.71071,     0.71171,     0.71271,     0.71371,     0.71471,     0.71572,     0.71672,     0.71772,     0.71872,     0.71972,\n",
              "           0.72072,     0.72172,     0.72272,     0.72372,     0.72472,     0.72573,     0.72673,     0.72773,     0.72873,     0.72973,     0.73073,     0.73173,     0.73273,     0.73373,     0.73473,     0.73574,     0.73674,     0.73774,     0.73874,     0.73974,     0.74074,     0.74174,     0.74274,     0.74374,\n",
              "           0.74474,     0.74575,     0.74675,     0.74775,     0.74875,     0.74975,     0.75075,     0.75175,     0.75275,     0.75375,     0.75475,     0.75576,     0.75676,     0.75776,     0.75876,     0.75976,     0.76076,     0.76176,     0.76276,     0.76376,     0.76476,     0.76577,     0.76677,     0.76777,\n",
              "           0.76877,     0.76977,     0.77077,     0.77177,     0.77277,     0.77377,     0.77477,     0.77578,     0.77678,     0.77778,     0.77878,     0.77978,     0.78078,     0.78178,     0.78278,     0.78378,     0.78478,     0.78579,     0.78679,     0.78779,     0.78879,     0.78979,     0.79079,     0.79179,\n",
              "           0.79279,     0.79379,     0.79479,      0.7958,      0.7968,      0.7978,      0.7988,      0.7998,      0.8008,      0.8018,      0.8028,      0.8038,      0.8048,     0.80581,     0.80681,     0.80781,     0.80881,     0.80981,     0.81081,     0.81181,     0.81281,     0.81381,     0.81481,     0.81582,\n",
              "           0.81682,     0.81782,     0.81882,     0.81982,     0.82082,     0.82182,     0.82282,     0.82382,     0.82482,     0.82583,     0.82683,     0.82783,     0.82883,     0.82983,     0.83083,     0.83183,     0.83283,     0.83383,     0.83483,     0.83584,     0.83684,     0.83784,     0.83884,     0.83984,\n",
              "           0.84084,     0.84184,     0.84284,     0.84384,     0.84484,     0.84585,     0.84685,     0.84785,     0.84885,     0.84985,     0.85085,     0.85185,     0.85285,     0.85385,     0.85485,     0.85586,     0.85686,     0.85786,     0.85886,     0.85986,     0.86086,     0.86186,     0.86286,     0.86386,\n",
              "           0.86486,     0.86587,     0.86687,     0.86787,     0.86887,     0.86987,     0.87087,     0.87187,     0.87287,     0.87387,     0.87487,     0.87588,     0.87688,     0.87788,     0.87888,     0.87988,     0.88088,     0.88188,     0.88288,     0.88388,     0.88488,     0.88589,     0.88689,     0.88789,\n",
              "           0.88889,     0.88989,     0.89089,     0.89189,     0.89289,     0.89389,     0.89489,      0.8959,      0.8969,      0.8979,      0.8989,      0.8999,      0.9009,      0.9019,      0.9029,      0.9039,      0.9049,     0.90591,     0.90691,     0.90791,     0.90891,     0.90991,     0.91091,     0.91191,\n",
              "           0.91291,     0.91391,     0.91491,     0.91592,     0.91692,     0.91792,     0.91892,     0.91992,     0.92092,     0.92192,     0.92292,     0.92392,     0.92492,     0.92593,     0.92693,     0.92793,     0.92893,     0.92993,     0.93093,     0.93193,     0.93293,     0.93393,     0.93493,     0.93594,\n",
              "           0.93694,     0.93794,     0.93894,     0.93994,     0.94094,     0.94194,     0.94294,     0.94394,     0.94494,     0.94595,     0.94695,     0.94795,     0.94895,     0.94995,     0.95095,     0.95195,     0.95295,     0.95395,     0.95495,     0.95596,     0.95696,     0.95796,     0.95896,     0.95996,\n",
              "           0.96096,     0.96196,     0.96296,     0.96396,     0.96496,     0.96597,     0.96697,     0.96797,     0.96897,     0.96997,     0.97097,     0.97197,     0.97297,     0.97397,     0.97497,     0.97598,     0.97698,     0.97798,     0.97898,     0.97998,     0.98098,     0.98198,     0.98298,     0.98398,\n",
              "           0.98498,     0.98599,     0.98699,     0.98799,     0.98899,     0.98999,     0.99099,     0.99199,     0.99299,     0.99399,     0.99499,       0.996,       0.997,       0.998,       0.999,           1]), array([[          1,           1,           1, ...,           0,           0,           0],\n",
              "       [          1,           1,           1, ...,           0,           0,           0],\n",
              "       [          1,           1,           1, ...,           0,           0,           0],\n",
              "       [    0.85714,     0.85714,     0.85714, ...,           0,           0,           0]]), 'Confidence', 'Recall']]\n",
              "fitness: np.float64(0.4972989622354149)\n",
              "keys: ['metrics/precision(B)', 'metrics/recall(B)', 'metrics/mAP50(B)', 'metrics/mAP50-95(B)']\n",
              "maps: array([    0.41763,     0.58919,     0.30473,     0.50043])\n",
              "names: {0: 'Aloe Vera', 1: 'Begonia', 2: 'Money Plant', 3: 'Rattlesnake Plant'}\n",
              "nt_per_class: array([6, 6, 6, 7])\n",
              "nt_per_image: array([6, 6, 6, 6])\n",
              "results_dict: {'metrics/precision(B)': np.float64(0.9419699647341819), 'metrics/recall(B)': np.float64(0.8559485865310755), 'metrics/mAP50(B)': np.float64(0.8960565791289605), 'metrics/mAP50-95(B)': np.float64(0.4529925603583543), 'fitness': np.float64(0.4972989622354149)}\n",
              "speed: {'preprocess': 0.46035645833342187, 'inference': 2.2728747916668604, 'loss': 0.00046737499796260334, 'postprocess': 3.2058087083347195}\n",
              "stats: {'tp': [], 'conf': [], 'pred_cls': [], 'target_cls': [], 'target_img': []}\n",
              "task: 'detect'"
            ]
          },
          "metadata": {},
          "execution_count": 10
        }
      ]
    },
    {
      "cell_type": "code",
      "source": [
        "model.val(\n",
        "    data='/content/plant_detection/data.yaml',\n",
        "    split='val',\n",
        "    save=True,\n",
        "    save_txt=True,\n",
        "    save_conf=True,\n",
        "    plots=True  # Ensures all plots including confusion matrix\n",
        ")\n"
      ],
      "metadata": {
        "colab": {
          "base_uri": "https://localhost:8080/"
        },
        "id": "RLbx599vXvRh",
        "outputId": "38ae6ea3-9f22-4958-9b08-9f2408c6aa99"
      },
      "execution_count": 11,
      "outputs": [
        {
          "output_type": "stream",
          "name": "stdout",
          "text": [
            "Ultralytics 8.3.155 🚀 Python-3.11.13 torch-2.6.0+cu124 CUDA:0 (Tesla T4, 15095MiB)\n",
            "YOLO11n summary (fused): 100 layers, 2,582,932 parameters, 0 gradients, 6.3 GFLOPs\n",
            "\u001b[34m\u001b[1mval: \u001b[0mFast image access ✅ (ping: 0.0±0.0 ms, read: 1250.7±395.4 MB/s, size: 45.5 KB)\n"
          ]
        },
        {
          "output_type": "stream",
          "name": "stderr",
          "text": [
            "\u001b[34m\u001b[1mval: \u001b[0mScanning /content/plant_detection/valid/labels.cache... 24 images, 0 backgrounds, 0 corrupt: 100%|██████████| 24/24 [00:00<?, ?it/s]\n",
            "                 Class     Images  Instances      Box(P          R      mAP50  mAP50-95): 100%|██████████| 2/2 [00:04<00:00,  2.27s/it]\n"
          ]
        },
        {
          "output_type": "stream",
          "name": "stdout",
          "text": [
            "                   all         24         25      0.942      0.856      0.898      0.453\n",
            "             Aloe Vera          6          6      0.826      0.798      0.848      0.417\n",
            "               Begonia          6          6          1      0.946      0.995      0.589\n",
            "           Money Plant          6          6      0.943      0.833      0.895      0.305\n",
            "     Rattlesnake Plant          6          7          1      0.846      0.855        0.5\n",
            "Speed: 0.3ms preprocess, 14.6ms inference, 0.0ms loss, 2.4ms postprocess per image\n",
            "Results saved to \u001b[1mruns/detect/train2\u001b[0m\n"
          ]
        },
        {
          "output_type": "execute_result",
          "data": {
            "text/plain": [
              "ultralytics.utils.metrics.DetMetrics object with attributes:\n",
              "\n",
              "ap_class_index: array([0, 1, 2, 3])\n",
              "box: ultralytics.utils.metrics.Metric object\n",
              "confusion_matrix: <ultralytics.utils.metrics.ConfusionMatrix object at 0x799bf365e850>\n",
              "curves: ['Precision-Recall(B)', 'F1-Confidence(B)', 'Precision-Confidence(B)', 'Recall-Confidence(B)']\n",
              "curves_results: [[array([          0,    0.001001,    0.002002,    0.003003,    0.004004,    0.005005,    0.006006,    0.007007,    0.008008,    0.009009,     0.01001,    0.011011,    0.012012,    0.013013,    0.014014,    0.015015,    0.016016,    0.017017,    0.018018,    0.019019,     0.02002,    0.021021,    0.022022,    0.023023,\n",
              "          0.024024,    0.025025,    0.026026,    0.027027,    0.028028,    0.029029,     0.03003,    0.031031,    0.032032,    0.033033,    0.034034,    0.035035,    0.036036,    0.037037,    0.038038,    0.039039,     0.04004,    0.041041,    0.042042,    0.043043,    0.044044,    0.045045,    0.046046,    0.047047,\n",
              "          0.048048,    0.049049,     0.05005,    0.051051,    0.052052,    0.053053,    0.054054,    0.055055,    0.056056,    0.057057,    0.058058,    0.059059,     0.06006,    0.061061,    0.062062,    0.063063,    0.064064,    0.065065,    0.066066,    0.067067,    0.068068,    0.069069,     0.07007,    0.071071,\n",
              "          0.072072,    0.073073,    0.074074,    0.075075,    0.076076,    0.077077,    0.078078,    0.079079,     0.08008,    0.081081,    0.082082,    0.083083,    0.084084,    0.085085,    0.086086,    0.087087,    0.088088,    0.089089,     0.09009,    0.091091,    0.092092,    0.093093,    0.094094,    0.095095,\n",
              "          0.096096,    0.097097,    0.098098,    0.099099,      0.1001,      0.1011,      0.1021,      0.1031,      0.1041,     0.10511,     0.10611,     0.10711,     0.10811,     0.10911,     0.11011,     0.11111,     0.11211,     0.11311,     0.11411,     0.11512,     0.11612,     0.11712,     0.11812,     0.11912,\n",
              "           0.12012,     0.12112,     0.12212,     0.12312,     0.12412,     0.12513,     0.12613,     0.12713,     0.12813,     0.12913,     0.13013,     0.13113,     0.13213,     0.13313,     0.13413,     0.13514,     0.13614,     0.13714,     0.13814,     0.13914,     0.14014,     0.14114,     0.14214,     0.14314,\n",
              "           0.14414,     0.14515,     0.14615,     0.14715,     0.14815,     0.14915,     0.15015,     0.15115,     0.15215,     0.15315,     0.15415,     0.15516,     0.15616,     0.15716,     0.15816,     0.15916,     0.16016,     0.16116,     0.16216,     0.16316,     0.16416,     0.16517,     0.16617,     0.16717,\n",
              "           0.16817,     0.16917,     0.17017,     0.17117,     0.17217,     0.17317,     0.17417,     0.17518,     0.17618,     0.17718,     0.17818,     0.17918,     0.18018,     0.18118,     0.18218,     0.18318,     0.18418,     0.18519,     0.18619,     0.18719,     0.18819,     0.18919,     0.19019,     0.19119,\n",
              "           0.19219,     0.19319,     0.19419,      0.1952,      0.1962,      0.1972,      0.1982,      0.1992,      0.2002,      0.2012,      0.2022,      0.2032,      0.2042,     0.20521,     0.20621,     0.20721,     0.20821,     0.20921,     0.21021,     0.21121,     0.21221,     0.21321,     0.21421,     0.21522,\n",
              "           0.21622,     0.21722,     0.21822,     0.21922,     0.22022,     0.22122,     0.22222,     0.22322,     0.22422,     0.22523,     0.22623,     0.22723,     0.22823,     0.22923,     0.23023,     0.23123,     0.23223,     0.23323,     0.23423,     0.23524,     0.23624,     0.23724,     0.23824,     0.23924,\n",
              "           0.24024,     0.24124,     0.24224,     0.24324,     0.24424,     0.24525,     0.24625,     0.24725,     0.24825,     0.24925,     0.25025,     0.25125,     0.25225,     0.25325,     0.25425,     0.25526,     0.25626,     0.25726,     0.25826,     0.25926,     0.26026,     0.26126,     0.26226,     0.26326,\n",
              "           0.26426,     0.26527,     0.26627,     0.26727,     0.26827,     0.26927,     0.27027,     0.27127,     0.27227,     0.27327,     0.27427,     0.27528,     0.27628,     0.27728,     0.27828,     0.27928,     0.28028,     0.28128,     0.28228,     0.28328,     0.28428,     0.28529,     0.28629,     0.28729,\n",
              "           0.28829,     0.28929,     0.29029,     0.29129,     0.29229,     0.29329,     0.29429,      0.2953,      0.2963,      0.2973,      0.2983,      0.2993,      0.3003,      0.3013,      0.3023,      0.3033,      0.3043,     0.30531,     0.30631,     0.30731,     0.30831,     0.30931,     0.31031,     0.31131,\n",
              "           0.31231,     0.31331,     0.31431,     0.31532,     0.31632,     0.31732,     0.31832,     0.31932,     0.32032,     0.32132,     0.32232,     0.32332,     0.32432,     0.32533,     0.32633,     0.32733,     0.32833,     0.32933,     0.33033,     0.33133,     0.33233,     0.33333,     0.33433,     0.33534,\n",
              "           0.33634,     0.33734,     0.33834,     0.33934,     0.34034,     0.34134,     0.34234,     0.34334,     0.34434,     0.34535,     0.34635,     0.34735,     0.34835,     0.34935,     0.35035,     0.35135,     0.35235,     0.35335,     0.35435,     0.35536,     0.35636,     0.35736,     0.35836,     0.35936,\n",
              "           0.36036,     0.36136,     0.36236,     0.36336,     0.36436,     0.36537,     0.36637,     0.36737,     0.36837,     0.36937,     0.37037,     0.37137,     0.37237,     0.37337,     0.37437,     0.37538,     0.37638,     0.37738,     0.37838,     0.37938,     0.38038,     0.38138,     0.38238,     0.38338,\n",
              "           0.38438,     0.38539,     0.38639,     0.38739,     0.38839,     0.38939,     0.39039,     0.39139,     0.39239,     0.39339,     0.39439,      0.3954,      0.3964,      0.3974,      0.3984,      0.3994,      0.4004,      0.4014,      0.4024,      0.4034,      0.4044,     0.40541,     0.40641,     0.40741,\n",
              "           0.40841,     0.40941,     0.41041,     0.41141,     0.41241,     0.41341,     0.41441,     0.41542,     0.41642,     0.41742,     0.41842,     0.41942,     0.42042,     0.42142,     0.42242,     0.42342,     0.42442,     0.42543,     0.42643,     0.42743,     0.42843,     0.42943,     0.43043,     0.43143,\n",
              "           0.43243,     0.43343,     0.43443,     0.43544,     0.43644,     0.43744,     0.43844,     0.43944,     0.44044,     0.44144,     0.44244,     0.44344,     0.44444,     0.44545,     0.44645,     0.44745,     0.44845,     0.44945,     0.45045,     0.45145,     0.45245,     0.45345,     0.45445,     0.45546,\n",
              "           0.45646,     0.45746,     0.45846,     0.45946,     0.46046,     0.46146,     0.46246,     0.46346,     0.46446,     0.46547,     0.46647,     0.46747,     0.46847,     0.46947,     0.47047,     0.47147,     0.47247,     0.47347,     0.47447,     0.47548,     0.47648,     0.47748,     0.47848,     0.47948,\n",
              "           0.48048,     0.48148,     0.48248,     0.48348,     0.48448,     0.48549,     0.48649,     0.48749,     0.48849,     0.48949,     0.49049,     0.49149,     0.49249,     0.49349,     0.49449,      0.4955,      0.4965,      0.4975,      0.4985,      0.4995,      0.5005,      0.5015,      0.5025,      0.5035,\n",
              "            0.5045,     0.50551,     0.50651,     0.50751,     0.50851,     0.50951,     0.51051,     0.51151,     0.51251,     0.51351,     0.51451,     0.51552,     0.51652,     0.51752,     0.51852,     0.51952,     0.52052,     0.52152,     0.52252,     0.52352,     0.52452,     0.52553,     0.52653,     0.52753,\n",
              "           0.52853,     0.52953,     0.53053,     0.53153,     0.53253,     0.53353,     0.53453,     0.53554,     0.53654,     0.53754,     0.53854,     0.53954,     0.54054,     0.54154,     0.54254,     0.54354,     0.54454,     0.54555,     0.54655,     0.54755,     0.54855,     0.54955,     0.55055,     0.55155,\n",
              "           0.55255,     0.55355,     0.55455,     0.55556,     0.55656,     0.55756,     0.55856,     0.55956,     0.56056,     0.56156,     0.56256,     0.56356,     0.56456,     0.56557,     0.56657,     0.56757,     0.56857,     0.56957,     0.57057,     0.57157,     0.57257,     0.57357,     0.57457,     0.57558,\n",
              "           0.57658,     0.57758,     0.57858,     0.57958,     0.58058,     0.58158,     0.58258,     0.58358,     0.58458,     0.58559,     0.58659,     0.58759,     0.58859,     0.58959,     0.59059,     0.59159,     0.59259,     0.59359,     0.59459,      0.5956,      0.5966,      0.5976,      0.5986,      0.5996,\n",
              "            0.6006,      0.6016,      0.6026,      0.6036,      0.6046,     0.60561,     0.60661,     0.60761,     0.60861,     0.60961,     0.61061,     0.61161,     0.61261,     0.61361,     0.61461,     0.61562,     0.61662,     0.61762,     0.61862,     0.61962,     0.62062,     0.62162,     0.62262,     0.62362,\n",
              "           0.62462,     0.62563,     0.62663,     0.62763,     0.62863,     0.62963,     0.63063,     0.63163,     0.63263,     0.63363,     0.63463,     0.63564,     0.63664,     0.63764,     0.63864,     0.63964,     0.64064,     0.64164,     0.64264,     0.64364,     0.64464,     0.64565,     0.64665,     0.64765,\n",
              "           0.64865,     0.64965,     0.65065,     0.65165,     0.65265,     0.65365,     0.65465,     0.65566,     0.65666,     0.65766,     0.65866,     0.65966,     0.66066,     0.66166,     0.66266,     0.66366,     0.66466,     0.66567,     0.66667,     0.66767,     0.66867,     0.66967,     0.67067,     0.67167,\n",
              "           0.67267,     0.67367,     0.67467,     0.67568,     0.67668,     0.67768,     0.67868,     0.67968,     0.68068,     0.68168,     0.68268,     0.68368,     0.68468,     0.68569,     0.68669,     0.68769,     0.68869,     0.68969,     0.69069,     0.69169,     0.69269,     0.69369,     0.69469,      0.6957,\n",
              "            0.6967,      0.6977,      0.6987,      0.6997,      0.7007,      0.7017,      0.7027,      0.7037,      0.7047,     0.70571,     0.70671,     0.70771,     0.70871,     0.70971,     0.71071,     0.71171,     0.71271,     0.71371,     0.71471,     0.71572,     0.71672,     0.71772,     0.71872,     0.71972,\n",
              "           0.72072,     0.72172,     0.72272,     0.72372,     0.72472,     0.72573,     0.72673,     0.72773,     0.72873,     0.72973,     0.73073,     0.73173,     0.73273,     0.73373,     0.73473,     0.73574,     0.73674,     0.73774,     0.73874,     0.73974,     0.74074,     0.74174,     0.74274,     0.74374,\n",
              "           0.74474,     0.74575,     0.74675,     0.74775,     0.74875,     0.74975,     0.75075,     0.75175,     0.75275,     0.75375,     0.75475,     0.75576,     0.75676,     0.75776,     0.75876,     0.75976,     0.76076,     0.76176,     0.76276,     0.76376,     0.76476,     0.76577,     0.76677,     0.76777,\n",
              "           0.76877,     0.76977,     0.77077,     0.77177,     0.77277,     0.77377,     0.77477,     0.77578,     0.77678,     0.77778,     0.77878,     0.77978,     0.78078,     0.78178,     0.78278,     0.78378,     0.78478,     0.78579,     0.78679,     0.78779,     0.78879,     0.78979,     0.79079,     0.79179,\n",
              "           0.79279,     0.79379,     0.79479,      0.7958,      0.7968,      0.7978,      0.7988,      0.7998,      0.8008,      0.8018,      0.8028,      0.8038,      0.8048,     0.80581,     0.80681,     0.80781,     0.80881,     0.80981,     0.81081,     0.81181,     0.81281,     0.81381,     0.81481,     0.81582,\n",
              "           0.81682,     0.81782,     0.81882,     0.81982,     0.82082,     0.82182,     0.82282,     0.82382,     0.82482,     0.82583,     0.82683,     0.82783,     0.82883,     0.82983,     0.83083,     0.83183,     0.83283,     0.83383,     0.83483,     0.83584,     0.83684,     0.83784,     0.83884,     0.83984,\n",
              "           0.84084,     0.84184,     0.84284,     0.84384,     0.84484,     0.84585,     0.84685,     0.84785,     0.84885,     0.84985,     0.85085,     0.85185,     0.85285,     0.85385,     0.85485,     0.85586,     0.85686,     0.85786,     0.85886,     0.85986,     0.86086,     0.86186,     0.86286,     0.86386,\n",
              "           0.86486,     0.86587,     0.86687,     0.86787,     0.86887,     0.86987,     0.87087,     0.87187,     0.87287,     0.87387,     0.87487,     0.87588,     0.87688,     0.87788,     0.87888,     0.87988,     0.88088,     0.88188,     0.88288,     0.88388,     0.88488,     0.88589,     0.88689,     0.88789,\n",
              "           0.88889,     0.88989,     0.89089,     0.89189,     0.89289,     0.89389,     0.89489,      0.8959,      0.8969,      0.8979,      0.8989,      0.8999,      0.9009,      0.9019,      0.9029,      0.9039,      0.9049,     0.90591,     0.90691,     0.90791,     0.90891,     0.90991,     0.91091,     0.91191,\n",
              "           0.91291,     0.91391,     0.91491,     0.91592,     0.91692,     0.91792,     0.91892,     0.91992,     0.92092,     0.92192,     0.92292,     0.92392,     0.92492,     0.92593,     0.92693,     0.92793,     0.92893,     0.92993,     0.93093,     0.93193,     0.93293,     0.93393,     0.93493,     0.93594,\n",
              "           0.93694,     0.93794,     0.93894,     0.93994,     0.94094,     0.94194,     0.94294,     0.94394,     0.94494,     0.94595,     0.94695,     0.94795,     0.94895,     0.94995,     0.95095,     0.95195,     0.95295,     0.95395,     0.95495,     0.95596,     0.95696,     0.95796,     0.95896,     0.95996,\n",
              "           0.96096,     0.96196,     0.96296,     0.96396,     0.96496,     0.96597,     0.96697,     0.96797,     0.96897,     0.96997,     0.97097,     0.97197,     0.97297,     0.97397,     0.97497,     0.97598,     0.97698,     0.97798,     0.97898,     0.97998,     0.98098,     0.98198,     0.98298,     0.98398,\n",
              "           0.98498,     0.98599,     0.98699,     0.98799,     0.98899,     0.98999,     0.99099,     0.99199,     0.99299,     0.99399,     0.99499,       0.996,       0.997,       0.998,       0.999,           1]), array([[          1,           1,           1, ...,         0.6,         0.6,           0],\n",
              "       [          1,           1,           1, ...,           1,           1,           0],\n",
              "       [          1,           1,           1, ...,       0.375,       0.375,           0],\n",
              "       [          1,           1,           1, ...,  5.4885e-05,  2.7443e-05,           0]]), 'Recall', 'Precision'], [array([          0,    0.001001,    0.002002,    0.003003,    0.004004,    0.005005,    0.006006,    0.007007,    0.008008,    0.009009,     0.01001,    0.011011,    0.012012,    0.013013,    0.014014,    0.015015,    0.016016,    0.017017,    0.018018,    0.019019,     0.02002,    0.021021,    0.022022,    0.023023,\n",
              "          0.024024,    0.025025,    0.026026,    0.027027,    0.028028,    0.029029,     0.03003,    0.031031,    0.032032,    0.033033,    0.034034,    0.035035,    0.036036,    0.037037,    0.038038,    0.039039,     0.04004,    0.041041,    0.042042,    0.043043,    0.044044,    0.045045,    0.046046,    0.047047,\n",
              "          0.048048,    0.049049,     0.05005,    0.051051,    0.052052,    0.053053,    0.054054,    0.055055,    0.056056,    0.057057,    0.058058,    0.059059,     0.06006,    0.061061,    0.062062,    0.063063,    0.064064,    0.065065,    0.066066,    0.067067,    0.068068,    0.069069,     0.07007,    0.071071,\n",
              "          0.072072,    0.073073,    0.074074,    0.075075,    0.076076,    0.077077,    0.078078,    0.079079,     0.08008,    0.081081,    0.082082,    0.083083,    0.084084,    0.085085,    0.086086,    0.087087,    0.088088,    0.089089,     0.09009,    0.091091,    0.092092,    0.093093,    0.094094,    0.095095,\n",
              "          0.096096,    0.097097,    0.098098,    0.099099,      0.1001,      0.1011,      0.1021,      0.1031,      0.1041,     0.10511,     0.10611,     0.10711,     0.10811,     0.10911,     0.11011,     0.11111,     0.11211,     0.11311,     0.11411,     0.11512,     0.11612,     0.11712,     0.11812,     0.11912,\n",
              "           0.12012,     0.12112,     0.12212,     0.12312,     0.12412,     0.12513,     0.12613,     0.12713,     0.12813,     0.12913,     0.13013,     0.13113,     0.13213,     0.13313,     0.13413,     0.13514,     0.13614,     0.13714,     0.13814,     0.13914,     0.14014,     0.14114,     0.14214,     0.14314,\n",
              "           0.14414,     0.14515,     0.14615,     0.14715,     0.14815,     0.14915,     0.15015,     0.15115,     0.15215,     0.15315,     0.15415,     0.15516,     0.15616,     0.15716,     0.15816,     0.15916,     0.16016,     0.16116,     0.16216,     0.16316,     0.16416,     0.16517,     0.16617,     0.16717,\n",
              "           0.16817,     0.16917,     0.17017,     0.17117,     0.17217,     0.17317,     0.17417,     0.17518,     0.17618,     0.17718,     0.17818,     0.17918,     0.18018,     0.18118,     0.18218,     0.18318,     0.18418,     0.18519,     0.18619,     0.18719,     0.18819,     0.18919,     0.19019,     0.19119,\n",
              "           0.19219,     0.19319,     0.19419,      0.1952,      0.1962,      0.1972,      0.1982,      0.1992,      0.2002,      0.2012,      0.2022,      0.2032,      0.2042,     0.20521,     0.20621,     0.20721,     0.20821,     0.20921,     0.21021,     0.21121,     0.21221,     0.21321,     0.21421,     0.21522,\n",
              "           0.21622,     0.21722,     0.21822,     0.21922,     0.22022,     0.22122,     0.22222,     0.22322,     0.22422,     0.22523,     0.22623,     0.22723,     0.22823,     0.22923,     0.23023,     0.23123,     0.23223,     0.23323,     0.23423,     0.23524,     0.23624,     0.23724,     0.23824,     0.23924,\n",
              "           0.24024,     0.24124,     0.24224,     0.24324,     0.24424,     0.24525,     0.24625,     0.24725,     0.24825,     0.24925,     0.25025,     0.25125,     0.25225,     0.25325,     0.25425,     0.25526,     0.25626,     0.25726,     0.25826,     0.25926,     0.26026,     0.26126,     0.26226,     0.26326,\n",
              "           0.26426,     0.26527,     0.26627,     0.26727,     0.26827,     0.26927,     0.27027,     0.27127,     0.27227,     0.27327,     0.27427,     0.27528,     0.27628,     0.27728,     0.27828,     0.27928,     0.28028,     0.28128,     0.28228,     0.28328,     0.28428,     0.28529,     0.28629,     0.28729,\n",
              "           0.28829,     0.28929,     0.29029,     0.29129,     0.29229,     0.29329,     0.29429,      0.2953,      0.2963,      0.2973,      0.2983,      0.2993,      0.3003,      0.3013,      0.3023,      0.3033,      0.3043,     0.30531,     0.30631,     0.30731,     0.30831,     0.30931,     0.31031,     0.31131,\n",
              "           0.31231,     0.31331,     0.31431,     0.31532,     0.31632,     0.31732,     0.31832,     0.31932,     0.32032,     0.32132,     0.32232,     0.32332,     0.32432,     0.32533,     0.32633,     0.32733,     0.32833,     0.32933,     0.33033,     0.33133,     0.33233,     0.33333,     0.33433,     0.33534,\n",
              "           0.33634,     0.33734,     0.33834,     0.33934,     0.34034,     0.34134,     0.34234,     0.34334,     0.34434,     0.34535,     0.34635,     0.34735,     0.34835,     0.34935,     0.35035,     0.35135,     0.35235,     0.35335,     0.35435,     0.35536,     0.35636,     0.35736,     0.35836,     0.35936,\n",
              "           0.36036,     0.36136,     0.36236,     0.36336,     0.36436,     0.36537,     0.36637,     0.36737,     0.36837,     0.36937,     0.37037,     0.37137,     0.37237,     0.37337,     0.37437,     0.37538,     0.37638,     0.37738,     0.37838,     0.37938,     0.38038,     0.38138,     0.38238,     0.38338,\n",
              "           0.38438,     0.38539,     0.38639,     0.38739,     0.38839,     0.38939,     0.39039,     0.39139,     0.39239,     0.39339,     0.39439,      0.3954,      0.3964,      0.3974,      0.3984,      0.3994,      0.4004,      0.4014,      0.4024,      0.4034,      0.4044,     0.40541,     0.40641,     0.40741,\n",
              "           0.40841,     0.40941,     0.41041,     0.41141,     0.41241,     0.41341,     0.41441,     0.41542,     0.41642,     0.41742,     0.41842,     0.41942,     0.42042,     0.42142,     0.42242,     0.42342,     0.42442,     0.42543,     0.42643,     0.42743,     0.42843,     0.42943,     0.43043,     0.43143,\n",
              "           0.43243,     0.43343,     0.43443,     0.43544,     0.43644,     0.43744,     0.43844,     0.43944,     0.44044,     0.44144,     0.44244,     0.44344,     0.44444,     0.44545,     0.44645,     0.44745,     0.44845,     0.44945,     0.45045,     0.45145,     0.45245,     0.45345,     0.45445,     0.45546,\n",
              "           0.45646,     0.45746,     0.45846,     0.45946,     0.46046,     0.46146,     0.46246,     0.46346,     0.46446,     0.46547,     0.46647,     0.46747,     0.46847,     0.46947,     0.47047,     0.47147,     0.47247,     0.47347,     0.47447,     0.47548,     0.47648,     0.47748,     0.47848,     0.47948,\n",
              "           0.48048,     0.48148,     0.48248,     0.48348,     0.48448,     0.48549,     0.48649,     0.48749,     0.48849,     0.48949,     0.49049,     0.49149,     0.49249,     0.49349,     0.49449,      0.4955,      0.4965,      0.4975,      0.4985,      0.4995,      0.5005,      0.5015,      0.5025,      0.5035,\n",
              "            0.5045,     0.50551,     0.50651,     0.50751,     0.50851,     0.50951,     0.51051,     0.51151,     0.51251,     0.51351,     0.51451,     0.51552,     0.51652,     0.51752,     0.51852,     0.51952,     0.52052,     0.52152,     0.52252,     0.52352,     0.52452,     0.52553,     0.52653,     0.52753,\n",
              "           0.52853,     0.52953,     0.53053,     0.53153,     0.53253,     0.53353,     0.53453,     0.53554,     0.53654,     0.53754,     0.53854,     0.53954,     0.54054,     0.54154,     0.54254,     0.54354,     0.54454,     0.54555,     0.54655,     0.54755,     0.54855,     0.54955,     0.55055,     0.55155,\n",
              "           0.55255,     0.55355,     0.55455,     0.55556,     0.55656,     0.55756,     0.55856,     0.55956,     0.56056,     0.56156,     0.56256,     0.56356,     0.56456,     0.56557,     0.56657,     0.56757,     0.56857,     0.56957,     0.57057,     0.57157,     0.57257,     0.57357,     0.57457,     0.57558,\n",
              "           0.57658,     0.57758,     0.57858,     0.57958,     0.58058,     0.58158,     0.58258,     0.58358,     0.58458,     0.58559,     0.58659,     0.58759,     0.58859,     0.58959,     0.59059,     0.59159,     0.59259,     0.59359,     0.59459,      0.5956,      0.5966,      0.5976,      0.5986,      0.5996,\n",
              "            0.6006,      0.6016,      0.6026,      0.6036,      0.6046,     0.60561,     0.60661,     0.60761,     0.60861,     0.60961,     0.61061,     0.61161,     0.61261,     0.61361,     0.61461,     0.61562,     0.61662,     0.61762,     0.61862,     0.61962,     0.62062,     0.62162,     0.62262,     0.62362,\n",
              "           0.62462,     0.62563,     0.62663,     0.62763,     0.62863,     0.62963,     0.63063,     0.63163,     0.63263,     0.63363,     0.63463,     0.63564,     0.63664,     0.63764,     0.63864,     0.63964,     0.64064,     0.64164,     0.64264,     0.64364,     0.64464,     0.64565,     0.64665,     0.64765,\n",
              "           0.64865,     0.64965,     0.65065,     0.65165,     0.65265,     0.65365,     0.65465,     0.65566,     0.65666,     0.65766,     0.65866,     0.65966,     0.66066,     0.66166,     0.66266,     0.66366,     0.66466,     0.66567,     0.66667,     0.66767,     0.66867,     0.66967,     0.67067,     0.67167,\n",
              "           0.67267,     0.67367,     0.67467,     0.67568,     0.67668,     0.67768,     0.67868,     0.67968,     0.68068,     0.68168,     0.68268,     0.68368,     0.68468,     0.68569,     0.68669,     0.68769,     0.68869,     0.68969,     0.69069,     0.69169,     0.69269,     0.69369,     0.69469,      0.6957,\n",
              "            0.6967,      0.6977,      0.6987,      0.6997,      0.7007,      0.7017,      0.7027,      0.7037,      0.7047,     0.70571,     0.70671,     0.70771,     0.70871,     0.70971,     0.71071,     0.71171,     0.71271,     0.71371,     0.71471,     0.71572,     0.71672,     0.71772,     0.71872,     0.71972,\n",
              "           0.72072,     0.72172,     0.72272,     0.72372,     0.72472,     0.72573,     0.72673,     0.72773,     0.72873,     0.72973,     0.73073,     0.73173,     0.73273,     0.73373,     0.73473,     0.73574,     0.73674,     0.73774,     0.73874,     0.73974,     0.74074,     0.74174,     0.74274,     0.74374,\n",
              "           0.74474,     0.74575,     0.74675,     0.74775,     0.74875,     0.74975,     0.75075,     0.75175,     0.75275,     0.75375,     0.75475,     0.75576,     0.75676,     0.75776,     0.75876,     0.75976,     0.76076,     0.76176,     0.76276,     0.76376,     0.76476,     0.76577,     0.76677,     0.76777,\n",
              "           0.76877,     0.76977,     0.77077,     0.77177,     0.77277,     0.77377,     0.77477,     0.77578,     0.77678,     0.77778,     0.77878,     0.77978,     0.78078,     0.78178,     0.78278,     0.78378,     0.78478,     0.78579,     0.78679,     0.78779,     0.78879,     0.78979,     0.79079,     0.79179,\n",
              "           0.79279,     0.79379,     0.79479,      0.7958,      0.7968,      0.7978,      0.7988,      0.7998,      0.8008,      0.8018,      0.8028,      0.8038,      0.8048,     0.80581,     0.80681,     0.80781,     0.80881,     0.80981,     0.81081,     0.81181,     0.81281,     0.81381,     0.81481,     0.81582,\n",
              "           0.81682,     0.81782,     0.81882,     0.81982,     0.82082,     0.82182,     0.82282,     0.82382,     0.82482,     0.82583,     0.82683,     0.82783,     0.82883,     0.82983,     0.83083,     0.83183,     0.83283,     0.83383,     0.83483,     0.83584,     0.83684,     0.83784,     0.83884,     0.83984,\n",
              "           0.84084,     0.84184,     0.84284,     0.84384,     0.84484,     0.84585,     0.84685,     0.84785,     0.84885,     0.84985,     0.85085,     0.85185,     0.85285,     0.85385,     0.85485,     0.85586,     0.85686,     0.85786,     0.85886,     0.85986,     0.86086,     0.86186,     0.86286,     0.86386,\n",
              "           0.86486,     0.86587,     0.86687,     0.86787,     0.86887,     0.86987,     0.87087,     0.87187,     0.87287,     0.87387,     0.87487,     0.87588,     0.87688,     0.87788,     0.87888,     0.87988,     0.88088,     0.88188,     0.88288,     0.88388,     0.88488,     0.88589,     0.88689,     0.88789,\n",
              "           0.88889,     0.88989,     0.89089,     0.89189,     0.89289,     0.89389,     0.89489,      0.8959,      0.8969,      0.8979,      0.8989,      0.8999,      0.9009,      0.9019,      0.9029,      0.9039,      0.9049,     0.90591,     0.90691,     0.90791,     0.90891,     0.90991,     0.91091,     0.91191,\n",
              "           0.91291,     0.91391,     0.91491,     0.91592,     0.91692,     0.91792,     0.91892,     0.91992,     0.92092,     0.92192,     0.92292,     0.92392,     0.92492,     0.92593,     0.92693,     0.92793,     0.92893,     0.92993,     0.93093,     0.93193,     0.93293,     0.93393,     0.93493,     0.93594,\n",
              "           0.93694,     0.93794,     0.93894,     0.93994,     0.94094,     0.94194,     0.94294,     0.94394,     0.94494,     0.94595,     0.94695,     0.94795,     0.94895,     0.94995,     0.95095,     0.95195,     0.95295,     0.95395,     0.95495,     0.95596,     0.95696,     0.95796,     0.95896,     0.95996,\n",
              "           0.96096,     0.96196,     0.96296,     0.96396,     0.96496,     0.96597,     0.96697,     0.96797,     0.96897,     0.96997,     0.97097,     0.97197,     0.97297,     0.97397,     0.97497,     0.97598,     0.97698,     0.97798,     0.97898,     0.97998,     0.98098,     0.98198,     0.98298,     0.98398,\n",
              "           0.98498,     0.98599,     0.98699,     0.98799,     0.98899,     0.98999,     0.99099,     0.99199,     0.99299,     0.99399,     0.99499,       0.996,       0.997,       0.998,       0.999,           1]), array([[  0.0058939,   0.0058939,   0.0058939, ...,           0,           0,           0],\n",
              "       [  0.0067077,   0.0067077,   0.0067077, ...,           0,           0,           0],\n",
              "       [  0.0064481,   0.0064481,   0.0064481, ...,           0,           0,           0],\n",
              "       [  0.0077973,   0.0077973,   0.0077973, ...,           0,           0,           0]]), 'Confidence', 'F1'], [array([          0,    0.001001,    0.002002,    0.003003,    0.004004,    0.005005,    0.006006,    0.007007,    0.008008,    0.009009,     0.01001,    0.011011,    0.012012,    0.013013,    0.014014,    0.015015,    0.016016,    0.017017,    0.018018,    0.019019,     0.02002,    0.021021,    0.022022,    0.023023,\n",
              "          0.024024,    0.025025,    0.026026,    0.027027,    0.028028,    0.029029,     0.03003,    0.031031,    0.032032,    0.033033,    0.034034,    0.035035,    0.036036,    0.037037,    0.038038,    0.039039,     0.04004,    0.041041,    0.042042,    0.043043,    0.044044,    0.045045,    0.046046,    0.047047,\n",
              "          0.048048,    0.049049,     0.05005,    0.051051,    0.052052,    0.053053,    0.054054,    0.055055,    0.056056,    0.057057,    0.058058,    0.059059,     0.06006,    0.061061,    0.062062,    0.063063,    0.064064,    0.065065,    0.066066,    0.067067,    0.068068,    0.069069,     0.07007,    0.071071,\n",
              "          0.072072,    0.073073,    0.074074,    0.075075,    0.076076,    0.077077,    0.078078,    0.079079,     0.08008,    0.081081,    0.082082,    0.083083,    0.084084,    0.085085,    0.086086,    0.087087,    0.088088,    0.089089,     0.09009,    0.091091,    0.092092,    0.093093,    0.094094,    0.095095,\n",
              "          0.096096,    0.097097,    0.098098,    0.099099,      0.1001,      0.1011,      0.1021,      0.1031,      0.1041,     0.10511,     0.10611,     0.10711,     0.10811,     0.10911,     0.11011,     0.11111,     0.11211,     0.11311,     0.11411,     0.11512,     0.11612,     0.11712,     0.11812,     0.11912,\n",
              "           0.12012,     0.12112,     0.12212,     0.12312,     0.12412,     0.12513,     0.12613,     0.12713,     0.12813,     0.12913,     0.13013,     0.13113,     0.13213,     0.13313,     0.13413,     0.13514,     0.13614,     0.13714,     0.13814,     0.13914,     0.14014,     0.14114,     0.14214,     0.14314,\n",
              "           0.14414,     0.14515,     0.14615,     0.14715,     0.14815,     0.14915,     0.15015,     0.15115,     0.15215,     0.15315,     0.15415,     0.15516,     0.15616,     0.15716,     0.15816,     0.15916,     0.16016,     0.16116,     0.16216,     0.16316,     0.16416,     0.16517,     0.16617,     0.16717,\n",
              "           0.16817,     0.16917,     0.17017,     0.17117,     0.17217,     0.17317,     0.17417,     0.17518,     0.17618,     0.17718,     0.17818,     0.17918,     0.18018,     0.18118,     0.18218,     0.18318,     0.18418,     0.18519,     0.18619,     0.18719,     0.18819,     0.18919,     0.19019,     0.19119,\n",
              "           0.19219,     0.19319,     0.19419,      0.1952,      0.1962,      0.1972,      0.1982,      0.1992,      0.2002,      0.2012,      0.2022,      0.2032,      0.2042,     0.20521,     0.20621,     0.20721,     0.20821,     0.20921,     0.21021,     0.21121,     0.21221,     0.21321,     0.21421,     0.21522,\n",
              "           0.21622,     0.21722,     0.21822,     0.21922,     0.22022,     0.22122,     0.22222,     0.22322,     0.22422,     0.22523,     0.22623,     0.22723,     0.22823,     0.22923,     0.23023,     0.23123,     0.23223,     0.23323,     0.23423,     0.23524,     0.23624,     0.23724,     0.23824,     0.23924,\n",
              "           0.24024,     0.24124,     0.24224,     0.24324,     0.24424,     0.24525,     0.24625,     0.24725,     0.24825,     0.24925,     0.25025,     0.25125,     0.25225,     0.25325,     0.25425,     0.25526,     0.25626,     0.25726,     0.25826,     0.25926,     0.26026,     0.26126,     0.26226,     0.26326,\n",
              "           0.26426,     0.26527,     0.26627,     0.26727,     0.26827,     0.26927,     0.27027,     0.27127,     0.27227,     0.27327,     0.27427,     0.27528,     0.27628,     0.27728,     0.27828,     0.27928,     0.28028,     0.28128,     0.28228,     0.28328,     0.28428,     0.28529,     0.28629,     0.28729,\n",
              "           0.28829,     0.28929,     0.29029,     0.29129,     0.29229,     0.29329,     0.29429,      0.2953,      0.2963,      0.2973,      0.2983,      0.2993,      0.3003,      0.3013,      0.3023,      0.3033,      0.3043,     0.30531,     0.30631,     0.30731,     0.30831,     0.30931,     0.31031,     0.31131,\n",
              "           0.31231,     0.31331,     0.31431,     0.31532,     0.31632,     0.31732,     0.31832,     0.31932,     0.32032,     0.32132,     0.32232,     0.32332,     0.32432,     0.32533,     0.32633,     0.32733,     0.32833,     0.32933,     0.33033,     0.33133,     0.33233,     0.33333,     0.33433,     0.33534,\n",
              "           0.33634,     0.33734,     0.33834,     0.33934,     0.34034,     0.34134,     0.34234,     0.34334,     0.34434,     0.34535,     0.34635,     0.34735,     0.34835,     0.34935,     0.35035,     0.35135,     0.35235,     0.35335,     0.35435,     0.35536,     0.35636,     0.35736,     0.35836,     0.35936,\n",
              "           0.36036,     0.36136,     0.36236,     0.36336,     0.36436,     0.36537,     0.36637,     0.36737,     0.36837,     0.36937,     0.37037,     0.37137,     0.37237,     0.37337,     0.37437,     0.37538,     0.37638,     0.37738,     0.37838,     0.37938,     0.38038,     0.38138,     0.38238,     0.38338,\n",
              "           0.38438,     0.38539,     0.38639,     0.38739,     0.38839,     0.38939,     0.39039,     0.39139,     0.39239,     0.39339,     0.39439,      0.3954,      0.3964,      0.3974,      0.3984,      0.3994,      0.4004,      0.4014,      0.4024,      0.4034,      0.4044,     0.40541,     0.40641,     0.40741,\n",
              "           0.40841,     0.40941,     0.41041,     0.41141,     0.41241,     0.41341,     0.41441,     0.41542,     0.41642,     0.41742,     0.41842,     0.41942,     0.42042,     0.42142,     0.42242,     0.42342,     0.42442,     0.42543,     0.42643,     0.42743,     0.42843,     0.42943,     0.43043,     0.43143,\n",
              "           0.43243,     0.43343,     0.43443,     0.43544,     0.43644,     0.43744,     0.43844,     0.43944,     0.44044,     0.44144,     0.44244,     0.44344,     0.44444,     0.44545,     0.44645,     0.44745,     0.44845,     0.44945,     0.45045,     0.45145,     0.45245,     0.45345,     0.45445,     0.45546,\n",
              "           0.45646,     0.45746,     0.45846,     0.45946,     0.46046,     0.46146,     0.46246,     0.46346,     0.46446,     0.46547,     0.46647,     0.46747,     0.46847,     0.46947,     0.47047,     0.47147,     0.47247,     0.47347,     0.47447,     0.47548,     0.47648,     0.47748,     0.47848,     0.47948,\n",
              "           0.48048,     0.48148,     0.48248,     0.48348,     0.48448,     0.48549,     0.48649,     0.48749,     0.48849,     0.48949,     0.49049,     0.49149,     0.49249,     0.49349,     0.49449,      0.4955,      0.4965,      0.4975,      0.4985,      0.4995,      0.5005,      0.5015,      0.5025,      0.5035,\n",
              "            0.5045,     0.50551,     0.50651,     0.50751,     0.50851,     0.50951,     0.51051,     0.51151,     0.51251,     0.51351,     0.51451,     0.51552,     0.51652,     0.51752,     0.51852,     0.51952,     0.52052,     0.52152,     0.52252,     0.52352,     0.52452,     0.52553,     0.52653,     0.52753,\n",
              "           0.52853,     0.52953,     0.53053,     0.53153,     0.53253,     0.53353,     0.53453,     0.53554,     0.53654,     0.53754,     0.53854,     0.53954,     0.54054,     0.54154,     0.54254,     0.54354,     0.54454,     0.54555,     0.54655,     0.54755,     0.54855,     0.54955,     0.55055,     0.55155,\n",
              "           0.55255,     0.55355,     0.55455,     0.55556,     0.55656,     0.55756,     0.55856,     0.55956,     0.56056,     0.56156,     0.56256,     0.56356,     0.56456,     0.56557,     0.56657,     0.56757,     0.56857,     0.56957,     0.57057,     0.57157,     0.57257,     0.57357,     0.57457,     0.57558,\n",
              "           0.57658,     0.57758,     0.57858,     0.57958,     0.58058,     0.58158,     0.58258,     0.58358,     0.58458,     0.58559,     0.58659,     0.58759,     0.58859,     0.58959,     0.59059,     0.59159,     0.59259,     0.59359,     0.59459,      0.5956,      0.5966,      0.5976,      0.5986,      0.5996,\n",
              "            0.6006,      0.6016,      0.6026,      0.6036,      0.6046,     0.60561,     0.60661,     0.60761,     0.60861,     0.60961,     0.61061,     0.61161,     0.61261,     0.61361,     0.61461,     0.61562,     0.61662,     0.61762,     0.61862,     0.61962,     0.62062,     0.62162,     0.62262,     0.62362,\n",
              "           0.62462,     0.62563,     0.62663,     0.62763,     0.62863,     0.62963,     0.63063,     0.63163,     0.63263,     0.63363,     0.63463,     0.63564,     0.63664,     0.63764,     0.63864,     0.63964,     0.64064,     0.64164,     0.64264,     0.64364,     0.64464,     0.64565,     0.64665,     0.64765,\n",
              "           0.64865,     0.64965,     0.65065,     0.65165,     0.65265,     0.65365,     0.65465,     0.65566,     0.65666,     0.65766,     0.65866,     0.65966,     0.66066,     0.66166,     0.66266,     0.66366,     0.66466,     0.66567,     0.66667,     0.66767,     0.66867,     0.66967,     0.67067,     0.67167,\n",
              "           0.67267,     0.67367,     0.67467,     0.67568,     0.67668,     0.67768,     0.67868,     0.67968,     0.68068,     0.68168,     0.68268,     0.68368,     0.68468,     0.68569,     0.68669,     0.68769,     0.68869,     0.68969,     0.69069,     0.69169,     0.69269,     0.69369,     0.69469,      0.6957,\n",
              "            0.6967,      0.6977,      0.6987,      0.6997,      0.7007,      0.7017,      0.7027,      0.7037,      0.7047,     0.70571,     0.70671,     0.70771,     0.70871,     0.70971,     0.71071,     0.71171,     0.71271,     0.71371,     0.71471,     0.71572,     0.71672,     0.71772,     0.71872,     0.71972,\n",
              "           0.72072,     0.72172,     0.72272,     0.72372,     0.72472,     0.72573,     0.72673,     0.72773,     0.72873,     0.72973,     0.73073,     0.73173,     0.73273,     0.73373,     0.73473,     0.73574,     0.73674,     0.73774,     0.73874,     0.73974,     0.74074,     0.74174,     0.74274,     0.74374,\n",
              "           0.74474,     0.74575,     0.74675,     0.74775,     0.74875,     0.74975,     0.75075,     0.75175,     0.75275,     0.75375,     0.75475,     0.75576,     0.75676,     0.75776,     0.75876,     0.75976,     0.76076,     0.76176,     0.76276,     0.76376,     0.76476,     0.76577,     0.76677,     0.76777,\n",
              "           0.76877,     0.76977,     0.77077,     0.77177,     0.77277,     0.77377,     0.77477,     0.77578,     0.77678,     0.77778,     0.77878,     0.77978,     0.78078,     0.78178,     0.78278,     0.78378,     0.78478,     0.78579,     0.78679,     0.78779,     0.78879,     0.78979,     0.79079,     0.79179,\n",
              "           0.79279,     0.79379,     0.79479,      0.7958,      0.7968,      0.7978,      0.7988,      0.7998,      0.8008,      0.8018,      0.8028,      0.8038,      0.8048,     0.80581,     0.80681,     0.80781,     0.80881,     0.80981,     0.81081,     0.81181,     0.81281,     0.81381,     0.81481,     0.81582,\n",
              "           0.81682,     0.81782,     0.81882,     0.81982,     0.82082,     0.82182,     0.82282,     0.82382,     0.82482,     0.82583,     0.82683,     0.82783,     0.82883,     0.82983,     0.83083,     0.83183,     0.83283,     0.83383,     0.83483,     0.83584,     0.83684,     0.83784,     0.83884,     0.83984,\n",
              "           0.84084,     0.84184,     0.84284,     0.84384,     0.84484,     0.84585,     0.84685,     0.84785,     0.84885,     0.84985,     0.85085,     0.85185,     0.85285,     0.85385,     0.85485,     0.85586,     0.85686,     0.85786,     0.85886,     0.85986,     0.86086,     0.86186,     0.86286,     0.86386,\n",
              "           0.86486,     0.86587,     0.86687,     0.86787,     0.86887,     0.86987,     0.87087,     0.87187,     0.87287,     0.87387,     0.87487,     0.87588,     0.87688,     0.87788,     0.87888,     0.87988,     0.88088,     0.88188,     0.88288,     0.88388,     0.88488,     0.88589,     0.88689,     0.88789,\n",
              "           0.88889,     0.88989,     0.89089,     0.89189,     0.89289,     0.89389,     0.89489,      0.8959,      0.8969,      0.8979,      0.8989,      0.8999,      0.9009,      0.9019,      0.9029,      0.9039,      0.9049,     0.90591,     0.90691,     0.90791,     0.90891,     0.90991,     0.91091,     0.91191,\n",
              "           0.91291,     0.91391,     0.91491,     0.91592,     0.91692,     0.91792,     0.91892,     0.91992,     0.92092,     0.92192,     0.92292,     0.92392,     0.92492,     0.92593,     0.92693,     0.92793,     0.92893,     0.92993,     0.93093,     0.93193,     0.93293,     0.93393,     0.93493,     0.93594,\n",
              "           0.93694,     0.93794,     0.93894,     0.93994,     0.94094,     0.94194,     0.94294,     0.94394,     0.94494,     0.94595,     0.94695,     0.94795,     0.94895,     0.94995,     0.95095,     0.95195,     0.95295,     0.95395,     0.95495,     0.95596,     0.95696,     0.95796,     0.95896,     0.95996,\n",
              "           0.96096,     0.96196,     0.96296,     0.96396,     0.96496,     0.96597,     0.96697,     0.96797,     0.96897,     0.96997,     0.97097,     0.97197,     0.97297,     0.97397,     0.97497,     0.97598,     0.97698,     0.97798,     0.97898,     0.97998,     0.98098,     0.98198,     0.98298,     0.98398,\n",
              "           0.98498,     0.98599,     0.98699,     0.98799,     0.98899,     0.98999,     0.99099,     0.99199,     0.99299,     0.99399,     0.99499,       0.996,       0.997,       0.998,       0.999,           1]), array([[  0.0029557,   0.0029557,   0.0029557, ...,           1,           1,           1],\n",
              "       [  0.0033651,   0.0033651,   0.0033651, ...,           1,           1,           1],\n",
              "       [  0.0032345,   0.0032345,   0.0032345, ...,           1,           1,           1],\n",
              "       [  0.0039164,   0.0039164,   0.0039164, ...,           1,           1,           1]]), 'Confidence', 'Precision'], [array([          0,    0.001001,    0.002002,    0.003003,    0.004004,    0.005005,    0.006006,    0.007007,    0.008008,    0.009009,     0.01001,    0.011011,    0.012012,    0.013013,    0.014014,    0.015015,    0.016016,    0.017017,    0.018018,    0.019019,     0.02002,    0.021021,    0.022022,    0.023023,\n",
              "          0.024024,    0.025025,    0.026026,    0.027027,    0.028028,    0.029029,     0.03003,    0.031031,    0.032032,    0.033033,    0.034034,    0.035035,    0.036036,    0.037037,    0.038038,    0.039039,     0.04004,    0.041041,    0.042042,    0.043043,    0.044044,    0.045045,    0.046046,    0.047047,\n",
              "          0.048048,    0.049049,     0.05005,    0.051051,    0.052052,    0.053053,    0.054054,    0.055055,    0.056056,    0.057057,    0.058058,    0.059059,     0.06006,    0.061061,    0.062062,    0.063063,    0.064064,    0.065065,    0.066066,    0.067067,    0.068068,    0.069069,     0.07007,    0.071071,\n",
              "          0.072072,    0.073073,    0.074074,    0.075075,    0.076076,    0.077077,    0.078078,    0.079079,     0.08008,    0.081081,    0.082082,    0.083083,    0.084084,    0.085085,    0.086086,    0.087087,    0.088088,    0.089089,     0.09009,    0.091091,    0.092092,    0.093093,    0.094094,    0.095095,\n",
              "          0.096096,    0.097097,    0.098098,    0.099099,      0.1001,      0.1011,      0.1021,      0.1031,      0.1041,     0.10511,     0.10611,     0.10711,     0.10811,     0.10911,     0.11011,     0.11111,     0.11211,     0.11311,     0.11411,     0.11512,     0.11612,     0.11712,     0.11812,     0.11912,\n",
              "           0.12012,     0.12112,     0.12212,     0.12312,     0.12412,     0.12513,     0.12613,     0.12713,     0.12813,     0.12913,     0.13013,     0.13113,     0.13213,     0.13313,     0.13413,     0.13514,     0.13614,     0.13714,     0.13814,     0.13914,     0.14014,     0.14114,     0.14214,     0.14314,\n",
              "           0.14414,     0.14515,     0.14615,     0.14715,     0.14815,     0.14915,     0.15015,     0.15115,     0.15215,     0.15315,     0.15415,     0.15516,     0.15616,     0.15716,     0.15816,     0.15916,     0.16016,     0.16116,     0.16216,     0.16316,     0.16416,     0.16517,     0.16617,     0.16717,\n",
              "           0.16817,     0.16917,     0.17017,     0.17117,     0.17217,     0.17317,     0.17417,     0.17518,     0.17618,     0.17718,     0.17818,     0.17918,     0.18018,     0.18118,     0.18218,     0.18318,     0.18418,     0.18519,     0.18619,     0.18719,     0.18819,     0.18919,     0.19019,     0.19119,\n",
              "           0.19219,     0.19319,     0.19419,      0.1952,      0.1962,      0.1972,      0.1982,      0.1992,      0.2002,      0.2012,      0.2022,      0.2032,      0.2042,     0.20521,     0.20621,     0.20721,     0.20821,     0.20921,     0.21021,     0.21121,     0.21221,     0.21321,     0.21421,     0.21522,\n",
              "           0.21622,     0.21722,     0.21822,     0.21922,     0.22022,     0.22122,     0.22222,     0.22322,     0.22422,     0.22523,     0.22623,     0.22723,     0.22823,     0.22923,     0.23023,     0.23123,     0.23223,     0.23323,     0.23423,     0.23524,     0.23624,     0.23724,     0.23824,     0.23924,\n",
              "           0.24024,     0.24124,     0.24224,     0.24324,     0.24424,     0.24525,     0.24625,     0.24725,     0.24825,     0.24925,     0.25025,     0.25125,     0.25225,     0.25325,     0.25425,     0.25526,     0.25626,     0.25726,     0.25826,     0.25926,     0.26026,     0.26126,     0.26226,     0.26326,\n",
              "           0.26426,     0.26527,     0.26627,     0.26727,     0.26827,     0.26927,     0.27027,     0.27127,     0.27227,     0.27327,     0.27427,     0.27528,     0.27628,     0.27728,     0.27828,     0.27928,     0.28028,     0.28128,     0.28228,     0.28328,     0.28428,     0.28529,     0.28629,     0.28729,\n",
              "           0.28829,     0.28929,     0.29029,     0.29129,     0.29229,     0.29329,     0.29429,      0.2953,      0.2963,      0.2973,      0.2983,      0.2993,      0.3003,      0.3013,      0.3023,      0.3033,      0.3043,     0.30531,     0.30631,     0.30731,     0.30831,     0.30931,     0.31031,     0.31131,\n",
              "           0.31231,     0.31331,     0.31431,     0.31532,     0.31632,     0.31732,     0.31832,     0.31932,     0.32032,     0.32132,     0.32232,     0.32332,     0.32432,     0.32533,     0.32633,     0.32733,     0.32833,     0.32933,     0.33033,     0.33133,     0.33233,     0.33333,     0.33433,     0.33534,\n",
              "           0.33634,     0.33734,     0.33834,     0.33934,     0.34034,     0.34134,     0.34234,     0.34334,     0.34434,     0.34535,     0.34635,     0.34735,     0.34835,     0.34935,     0.35035,     0.35135,     0.35235,     0.35335,     0.35435,     0.35536,     0.35636,     0.35736,     0.35836,     0.35936,\n",
              "           0.36036,     0.36136,     0.36236,     0.36336,     0.36436,     0.36537,     0.36637,     0.36737,     0.36837,     0.36937,     0.37037,     0.37137,     0.37237,     0.37337,     0.37437,     0.37538,     0.37638,     0.37738,     0.37838,     0.37938,     0.38038,     0.38138,     0.38238,     0.38338,\n",
              "           0.38438,     0.38539,     0.38639,     0.38739,     0.38839,     0.38939,     0.39039,     0.39139,     0.39239,     0.39339,     0.39439,      0.3954,      0.3964,      0.3974,      0.3984,      0.3994,      0.4004,      0.4014,      0.4024,      0.4034,      0.4044,     0.40541,     0.40641,     0.40741,\n",
              "           0.40841,     0.40941,     0.41041,     0.41141,     0.41241,     0.41341,     0.41441,     0.41542,     0.41642,     0.41742,     0.41842,     0.41942,     0.42042,     0.42142,     0.42242,     0.42342,     0.42442,     0.42543,     0.42643,     0.42743,     0.42843,     0.42943,     0.43043,     0.43143,\n",
              "           0.43243,     0.43343,     0.43443,     0.43544,     0.43644,     0.43744,     0.43844,     0.43944,     0.44044,     0.44144,     0.44244,     0.44344,     0.44444,     0.44545,     0.44645,     0.44745,     0.44845,     0.44945,     0.45045,     0.45145,     0.45245,     0.45345,     0.45445,     0.45546,\n",
              "           0.45646,     0.45746,     0.45846,     0.45946,     0.46046,     0.46146,     0.46246,     0.46346,     0.46446,     0.46547,     0.46647,     0.46747,     0.46847,     0.46947,     0.47047,     0.47147,     0.47247,     0.47347,     0.47447,     0.47548,     0.47648,     0.47748,     0.47848,     0.47948,\n",
              "           0.48048,     0.48148,     0.48248,     0.48348,     0.48448,     0.48549,     0.48649,     0.48749,     0.48849,     0.48949,     0.49049,     0.49149,     0.49249,     0.49349,     0.49449,      0.4955,      0.4965,      0.4975,      0.4985,      0.4995,      0.5005,      0.5015,      0.5025,      0.5035,\n",
              "            0.5045,     0.50551,     0.50651,     0.50751,     0.50851,     0.50951,     0.51051,     0.51151,     0.51251,     0.51351,     0.51451,     0.51552,     0.51652,     0.51752,     0.51852,     0.51952,     0.52052,     0.52152,     0.52252,     0.52352,     0.52452,     0.52553,     0.52653,     0.52753,\n",
              "           0.52853,     0.52953,     0.53053,     0.53153,     0.53253,     0.53353,     0.53453,     0.53554,     0.53654,     0.53754,     0.53854,     0.53954,     0.54054,     0.54154,     0.54254,     0.54354,     0.54454,     0.54555,     0.54655,     0.54755,     0.54855,     0.54955,     0.55055,     0.55155,\n",
              "           0.55255,     0.55355,     0.55455,     0.55556,     0.55656,     0.55756,     0.55856,     0.55956,     0.56056,     0.56156,     0.56256,     0.56356,     0.56456,     0.56557,     0.56657,     0.56757,     0.56857,     0.56957,     0.57057,     0.57157,     0.57257,     0.57357,     0.57457,     0.57558,\n",
              "           0.57658,     0.57758,     0.57858,     0.57958,     0.58058,     0.58158,     0.58258,     0.58358,     0.58458,     0.58559,     0.58659,     0.58759,     0.58859,     0.58959,     0.59059,     0.59159,     0.59259,     0.59359,     0.59459,      0.5956,      0.5966,      0.5976,      0.5986,      0.5996,\n",
              "            0.6006,      0.6016,      0.6026,      0.6036,      0.6046,     0.60561,     0.60661,     0.60761,     0.60861,     0.60961,     0.61061,     0.61161,     0.61261,     0.61361,     0.61461,     0.61562,     0.61662,     0.61762,     0.61862,     0.61962,     0.62062,     0.62162,     0.62262,     0.62362,\n",
              "           0.62462,     0.62563,     0.62663,     0.62763,     0.62863,     0.62963,     0.63063,     0.63163,     0.63263,     0.63363,     0.63463,     0.63564,     0.63664,     0.63764,     0.63864,     0.63964,     0.64064,     0.64164,     0.64264,     0.64364,     0.64464,     0.64565,     0.64665,     0.64765,\n",
              "           0.64865,     0.64965,     0.65065,     0.65165,     0.65265,     0.65365,     0.65465,     0.65566,     0.65666,     0.65766,     0.65866,     0.65966,     0.66066,     0.66166,     0.66266,     0.66366,     0.66466,     0.66567,     0.66667,     0.66767,     0.66867,     0.66967,     0.67067,     0.67167,\n",
              "           0.67267,     0.67367,     0.67467,     0.67568,     0.67668,     0.67768,     0.67868,     0.67968,     0.68068,     0.68168,     0.68268,     0.68368,     0.68468,     0.68569,     0.68669,     0.68769,     0.68869,     0.68969,     0.69069,     0.69169,     0.69269,     0.69369,     0.69469,      0.6957,\n",
              "            0.6967,      0.6977,      0.6987,      0.6997,      0.7007,      0.7017,      0.7027,      0.7037,      0.7047,     0.70571,     0.70671,     0.70771,     0.70871,     0.70971,     0.71071,     0.71171,     0.71271,     0.71371,     0.71471,     0.71572,     0.71672,     0.71772,     0.71872,     0.71972,\n",
              "           0.72072,     0.72172,     0.72272,     0.72372,     0.72472,     0.72573,     0.72673,     0.72773,     0.72873,     0.72973,     0.73073,     0.73173,     0.73273,     0.73373,     0.73473,     0.73574,     0.73674,     0.73774,     0.73874,     0.73974,     0.74074,     0.74174,     0.74274,     0.74374,\n",
              "           0.74474,     0.74575,     0.74675,     0.74775,     0.74875,     0.74975,     0.75075,     0.75175,     0.75275,     0.75375,     0.75475,     0.75576,     0.75676,     0.75776,     0.75876,     0.75976,     0.76076,     0.76176,     0.76276,     0.76376,     0.76476,     0.76577,     0.76677,     0.76777,\n",
              "           0.76877,     0.76977,     0.77077,     0.77177,     0.77277,     0.77377,     0.77477,     0.77578,     0.77678,     0.77778,     0.77878,     0.77978,     0.78078,     0.78178,     0.78278,     0.78378,     0.78478,     0.78579,     0.78679,     0.78779,     0.78879,     0.78979,     0.79079,     0.79179,\n",
              "           0.79279,     0.79379,     0.79479,      0.7958,      0.7968,      0.7978,      0.7988,      0.7998,      0.8008,      0.8018,      0.8028,      0.8038,      0.8048,     0.80581,     0.80681,     0.80781,     0.80881,     0.80981,     0.81081,     0.81181,     0.81281,     0.81381,     0.81481,     0.81582,\n",
              "           0.81682,     0.81782,     0.81882,     0.81982,     0.82082,     0.82182,     0.82282,     0.82382,     0.82482,     0.82583,     0.82683,     0.82783,     0.82883,     0.82983,     0.83083,     0.83183,     0.83283,     0.83383,     0.83483,     0.83584,     0.83684,     0.83784,     0.83884,     0.83984,\n",
              "           0.84084,     0.84184,     0.84284,     0.84384,     0.84484,     0.84585,     0.84685,     0.84785,     0.84885,     0.84985,     0.85085,     0.85185,     0.85285,     0.85385,     0.85485,     0.85586,     0.85686,     0.85786,     0.85886,     0.85986,     0.86086,     0.86186,     0.86286,     0.86386,\n",
              "           0.86486,     0.86587,     0.86687,     0.86787,     0.86887,     0.86987,     0.87087,     0.87187,     0.87287,     0.87387,     0.87487,     0.87588,     0.87688,     0.87788,     0.87888,     0.87988,     0.88088,     0.88188,     0.88288,     0.88388,     0.88488,     0.88589,     0.88689,     0.88789,\n",
              "           0.88889,     0.88989,     0.89089,     0.89189,     0.89289,     0.89389,     0.89489,      0.8959,      0.8969,      0.8979,      0.8989,      0.8999,      0.9009,      0.9019,      0.9029,      0.9039,      0.9049,     0.90591,     0.90691,     0.90791,     0.90891,     0.90991,     0.91091,     0.91191,\n",
              "           0.91291,     0.91391,     0.91491,     0.91592,     0.91692,     0.91792,     0.91892,     0.91992,     0.92092,     0.92192,     0.92292,     0.92392,     0.92492,     0.92593,     0.92693,     0.92793,     0.92893,     0.92993,     0.93093,     0.93193,     0.93293,     0.93393,     0.93493,     0.93594,\n",
              "           0.93694,     0.93794,     0.93894,     0.93994,     0.94094,     0.94194,     0.94294,     0.94394,     0.94494,     0.94595,     0.94695,     0.94795,     0.94895,     0.94995,     0.95095,     0.95195,     0.95295,     0.95395,     0.95495,     0.95596,     0.95696,     0.95796,     0.95896,     0.95996,\n",
              "           0.96096,     0.96196,     0.96296,     0.96396,     0.96496,     0.96597,     0.96697,     0.96797,     0.96897,     0.96997,     0.97097,     0.97197,     0.97297,     0.97397,     0.97497,     0.97598,     0.97698,     0.97798,     0.97898,     0.97998,     0.98098,     0.98198,     0.98298,     0.98398,\n",
              "           0.98498,     0.98599,     0.98699,     0.98799,     0.98899,     0.98999,     0.99099,     0.99199,     0.99299,     0.99399,     0.99499,       0.996,       0.997,       0.998,       0.999,           1]), array([[          1,           1,           1, ...,           0,           0,           0],\n",
              "       [          1,           1,           1, ...,           0,           0,           0],\n",
              "       [          1,           1,           1, ...,           0,           0,           0],\n",
              "       [    0.85714,     0.85714,     0.85714, ...,           0,           0,           0]]), 'Confidence', 'Recall']]\n",
              "fitness: np.float64(0.4973075256041639)\n",
              "keys: ['metrics/precision(B)', 'metrics/recall(B)', 'metrics/mAP50(B)', 'metrics/mAP50-95(B)']\n",
              "maps: array([     0.4167,     0.58919,     0.30473,     0.50043])\n",
              "names: {0: 'Aloe Vera', 1: 'Begonia', 2: 'Money Plant', 3: 'Rattlesnake Plant'}\n",
              "nt_per_class: array([6, 6, 6, 7])\n",
              "nt_per_image: array([6, 6, 6, 6])\n",
              "results_dict: {'metrics/precision(B)': np.float64(0.9422140948577652), 'metrics/recall(B)': np.float64(0.855772034859128), 'metrics/mAP50(B)': np.float64(0.8982386314186249), 'metrics/mAP50-95(B)': np.float64(0.4527596249581126), 'fitness': np.float64(0.4973075256041639)}\n",
              "speed: {'preprocess': 0.25150279166534045, 'inference': 14.60793279166713, 'loss': 0.0009163750055070826, 'postprocess': 2.3531426249974174}\n",
              "stats: {'tp': [], 'conf': [], 'pred_cls': [], 'target_cls': [], 'target_img': []}\n",
              "task: 'detect'"
            ]
          },
          "metadata": {},
          "execution_count": 11
        }
      ]
    },
    {
      "cell_type": "code",
      "source": [
        "def display_image(path, title):\n",
        "    if os.path.exists(path):\n",
        "        img = cv2.imread(path)\n",
        "        img = cv2.cvtColor(img, cv2.COLOR_BGR2RGB)\n",
        "        plt.figure(figsize=(8, 6))\n",
        "        plt.imshow(img)\n",
        "        plt.title(title)\n",
        "        plt.axis('off')\n",
        "        plt.show()\n",
        "    else:\n",
        "        print(f\"[⚠️] {title} not found at {path}\")\n",
        "\n"
      ],
      "metadata": {
        "id": "QrFjIgqzWhHh"
      },
      "execution_count": 12,
      "outputs": []
    },
    {
      "cell_type": "code",
      "source": [
        "pr_curve_path = 'runs/detect/train/PR_curve.png'\n",
        "display_image(pr_curve_path, 'PR Curve')\n"
      ],
      "metadata": {
        "colab": {
          "base_uri": "https://localhost:8080/",
          "height": 464
        },
        "id": "ySfd2Y_eXoPh",
        "outputId": "2c8abb57-5798-4650-e104-9522119f27f3"
      },
      "execution_count": 13,
      "outputs": [
        {
          "output_type": "display_data",
          "data": {
            "text/plain": [
              "<Figure size 800x600 with 1 Axes>"
            ],
            "image/png": "[encoded data removed]"
          },
          "metadata": {}
        }
      ]
    },
    {
      "cell_type": "code",
      "source": [
        "conf_matrix_path = 'runs/detect/train/confusion_matrix.png'\n",
        "display_image(conf_matrix_path, 'Confusion Matrix')\n"
      ],
      "metadata": {
        "colab": {
          "base_uri": "https://localhost:8080/",
          "height": 516
        },
        "id": "0F3kH9P9XppM",
        "outputId": "dca736e9-e327-4d84-d6b1-a243bb568d64"
      },
      "execution_count": 15,
      "outputs": [
        {
          "output_type": "display_data",
          "data": {
            "text/plain": [
              "<Figure size 800x600 with 1 Axes>"
            ],
            "image/png": "[encoded data removed]"
          },
          "metadata": {}
        }
      ]
    },
    {
      "cell_type": "code",
      "source": [
        "f1_curve_path = 'runs/detect/train/F1_curve.png'\n",
        "display_image(f1_curve_path, 'F1 Curve')\n"
      ],
      "metadata": {
        "colab": {
          "base_uri": "https://localhost:8080/",
          "height": 464
        },
        "id": "ASx80fRTXtc_",
        "outputId": "eb7a7303-2e62-42d1-effc-671954033db8"
      },
      "execution_count": 14,
      "outputs": [
        {
          "output_type": "display_data",
          "data": {
            "text/plain": [
              "<Figure size 800x600 with 1 Axes>"
            ],
            "image/png": "[encoded data removed]"
          },
          "metadata": {}
        }
      ]
    },
    {
      "cell_type": "code",
      "source": [
        "# Load your trained model (best weights from training)\n",
        "model = YOLO('runs/detect/train/weights/best.pt')\n",
        "# Export to ONNX (optional)\n",
        "model.export(format='onnx')  # Creates runs/detect/train/weights/best.onnx"
      ],
      "metadata": {
        "colab": {
          "base_uri": "https://localhost:8080/",
          "height": 419
        },
        "id": "mThc-E2sgBp8",
        "outputId": "3e6d0e44-c235-496f-c7de-b711515ad0e7"
      },
      "execution_count": 17,
      "outputs": [
        {
          "output_type": "stream",
          "name": "stdout",
          "text": [
            "Ultralytics 8.3.155 🚀 Python-3.11.13 torch-2.6.0+cu124 CPU (Intel Xeon 2.00GHz)\n",
            "💡 ProTip: Export to OpenVINO format for best performance on Intel CPUs. Learn more at https://docs.ultralytics.com/integrations/openvino/\n",
            "YOLO11n summary (fused): 100 layers, 2,582,932 parameters, 0 gradients, 6.3 GFLOPs\n",
            "\n",
            "\u001b[34m\u001b[1mPyTorch:\u001b[0m starting from 'runs/detect/train/weights/best.pt' with input shape (1, 3, 640, 640) BCHW and output shape(s) (1, 8, 8400) (5.2 MB)\n",
            "\u001b[31m\u001b[1mrequirements:\u001b[0m Ultralytics requirements ['onnx>=1.12.0,<1.18.0', 'onnxslim>=0.1.56', 'onnxruntime-gpu'] not found, attempting AutoUpdate...\n",
            "\n",
            "\u001b[31m\u001b[1mrequirements:\u001b[0m AutoUpdate success ✅ 8.1s\n",
            "WARNING ⚠️ \u001b[31m\u001b[1mrequirements:\u001b[0m \u001b[1mRestart runtime or rerun command for updates to take effect\u001b[0m\n",
            "\n",
            "\n",
            "\u001b[34m\u001b[1mONNX:\u001b[0m starting export with onnx 1.17.0 opset 19...\n",
            "\u001b[34m\u001b[1mONNX:\u001b[0m slimming with onnxslim 0.1.57...\n",
            "\u001b[34m\u001b[1mONNX:\u001b[0m export success ✅ 10.3s, saved as 'runs/detect/train/weights/best.onnx' (10.1 MB)\n",
            "\n",
            "Export complete (10.9s)\n",
            "Results saved to \u001b[1m/content/runs/detect/train/weights\u001b[0m\n",
            "Predict:         yolo predict task=detect model=runs/detect/train/weights/best.onnx imgsz=640  \n",
            "Validate:        yolo val task=detect model=runs/detect/train/weights/best.onnx imgsz=640 data=/content/plant_detection/data.yaml  \n",
            "Visualize:       https://netron.app\n"
          ]
        },
        {
          "output_type": "execute_result",
          "data": {
            "text/plain": [
              "'runs/detect/train/weights/best.onnx'"
            ],
            "application/vnd.google.colaboratory.intrinsic+json": {
              "type": "string"
            }
          },
          "metadata": {},
          "execution_count": 17
        }
      ]
    },
    {
      "cell_type": "code",
      "source": [
        "import os\n",
        "os.listdir()\n"
      ],
      "metadata": {
        "colab": {
          "base_uri": "https://localhost:8080/"
        },
        "id": "owXEukOJghk0",
        "outputId": "d3a419db-c5ab-4b80-a05c-2b21a9c86b34"
      },
      "execution_count": 20,
      "outputs": [
        {
          "output_type": "execute_result",
          "data": {
            "text/plain": [
              "['.config', 'yolo11n.pt', 'plant_detection', 'runs', 'drive', 'sample_data']"
            ]
          },
          "metadata": {},
          "execution_count": 20
        }
      ]
    },
    {
      "cell_type": "code",
      "source": [
        "os.listdir('plant_detection')\n"
      ],
      "metadata": {
        "colab": {
          "base_uri": "https://localhost:8080/"
        },
        "id": "6ZPi8JCWgwLD",
        "outputId": "bf4366c6-7212-41c6-fcfc-019f11695390"
      },
      "execution_count": 21,
      "outputs": [
        {
          "output_type": "execute_result",
          "data": {
            "text/plain": [
              "['README.dataset.txt',\n",
              " 'data.yaml',\n",
              " 'test',\n",
              " 'train',\n",
              " 'README.roboflow.txt',\n",
              " 'valid']"
            ]
          },
          "metadata": {},
          "execution_count": 21
        }
      ]
    },
    {
      "cell_type": "code",
      "source": [
        "# Run prediction\n",
        "results = model.predict(source='plant_detection/test/images/', save=True, conf=0.25)\n",
        "\n",
        "# Output images will be saved under a new folder like runs/detect/predict or predict2 etc.\n"
      ],
      "metadata": {
        "colab": {
          "base_uri": "https://localhost:8080/"
        },
        "id": "vlt4VdRAgRXg",
        "outputId": "7125da56-7267-4a47-db21-4f8ea042525f"
      },
      "execution_count": 22,
      "outputs": [
        {
          "output_type": "stream",
          "name": "stdout",
          "text": [
            "\n",
            "image 1/12 /content/plant_detection/test/images/181_jpg.rf.d0109e712764f895f45c19d025792917.jpg: 640x640 1 Rattlesnake Plant, 17.9ms\n",
            "image 2/12 /content/plant_detection/test/images/205_jpg.rf.0d1af251db4d0db8f30ec10013596edf.jpg: 640x640 1 Rattlesnake Plant, 12.5ms\n",
            "image 3/12 /content/plant_detection/test/images/209_jpg.rf.7245271bb881faedfcde59424e080b0a.jpg: 640x640 1 Rattlesnake Plant, 12.2ms\n",
            "image 4/12 /content/plant_detection/test/images/225_jpg.rf.d2b01c0398c4a0f83ddca47cfb401db5.jpg: 640x640 1 Money Plant, 18.6ms\n",
            "image 5/12 /content/plant_detection/test/images/22_jpg.rf.f1620e184b638f5a9704cf530a7294bb.jpg: 640x640 1 Aloe Vera, 16.4ms\n",
            "image 6/12 /content/plant_detection/test/images/240_jpg.rf.51590dde70dd5542c567571a89def131.jpg: 640x640 1 Money Plant, 24.0ms\n",
            "image 7/12 /content/plant_detection/test/images/246_jpg.rf.508ae47def11b2f8d0bd7b454f7d5032.jpg: 640x640 1 Money Plant, 14.3ms\n",
            "image 8/12 /content/plant_detection/test/images/42_jpg.rf.ca827dd7e1cc51ec65ccf52b05e659c3.jpg: 640x640 1 Aloe Vera, 18.8ms\n",
            "image 9/12 /content/plant_detection/test/images/4_jpg.rf.3d2cf3dda57cbb2972aa4847a9c8b95a.jpg: 640x640 1 Aloe Vera, 11.9ms\n",
            "image 10/12 /content/plant_detection/test/images/b36_jpg.rf.577a3e3407b7bf1a424b9d7f8bb9ed14.jpg: 640x640 1 Begonia, 11.5ms\n",
            "image 11/12 /content/plant_detection/test/images/b4_jpg.rf.9bd9af4631a30eafcd8d7f04ca2b8ea7.jpg: 640x640 2 Begonias, 11.7ms\n",
            "image 12/12 /content/plant_detection/test/images/b7_jpg.rf.fd4d33ef30449942ea59919c50cb06f6.jpg: 640x640 1 Begonia, 11.3ms\n",
            "Speed: 2.7ms preprocess, 15.1ms inference, 2.1ms postprocess per image at shape (1, 3, 640, 640)\n",
            "Results saved to \u001b[1mruns/detect/predict\u001b[0m\n"
          ]
        }
      ]
    },
    {
      "cell_type": "code",
      "source": [
        "# Zip the runs directory\n",
        "!zip -r runs.zip runs\n",
        "\n",
        "# Download the zip\n",
        "from google.colab import files\n",
        "files.download('runs.zip')\n"
      ],
      "metadata": {
        "colab": {
          "base_uri": "https://localhost:8080/",
          "height": 1000
        },
        "id": "4d61NOWVgOUG",
        "outputId": "e9366f5e-5315-489a-f02e-cf08a57e9a51"
      },
      "execution_count": 23,
      "outputs": [
        {
          "output_type": "stream",
          "name": "stdout",
          "text": [
            "  adding: runs/ (stored 0%)\n",
            "  adding: runs/detect/ (stored 0%)\n",
            "  adding: runs/detect/train/ (stored 0%)\n",
            "  adding: runs/detect/train/R_curve.png (deflated 11%)\n",
            "  adding: runs/detect/train/train_batch1.jpg (deflated 5%)\n",
            "  adding: runs/detect/train/results.png (deflated 6%)\n",
            "  adding: runs/detect/train/train_batch2.jpg (deflated 4%)\n",
            "  adding: runs/detect/train/train_batch80.jpg (deflated 5%)\n",
            "  adding: runs/detect/train/weights/ (stored 0%)\n",
            "  adding: runs/detect/train/weights/best.onnx (deflated 13%)\n",
            "  adding: runs/detect/train/weights/last.pt (deflated 10%)\n",
            "  adding: runs/detect/train/weights/best.pt (deflated 10%)\n",
            "  adding: runs/detect/train/val_batch0_labels.jpg (deflated 8%)\n",
            "  adding: runs/detect/train/args.yaml (deflated 52%)\n",
            "  adding: runs/detect/train/F1_curve.png (deflated 8%)\n",
            "  adding: runs/detect/train/train_batch0.jpg (deflated 8%)\n",
            "  adding: runs/detect/train/confusion_matrix.png (deflated 28%)\n",
            "  adding: runs/detect/train/confusion_matrix_normalized.png (deflated 25%)\n",
            "  adding: runs/detect/train/labels.jpg (deflated 36%)\n",
            "  adding: runs/detect/train/val_batch0_pred.jpg (deflated 8%)\n",
            "  adding: runs/detect/train/P_curve.png (deflated 12%)\n",
            "  adding: runs/detect/train/results.csv (deflated 56%)\n",
            "  adding: runs/detect/train/train_batch82.jpg (deflated 6%)\n",
            "  adding: runs/detect/train/PR_curve.png (deflated 20%)\n",
            "  adding: runs/detect/train/labels_correlogram.jpg (deflated 43%)\n",
            "  adding: runs/detect/train/train_batch81.jpg (deflated 7%)\n",
            "  adding: runs/detect/predict/ (stored 0%)\n",
            "  adding: runs/detect/predict/4_jpg.rf.3d2cf3dda57cbb2972aa4847a9c8b95a.jpg (deflated 6%)\n",
            "  adding: runs/detect/predict/b36_jpg.rf.577a3e3407b7bf1a424b9d7f8bb9ed14.jpg (deflated 14%)\n",
            "  adding: runs/detect/predict/42_jpg.rf.ca827dd7e1cc51ec65ccf52b05e659c3.jpg (deflated 5%)\n",
            "  adding: runs/detect/predict/b4_jpg.rf.9bd9af4631a30eafcd8d7f04ca2b8ea7.jpg (deflated 3%)\n",
            "  adding: runs/detect/predict/22_jpg.rf.f1620e184b638f5a9704cf530a7294bb.jpg (deflated 6%)\n",
            "  adding: runs/detect/predict/b7_jpg.rf.fd4d33ef30449942ea59919c50cb06f6.jpg (deflated 9%)\n",
            "  adding: runs/detect/predict/205_jpg.rf.0d1af251db4d0db8f30ec10013596edf.jpg (deflated 4%)\n",
            "  adding: runs/detect/predict/240_jpg.rf.51590dde70dd5542c567571a89def131.jpg (deflated 4%)\n",
            "  adding: runs/detect/predict/246_jpg.rf.508ae47def11b2f8d0bd7b454f7d5032.jpg (deflated 4%)\n",
            "  adding: runs/detect/predict/209_jpg.rf.7245271bb881faedfcde59424e080b0a.jpg (deflated 6%)\n",
            "  adding: runs/detect/predict/225_jpg.rf.d2b01c0398c4a0f83ddca47cfb401db5.jpg (deflated 6%)\n",
            "  adding: runs/detect/predict/181_jpg.rf.d0109e712764f895f45c19d025792917.jpg (deflated 11%)\n",
            "  adding: runs/detect/train2/ (stored 0%)\n",
            "  adding: runs/detect/train2/R_curve.png (deflated 11%)\n",
            "  adding: runs/detect/train2/labels/ (stored 0%)\n",
            "  adding: runs/detect/train2/labels/10_jpg.rf.e52e3508576471938fcf6387b459dd22.txt (deflated 68%)\n",
            "  adding: runs/detect/train2/labels/201_jpg.rf.4e655fe6dfcca56215b2861c9b2d4b7a.txt (deflated 68%)\n",
            "  adding: runs/detect/train2/labels/b30_jpg.rf.30a998f7ba1d17c042fa3a7c2fd127d7.txt (deflated 69%)\n",
            "  adding: runs/detect/train2/labels/188_jpg.rf.8044560c51416eb464cf2f20cac6603d.txt (deflated 68%)\n",
            "  adding: runs/detect/train2/labels/224_jpg.rf.ee174f08a88d98ef43b90dc20fcd47f7.txt (deflated 67%)\n",
            "  adding: runs/detect/train2/labels/b3_jpg.rf.8765dd332bbd4637a9afe00bf49c43a8.txt (deflated 67%)\n",
            "  adding: runs/detect/train2/labels/b29_jpg.rf.729f708341267cabc3640c020d4db010.txt (deflated 67%)\n",
            "  adding: runs/detect/train2/labels/b10_jpg.rf.a2d8956053ade963e06496000ea29527.txt (deflated 67%)\n",
            "  adding: runs/detect/train2/labels/204_jpg.rf.d50edf50bd474fcf7269426b1e77b3c7.txt (deflated 68%)\n",
            "  adding: runs/detect/train2/labels/244_jpg.rf.f1cc2a28b7cc1d989958a2c87e490399.txt (deflated 67%)\n",
            "  adding: runs/detect/train2/labels/228_jpg.rf.b5afba0b1acaa518fbdca73d8cf590eb.txt (deflated 69%)\n",
            "  adding: runs/detect/train2/labels/9_jpg.rf.5e1ce4bfc726c6f13b72585099e93143.txt (deflated 67%)\n",
            "  adding: runs/detect/train2/labels/b13_jpg.rf.2f37f5f5085383764f88cb6c9e3ccc02.txt (deflated 69%)\n",
            "  adding: runs/detect/train2/labels/191_jpg.rf.7c5f1dfd9bced60a7e6d461b0648a165.txt (deflated 67%)\n",
            "  adding: runs/detect/train2/labels/b20_jpg.rf.d74cfa3362f0bfb5f31dda0a1e7522ce.txt (deflated 67%)\n",
            "  adding: runs/detect/train2/labels/36_jpg.rf.1f90d0802caf02aa747b6907dab8da8c.txt (deflated 67%)\n",
            "  adding: runs/detect/train2/labels/238_jpg.rf.74beaa231b1d0e4f57a194fd3eaf1622.txt (deflated 68%)\n",
            "  adding: runs/detect/train2/labels/245_jpg.rf.53c38176310910f0e517985063a63d7a.txt (deflated 67%)\n",
            "  adding: runs/detect/train2/labels/34_jpg.rf.1bec66086081a988fd499ab227a4f856.txt (deflated 67%)\n",
            "  adding: runs/detect/train2/labels/images-5-_jpg.rf.469301019f83f19f87fc6ae75d48c8bd.txt (deflated 68%)\n",
            "  adding: runs/detect/train2/labels/3_png.rf.c10f85412bc6f33104f0a63c74fbf956.txt (deflated 68%)\n",
            "  adding: runs/detect/train2/labels/213_jpg.rf.a2172189c3099af2933b832b9023129b.txt (deflated 68%)\n",
            "  adding: runs/detect/train2/labels/210_jpg.rf.92aaa94efeeb5ddbf5317cc361174203.txt (deflated 68%)\n",
            "  adding: runs/detect/train2/labels/16_jpg.rf.4c26aabca6aa4221162a1b7fb236c702.txt (deflated 69%)\n",
            "  adding: runs/detect/train2/val_batch1_labels.jpg (deflated 11%)\n",
            "  adding: runs/detect/train2/val_batch0_labels.jpg (deflated 8%)\n",
            "  adding: runs/detect/train2/F1_curve.png (deflated 8%)\n",
            "  adding: runs/detect/train2/confusion_matrix.png (deflated 28%)\n",
            "  adding: runs/detect/train2/confusion_matrix_normalized.png (deflated 25%)\n",
            "  adding: runs/detect/train2/val_batch0_pred.jpg (deflated 8%)\n",
            "  adding: runs/detect/train2/P_curve.png (deflated 11%)\n",
            "  adding: runs/detect/train2/PR_curve.png (deflated 19%)\n",
            "  adding: runs/detect/train2/val_batch1_pred.jpg (deflated 11%)\n"
          ]
        },
        {
          "output_type": "display_data",
          "data": {
            "text/plain": [
              "<IPython.core.display.Javascript object>"
            ],
            "application/javascript": [
              "\n",
              "    async function download(id, filename, size) {\n",
              "      if (!google.colab.kernel.accessAllowed) {\n",
              "        return;\n",
              "      }\n",
              "      const div = document.createElement('div');\n",
              "      const label = document.createElement('label');\n",
              "      label.textContent = `Downloading \"${filename}\": `;\n",
              "      div.appendChild(label);\n",
              "      const progress = document.createElement('progress');\n",
              "      progress.max = size;\n",
              "      div.appendChild(progress);\n",
              "      document.body.appendChild(div);\n",
              "\n",
              "      const buffers = [];\n",
              "      let downloaded = 0;\n",
              "\n",
              "      const channel = await google.colab.kernel.comms.open(id);\n",
              "      // Send a message to notify the kernel that we're ready.\n",
              "      channel.send({})\n",
              "\n",
              "      for await (const message of channel.messages) {\n",
              "        // Send a message to notify the kernel that we're ready.\n",
              "        channel.send({})\n",
              "        if (message.buffers) {\n",
              "          for (const buffer of message.buffers) {\n",
              "            buffers.push(buffer);\n",
              "            downloaded += buffer.byteLength;\n",
              "            progress.value = downloaded;\n",
              "          }\n",
              "        }\n",
              "      }\n",
              "      const blob = new Blob(buffers, {type: 'application/binary'});\n",
              "      const a = document.createElement('a');\n",
              "      a.href = window.URL.createObjectURL(blob);\n",
              "      a.download = filename;\n",
              "      div.appendChild(a);\n",
              "      a.click();\n",
              "      div.remove();\n",
              "    }\n",
              "  "
            ]
          },
          "metadata": {}
        },
        {
          "output_type": "display_data",
          "data": {
            "text/plain": [
              "<IPython.core.display.Javascript object>"
            ],
            "application/javascript": [
              "download(\"download_297713b4-135c-4069-9ae3-2aada8a2517b\", \"runs.zip\", 29113513)"
            ]
          },
          "metadata": {}
        }
      ]
    }
  ]
}